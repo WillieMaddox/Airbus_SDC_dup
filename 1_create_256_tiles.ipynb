{
 "cells": [
  {
   "cell_type": "code",
   "execution_count": null,
   "metadata": {},
   "outputs": [],
   "source": [
    "import os\n",
    "from collections import Counter\n",
    "import numpy as np\n",
    "import cv2\n",
    "from tqdm import tqdm_notebook\n",
    "from sdcdup.utils import get_project_root\n",
    "from sdcdup.utils import get_tile\n",
    "from sdcdup.utils import fuzzy_diff\n",
    "\n",
    "%load_ext dotenv\n",
    "%dotenv\n",
    "\n",
    "n_tiles = 9\n",
    "project_root = get_project_root()\n",
    "train_image_dir = os.path.join(project_root, os.getenv('RAW_DATA_DIR'), 'train_768')\n",
    "train_tile_dir = os.path.join(project_root, os.getenv('PROCESSED_DATA_DIR'), 'train_256')\n",
    "\n",
    "os.makedirs(train_tile_dir, exist_ok=True)\n",
    "\n",
    "img_ids = os.listdir(train_image_dir)\n",
    "len(img_ids)"
   ]
  },
  {
   "cell_type": "markdown",
   "metadata": {},
   "source": [
    "## Create the image tiles"
   ]
  },
  {
   "cell_type": "code",
   "execution_count": null,
   "metadata": {},
   "outputs": [],
   "source": [
    "for img_id in tqdm_notebook(img_ids):\n",
    "    img = cv2.imread(os.path.join(train_image_dir, img_id))\n",
    "    filebase, fileext = img_id.split('.')\n",
    "    for idx in range(n_tiles):\n",
    "        tile_id = f'{filebase}_{idx}.{fileext}'\n",
    "        tile = get_tile(img, idx)\n",
    "        cv2.imwrite(os.path.join(train_tile_dir, tile_id), tile)"
   ]
  },
  {
   "cell_type": "markdown",
   "metadata": {},
   "source": [
    "## Double check that tiles are near identical copies of parent\n",
    "This is just a sanity check on jpg compression.  It's not necessary to run this, but it will give you the percentage of tiles that were converted exactly."
   ]
  },
  {
   "cell_type": "code",
   "execution_count": null,
   "metadata": {},
   "outputs": [],
   "source": [
    "n_exact_matches = 0\n",
    "per_image_matches = [0]*n_tiles\n",
    "exact_matches = [0]*n_tiles\n",
    "diff_counts = Counter()\n",
    "for ii, img_id in enumerate(tqdm_notebook(img_ids)):\n",
    "    img = cv2.imread(os.path.join(train_image_dir, img_id))\n",
    "    filebase, fileext = img_id.split('.')\n",
    "    n_matches_per_image = 0\n",
    "    for idx in range(n_tiles):\n",
    "        tile_id = f'{filebase}_{idx}.{fileext}'\n",
    "        tile = cv2.imread(os.path.join(train_tile_dir, tile_id))\n",
    "        if np.all(tile == get_tile(img, idx)):\n",
    "            n_exact_matches += 1\n",
    "            exact_matches[idx] += 1\n",
    "            n_matches_per_image += 1\n",
    "        else:\n",
    "            diff = fuzzy_diff(tile, get_tile(img, idx))\n",
    "            diff_counts[int(diff // 10000)] += 1\n",
    "                \n",
    "    per_image_matches[n_matches_per_image] += 1\n",
    "\n",
    "    if ii % 1000 == 0:\n",
    "        print(f'{ii:>6} {n_exact_matches:>6} {exact_matches} {per_image_matches}')\n",
    "        \n",
    "print(f'{diff_counts}')"
   ]
  }
 ],
 "metadata": {
  "kernelspec": {
   "display_name": "Python 3",
   "language": "python",
   "name": "python3"
  },
  "language_info": {
   "codemirror_mode": {
    "name": "ipython",
    "version": 3
   },
   "file_extension": ".py",
   "mimetype": "text/x-python",
   "name": "python",
   "nbconvert_exporter": "python",
   "pygments_lexer": "ipython3",
   "version": "3.6.6"
  }
 },
 "nbformat": 4,
 "nbformat_minor": 1
}
