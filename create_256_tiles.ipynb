{
 "cells": [
  {
   "cell_type": "code",
   "execution_count": null,
   "metadata": {},
   "outputs": [],
   "source": [
    "import os\n",
    "from collections import Counter\n",
    "import numpy as np\n",
    "import cv2\n",
    "from tqdm import tqdm_notebook\n",
    "\n",
    "ij_pairs_3x3 = ((0, 0), (0, 1), (0, 2),\n",
    "                (1, 0), (1, 1), (1, 2),\n",
    "                (2, 0), (2, 1), (2, 2))\n",
    "sz = 256\n",
    "ship_dir = \"data/input/\"\n",
    "train_768_dir = os.path.join(\"data\", \"train_768\")\n",
    "train_256_dir = os.path.join(ship_dir, 'train_256')\n",
    "os.makedirs(train_256_dir, exist_ok=True)\n",
    "\n",
    "img_ids = os.listdir(train_768_dir)\n",
    "len(img_ids)"
   ]
  },
  {
   "cell_type": "code",
   "execution_count": null,
   "metadata": {},
   "outputs": [],
   "source": [
    "def get_tile(img, i, j, sz=256):\n",
    "    return img[i * sz:(i + 1) * sz, j * sz:(j + 1) * sz, :]"
   ]
  },
  {
   "cell_type": "markdown",
   "metadata": {},
   "source": [
    "## Create the image tiles"
   ]
  },
  {
   "cell_type": "code",
   "execution_count": null,
   "metadata": {},
   "outputs": [],
   "source": [
    "for img_id in tqdm_notebook(img_ids):\n",
    "    img = cv2.imread(os.path.join(train_768_dir, img_id))\n",
    "    filebase, fileext = img_id.split('.')\n",
    "    for idx, (i, j) in enumerate(ij_pairs_3x3):\n",
    "        tile_id = f'{filebase}_{idx}.{fileext}'\n",
    "        tile = get_tile(img, i, j)\n",
    "        cv2.imwrite(os.path.join(train_256_dir, tile_id), tile)"
   ]
  },
  {
   "cell_type": "markdown",
   "metadata": {},
   "source": [
    "## Check that tiles are exact copies of parent (sanity check on jpg compression)"
   ]
  },
  {
   "cell_type": "code",
   "execution_count": null,
   "metadata": {},
   "outputs": [],
   "source": [
    "def fuzzy_diff(tile1, tile2):\n",
    "    maxab = np.max(np.stack([tile1, tile2]), axis=0)\n",
    "    a = maxab - tile2\n",
    "    b = maxab - tile1\n",
    "    ab = a + b\n",
    "    return np.sum(ab)\n",
    "\n",
    "ii = 0\n",
    "img_matches = Counter()\n",
    "tile_matches = Counter()\n",
    "diff_counts = Counter()\n",
    "for img_id in tqdm_notebook(img_ids):\n",
    "    ii += 1\n",
    "    img = cv2.imread(os.path.join(train_768_dir, img_id))\n",
    "    filebase, fileext = img_id.split('.')\n",
    "    n_matches = 0\n",
    "    for idx, (i, j) in enumerate(ij_pairs_3x3):\n",
    "        tile_id = f'{filebase}_{idx}.{fileext}'\n",
    "        tile = cv2.imread(os.path.join(train_256_dir, tile_id))\n",
    "        if np.all(tile == get_tile(img, i, j)):\n",
    "            tile_matches[idx] += 1\n",
    "            n_matches += 1\n",
    "        else:\n",
    "            diff = fuzzy_diff(tile, get_tile(img, i, j))\n",
    "            diff_counts[diff // 1000] += 1\n",
    "                \n",
    "    img_matches[n_matches] += 1\n",
    "\n",
    "    if ii % 1000 == 0:\n",
    "        print(f'{ii:>6} {img_matches}')\n",
    "        print(f'{len(diff_counts):>6} {diff_counts}')"
   ]
  }
 ],
 "metadata": {
  "kernelspec": {
   "display_name": "Python 3",
   "language": "python",
   "name": "python3"
  },
  "language_info": {
   "codemirror_mode": {
    "name": "ipython",
    "version": 3
   },
   "file_extension": ".py",
   "mimetype": "text/x-python",
   "name": "python",
   "nbconvert_exporter": "python",
   "pygments_lexer": "ipython3",
   "version": "3.6.6"
  }
 },
 "nbformat": 4,
 "nbformat_minor": 1
}
