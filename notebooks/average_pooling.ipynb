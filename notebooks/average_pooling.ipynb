{
 "cells": [
  {
   "cell_type": "code",
   "execution_count": null,
   "metadata": {},
   "outputs": [],
   "source": [
    "import time\n",
    "import numpy as np\n",
    "from skimage.measure import block_reduce"
   ]
  },
  {
   "cell_type": "markdown",
   "metadata": {},
   "source": [
    "## Average Pooling"
   ]
  },
  {
   "cell_type": "code",
   "execution_count": null,
   "metadata": {},
   "outputs": [],
   "source": [
    "def block_reduce_np(a, K, L):\n",
    "    M, N = a.shape\n",
    "    MK = M // K\n",
    "    NL = N // L\n",
    "    return np.median(a[:MK*K, :NL*L].reshape(MK, K, NL, L), axis=(1, 3))\n",
    "\n",
    "def block_reduce0(n, k):\n",
    "    a = np.random.randint(0, 255, (n, n))\n",
    "    block_reduce(a, (k, k), np.median).astype(np.uint8)\n",
    "    \n",
    "def block_reduce1(n, k):\n",
    "    a = np.random.randint(0, 255, (n, n))\n",
    "    block_reduce_np(a, k, k).astype(np.uint8)"
   ]
  },
  {
   "cell_type": "code",
   "execution_count": null,
   "metadata": {},
   "outputs": [],
   "source": [
    "array_size = 256\n",
    "kernel_size = 16\n",
    "\n",
    "a = np.random.randint(0, 255, (array_size, array_size))\n",
    "br_sk = block_reduce(a, (kernel_size, kernel_size), np.median).astype(np.uint8)\n",
    "br_np = block_reduce_np(a, kernel_size, kernel_size).astype(np.uint8)\n",
    "assert(np.all(br_sk == br_np))\n",
    "br_sk.shape"
   ]
  },
  {
   "cell_type": "code",
   "execution_count": null,
   "metadata": {},
   "outputs": [],
   "source": [
    "t0 = time.time()\n",
    "for _ in range(1_000):\n",
    "    block_reduce0(array_size, kernel_size)\n",
    "print(time.time() - t0)"
   ]
  },
  {
   "cell_type": "code",
   "execution_count": null,
   "metadata": {},
   "outputs": [],
   "source": [
    "t0 = time.time()\n",
    "for _ in range(1_000):\n",
    "    block_reduce1(array_size, kernel_size)\n",
    "print(time.time() - t0)"
   ]
  },
  {
   "cell_type": "code",
   "execution_count": null,
   "metadata": {},
   "outputs": [],
   "source": [
    "a44 = np.array([\n",
    "    [185, 97, 71,239],\n",
    "    [166,100,146, 41],\n",
    "    [ 81,247,210,107],\n",
    "    [217,207,129,189]\n",
    "])"
   ]
  },
  {
   "cell_type": "code",
   "execution_count": null,
   "metadata": {},
   "outputs": [],
   "source": [
    "br_sk = block_reduce(a44, (2, 2), np.median).astype(np.uint8)\n",
    "br_np = block_reduce_np(a44, 2, 2).astype(np.uint8)\n",
    "assert(np.all(br_sk == br_np))"
   ]
  },
  {
   "cell_type": "code",
   "execution_count": null,
   "metadata": {},
   "outputs": [],
   "source": [
    "def block_reduce_np3(a, K, L):\n",
    "    M, N, C = a.shape\n",
    "    MK = M // K\n",
    "    NL = N // L\n",
    "#     return a[:MK*K, :NL*L, :].reshape(MK, K, NL, L, C).median(axis=(1, 3))\n",
    "    return np.median(a[:MK*K, :NL*L, :].reshape(MK, K, NL, L, C), axis=(1, 3))"
   ]
  },
  {
   "cell_type": "code",
   "execution_count": null,
   "metadata": {},
   "outputs": [],
   "source": [
    "a443 = np.array([\n",
    "    [[185, 252, 154],\n",
    "     [ 97,  13,  87],\n",
    "     [ 71,  68,   0],\n",
    "     [239, 225, 159]],\n",
    "    \n",
    "    [[166, 117, 249],\n",
    "     [100, 118,  29],\n",
    "     [146, 248,  78],\n",
    "     [ 41,   0, 160]],\n",
    "    \n",
    "    [[ 81, 186, 143],\n",
    "     [247, 133, 148],\n",
    "     [210, 104,  81],\n",
    "     [107,  69, 177]],\n",
    "    \n",
    "    [[217, 184, 146],\n",
    "     [207, 193, 218],\n",
    "     [129, 105,  38],\n",
    "     [189,  87,  21]]\n",
    "])"
   ]
  },
  {
   "cell_type": "code",
   "execution_count": null,
   "metadata": {},
   "outputs": [],
   "source": [
    "br_sk = block_reduce(a443, (2, 2, 1), np.median).astype(np.uint8)\n",
    "br_np = block_reduce_np3(a443, 2, 2).astype(np.uint8)\n",
    "assert(np.all(br_sk == br_np))"
   ]
  },
  {
   "cell_type": "code",
   "execution_count": null,
   "metadata": {},
   "outputs": [],
   "source": [
    "br_sk"
   ]
  },
  {
   "cell_type": "code",
   "execution_count": null,
   "metadata": {},
   "outputs": [],
   "source": [
    "br_np"
   ]
  },
  {
   "cell_type": "code",
   "execution_count": null,
   "metadata": {},
   "outputs": [],
   "source": [
    "def block_reduce0(n, k):\n",
    "    a = np.random.randint(0, 255, (n, n, 3))\n",
    "    block_reduce(a, (k, k, 1), np.median).astype(np.uint8)\n",
    "\n",
    "def block_reduce1(n, k):\n",
    "    a = np.random.randint(0, 255, (n, n, 3))\n",
    "    block_reduce_np3(a, k, k).astype(np.uint8)"
   ]
  },
  {
   "cell_type": "code",
   "execution_count": null,
   "metadata": {},
   "outputs": [],
   "source": [
    "array_size = 256\n",
    "kernel_size = 16"
   ]
  },
  {
   "cell_type": "code",
   "execution_count": null,
   "metadata": {},
   "outputs": [],
   "source": [
    "a = np.random.randint(0, 255, (array_size, array_size, 3))\n",
    "br_sk = block_reduce(a, (kernel_size, kernel_size, 1), np.median)\n",
    "br_np = block_reduce_np3(a, kernel_size, kernel_size)\n",
    "assert(np.all(br_sk == br_np))\n",
    "br_np.shape"
   ]
  },
  {
   "cell_type": "code",
   "execution_count": null,
   "metadata": {},
   "outputs": [],
   "source": [
    "br_np768 = br_np.reshape(768)\n",
    "br_np768.shape"
   ]
  },
  {
   "cell_type": "code",
   "execution_count": null,
   "metadata": {},
   "outputs": [],
   "source": [
    "t0 = time.time()\n",
    "for _ in range(1_000):\n",
    "    block_reduce0(array_size, kernel_size)\n",
    "print(time.time() - t0)"
   ]
  },
  {
   "cell_type": "code",
   "execution_count": null,
   "metadata": {},
   "outputs": [],
   "source": [
    "t0 = time.time()\n",
    "for _ in range(1_000):\n",
    "    block_reduce1(array_size, kernel_size)\n",
    "print(time.time() - t0)"
   ]
  }
 ],
 "metadata": {
  "kernelspec": {
   "display_name": "Python 3",
   "language": "python",
   "name": "python3"
  },
  "language_info": {
   "codemirror_mode": {
    "name": "ipython",
    "version": 3
   },
   "file_extension": ".py",
   "mimetype": "text/x-python",
   "name": "python",
   "nbconvert_exporter": "python",
   "pygments_lexer": "ipython3",
   "version": "3.6.9"
  },
  "latex_envs": {
   "LaTeX_envs_menu_present": true,
   "autoclose": false,
   "autocomplete": true,
   "bibliofile": "biblio.bib",
   "cite_by": "apalike",
   "current_citInitial": 1,
   "eqLabelWithNumbers": true,
   "eqNumInitial": 1,
   "hotkeys": {
    "equation": "Ctrl-E",
    "itemize": "Ctrl-I"
   },
   "labels_anchors": false,
   "latex_user_defs": false,
   "report_style_numbering": false,
   "user_envs_cfg": false
  },
  "pycharm": {
   "stem_cell": {
    "cell_type": "raw",
    "metadata": {
     "collapsed": false
    },
    "source": []
   }
  },
  "varInspector": {
   "cols": {
    "lenName": 16,
    "lenType": 16,
    "lenVar": 40
   },
   "kernels_config": {
    "python": {
     "delete_cmd_postfix": "",
     "delete_cmd_prefix": "del ",
     "library": "var_list.py",
     "varRefreshCmd": "print(var_dic_list())"
    },
    "r": {
     "delete_cmd_postfix": ") ",
     "delete_cmd_prefix": "rm(",
     "library": "var_list.r",
     "varRefreshCmd": "cat(var_dic_list()) "
    }
   },
   "types_to_exclude": [
    "module",
    "function",
    "builtin_function_or_method",
    "instance",
    "_Feature"
   ],
   "window_display": false
  }
 },
 "nbformat": 4,
 "nbformat_minor": 1
}
