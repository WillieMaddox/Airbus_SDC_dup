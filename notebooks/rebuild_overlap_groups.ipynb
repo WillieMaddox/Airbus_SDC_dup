{
 "cells": [
  {
   "cell_type": "code",
   "execution_count": null,
   "metadata": {
    "scrolled": true
   },
   "outputs": [],
   "source": [
    "import os\n",
    "import gc\n",
    "import json\n",
    "from collections import Counter\n",
    "from collections import defaultdict\n",
    "\n",
    "import numpy as np\n",
    "import networkx as nx\n",
    "import matplotlib.pyplot as plt\n",
    "\n",
    "from tqdm import tqdm_notebook\n",
    "from skimage.util import montage\n",
    "import cv2\n",
    "\n",
    "from sdcdup.utils import get_project_root\n",
    "from sdcdup.utils import idx2ijpair\n",
    "from sdcdup.utils import overlap_tag_maps\n",
    "from sdcdup.utils import overlap_tag_pairs\n",
    "from sdcdup.utils import generate_third_party_overlaps\n",
    "from sdcdup.utils import generate_tag_pair_lookup\n",
    "from sdcdup.utils import pad_string\n",
    "from sdcdup.utils import get_overlap_matches\n",
    "from sdcdup.utils import merge_overlap_matches\n",
    "from sdcdup.utils import load_duplicate_truth\n",
    "from sdcdup.utils import update_duplicate_truth\n",
    "from sdcdup.utils import update_tile_cliques\n",
    "from sdcdup.utils import get_tile\n",
    "from sdcdup.utils import add_tuples\n",
    "from sdcdup.features import SDCImageContainer\n",
    "from sdcdup.rebuild_overlap_groups import SDCImage\n",
    "from sdcdup.rebuild_overlap_groups import PrettyEncoder\n",
    "from sdcdup.rebuild_overlap_groups import check_overlap\n",
    "from sdcdup.rebuild_overlap_groups import add_overlap\n",
    "from sdcdup.rebuild_overlap_groups import get_puzzle_solution\n",
    "\n",
    "%reload_ext autoreload\n",
    "%autoreload 2\n",
    "\n",
    "montage_rgb = lambda x: np.stack([montage(x[:, :, :, i]) for i in range(x.shape[3])], -1)\n",
    "montage_rgb2 = lambda x, c, r: np.stack([montage(x[:, :, :, i], grid_shape=(c, r)) for i in range(x.shape[3])], -1)\n",
    "\n",
    "plt.rcParams['savefig.pad_inches'] = 0\n",
    "\n",
    "project_root = get_project_root()\n",
    "interim_data_dir = os.path.join(project_root, os.getenv('INTERIM_DATA_DIR'))\n",
    "results_dir = os.path.join(project_root, 'notebooks', 'figures', 'results')\n",
    "\n",
    "if not os.path.exists(results_dir):\n",
    "    os.makedirs(results_dir)\n",
    "    \n",
    "third_party_overlaps = generate_third_party_overlaps()\n",
    "tag_pair_lookup = generate_tag_pair_lookup()"
   ]
  },
  {
   "cell_type": "code",
   "execution_count": null,
   "metadata": {},
   "outputs": [],
   "source": [
    "matches_files = [\n",
    "    'matches_bmh32_0.9_offset.csv',\n",
    "    'matches_bmh96_0.9_offset.csv', \n",
    "    'matches_bmh32_0.8.csv',\n",
    "    'matches_bmh96_0.8.csv', \n",
    "]\n",
    "sdcic = SDCImageContainer()\n",
    "sdcic.load_image_metrics(['bmh96'])\n",
    "sdcic.matches = get_overlap_matches(matches_files)"
   ]
  },
  {
   "cell_type": "code",
   "execution_count": null,
   "metadata": {},
   "outputs": [],
   "source": [
    "score_types = ['avg', 'pix', 'dnn']\n",
    "overlap_image_maps = sdcic.load_image_overlap_properties(matches_files, score_types=score_types)\n",
    "print(len(overlap_image_maps))"
   ]
  },
  {
   "cell_type": "code",
   "execution_count": null,
   "metadata": {},
   "outputs": [],
   "source": [
    "dup_truth = load_duplicate_truth()\n",
    "print(len(dup_truth))"
   ]
  },
  {
   "cell_type": "markdown",
   "metadata": {},
   "source": [
    "## Create list of flat hashes. \n",
    "(i.e. hashes for tiles where every pixel is the same color)"
   ]
  },
  {
   "cell_type": "code",
   "execution_count": null,
   "metadata": {},
   "outputs": [],
   "source": [
    "solid_hashes = set(['b06a8fb9', 'b8e3e4c9', '715bd1bf', '232b4413', '571ea5a6']) # the blues\n",
    "for img_id, tile_issolid_grid in sdcic.img_metrics['sol'].items():\n",
    "    idxs = set(np.where(tile_issolid_grid >= 0)[0])\n",
    "    for idx in idxs:\n",
    "        if np.all(tile_issolid_grid[idx] >= 0):\n",
    "            solid_hashes.add(sdcic.img_metrics['md5'][img_id][idx])\n",
    "print(solid_hashes)"
   ]
  },
  {
   "cell_type": "markdown",
   "metadata": {},
   "source": [
    "## Get a mapping to all the non_dups."
   ]
  },
  {
   "cell_type": "code",
   "execution_count": null,
   "metadata": {},
   "outputs": [],
   "source": [
    "non_dups = defaultdict(lambda: defaultdict(set))\n",
    "for (img1_id, img2_id, img12_overlap_tag), is_dup in tqdm_notebook(dup_truth.items()):\n",
    "    img21_overlap_tag = overlap_tag_pairs[img12_overlap_tag]\n",
    "    if not is_dup:\n",
    "        non_dups[img1_id][img12_overlap_tag].add(img2_id)\n",
    "        non_dups[img2_id][img21_overlap_tag].add(img1_id)\n",
    "        continue\n",
    "    if img12_overlap_tag == '08':\n",
    "        non_dups[img1_id][img12_overlap_tag].add(img2_id)\n",
    "        non_dups[img2_id][img21_overlap_tag].add(img1_id)\n",
    "        continue\n",
    "        \n",
    "print(len(non_dups))"
   ]
  },
  {
   "cell_type": "code",
   "execution_count": null,
   "metadata": {},
   "outputs": [],
   "source": [
    "sort_scores = {}\n",
    "for k, s in tqdm_notebook(overlap_image_maps.items()):\n",
    "    score = np.mean(s.avg)/(16*16*3) + np.mean(s.pix)/(256*256*3)\n",
    "    if score > 30:\n",
    "        continue\n",
    "    sort_scores[k] = (score, 9 - len(s.avg))"
   ]
  },
  {
   "cell_type": "code",
   "execution_count": null,
   "metadata": {},
   "outputs": [],
   "source": [
    "overlap_groups = {}\n",
    "is_dup_truth = {}\n",
    "missing_third_party_matches = set()\n",
    "G = nx.Graph()\n",
    "n_non_dups = 0\n",
    "n_with_solid = 0\n",
    "n_with_low_probs = 0\n",
    "n_with_large_diff = 0\n",
    "\n",
    "for (img1_id, img2_id, img12_overlap_tag), sort_score in tqdm_notebook(sorted(sort_scores.items(), key=lambda x: x[1])):\n",
    "    \n",
    "    img21_overlap_tag = overlap_tag_pairs[img12_overlap_tag]\n",
    "\n",
    "    if (img1_id, img2_id, img12_overlap_tag) in dup_truth:\n",
    "        if dup_truth[(img1_id, img2_id, img12_overlap_tag)] == 0:\n",
    "            n_non_dups += 1\n",
    "            continue\n",
    "\n",
    "    if img1_id == img2_id:\n",
    "        continue\n",
    "\n",
    "    img1_hashes = set(sdcic.img_metrics['md5'][img1_id][overlap_tag_maps[img12_overlap_tag]])\n",
    "    if len(img1_hashes.difference(solid_hashes)) == 0:\n",
    "        n_with_solid += 1\n",
    "        continue\n",
    "        \n",
    "    img2_hashes = set(sdcic.img_metrics['md5'][img2_id][overlap_tag_maps[img21_overlap_tag]])\n",
    "    if len(img2_hashes.difference(solid_hashes)) == 0:\n",
    "        n_with_solid += 1\n",
    "        continue\n",
    "\n",
    "    scores = overlap_image_maps[(img1_id, img2_id, img12_overlap_tag)]\n",
    "    if np.min(scores.dnn) < 0.8:\n",
    "        n_with_low_probs += 1\n",
    "        continue\n",
    "\n",
    "    if img1_id in overlap_groups:\n",
    "        if overlap_groups[img1_id].overlaps[img12_overlap_tag]:\n",
    "            continue\n",
    "\n",
    "    if img2_id in overlap_groups:\n",
    "        if overlap_groups[img2_id].overlaps[img21_overlap_tag]:\n",
    "            continue\n",
    "\n",
    "    if img1_id not in overlap_groups:\n",
    "        overlap_groups[img1_id] = SDCImage(img1_id)\n",
    "    if img2_id not in overlap_groups:\n",
    "        overlap_groups[img2_id] = SDCImage(img2_id)\n",
    "\n",
    "    good_overlap, missing_matches = check_overlap(img1_id, img2_id, img12_overlap_tag, overlap_groups, overlap_image_maps, non_dups)\n",
    "    if len(missing_matches) > 0:\n",
    "        missing_third_party_matches |= missing_matches\n",
    "        n_with_large_diff += 1\n",
    "    if not good_overlap:\n",
    "        continue\n",
    "\n",
    "    good_overlap, missing_matches = check_overlap(img2_id, img1_id, img21_overlap_tag, overlap_groups, overlap_image_maps, non_dups)\n",
    "    if len(missing_matches) > 0:\n",
    "        missing_third_party_matches |= missing_matches\n",
    "        n_with_large_diff += 1\n",
    "    if not good_overlap:\n",
    "        continue\n",
    "\n",
    "    add_overlap(img1_id, img2_id, img12_overlap_tag, overlap_groups)\n",
    "    add_overlap(img2_id, img1_id, img21_overlap_tag, overlap_groups)\n",
    "    G.add_edge(img1_id, img2_id)"
   ]
  },
  {
   "cell_type": "code",
   "execution_count": null,
   "metadata": {},
   "outputs": [],
   "source": [
    "print(f\"{n_non_dups:>4}, {n_with_solid:>6}, {n_with_low_probs:>8}\", end=',')\n",
    "print(f\"{n_with_large_diff:>8}, {len(overlap_groups):>7}, {len(missing_third_party_matches):>8}\")"
   ]
  },
  {
   "cell_type": "code",
   "execution_count": null,
   "metadata": {},
   "outputs": [],
   "source": [
    "import pandas as pd\n",
    "df = pd.DataFrame(sorted(missing_third_party_matches))\n",
    "df.to_csv(os.path.join(interim_data_dir, f'matches_dnn_{len(missing_third_party_matches)}.csv'), index=False)"
   ]
  },
  {
   "cell_type": "code",
   "execution_count": null,
   "metadata": {},
   "outputs": [],
   "source": [
    "neighbor_counts = Counter()\n",
    "for image_hashes in nx.connected_components(G):\n",
    "    neighbor_counts[len(image_hashes)] += 1\n",
    "list(sorted(neighbor_counts.items()))"
   ]
  },
  {
   "cell_type": "markdown",
   "metadata": {},
   "source": [
    "# Analyze single overlap group"
   ]
  },
  {
   "cell_type": "code",
   "execution_count": null,
   "metadata": {
    "scrolled": true
   },
   "outputs": [],
   "source": [
    "for image_hashes in nx.connected_components(G):\n",
    "    if len(image_hashes) == 100:\n",
    "#     if '2df5f0080.jpg' in image_hashes:\n",
    "        image_hashes0 = sorted(image_hashes)\n",
    "        print(len(image_hashes0))"
   ]
  },
  {
   "cell_type": "code",
   "execution_count": null,
   "metadata": {},
   "outputs": [],
   "source": [
    "j = 0\n",
    "batch_limit = 100\n",
    "samples_images = np.empty((batch_limit, 768, 768, 3), dtype=np.float32)\n",
    "for i, c_img_id in enumerate(image_hashes0[batch_limit*j:batch_limit*(j+1)]):\n",
    "    c_img = cv2.cvtColor(sdcic.get_img(c_img_id), cv2.COLOR_BGR2RGB)\n",
    "    samples_images[i] = c_img.astype(np.float32) / 255.0\n",
    "\n",
    "batch_rgb = montage_rgb(samples_images)\n",
    "\n",
    "fig, ax = plt.subplots(1, 1, figsize = (16, 16))\n",
    "ax.imshow(batch_rgb, vmin=0, vmax=1)\n",
    "plt.axis('off')\n",
    "plt.show()"
   ]
  },
  {
   "cell_type": "code",
   "execution_count": null,
   "metadata": {},
   "outputs": [],
   "source": [
    "# test_group = overlap_groups['9b33aefea.jpg']\n",
    "test_group = overlap_groups[image_hashes0[10]]\n",
    "overlaps = set()\n",
    "overlaps.add(test_group._id)\n",
    "for overlap_tag, img_id in test_group.overlaps.items():\n",
    "    if img_id:\n",
    "        overlaps.add(img_id)\n",
    "overlaps = sorted(overlaps)\n",
    "print(test_group.img_id, overlaps)\n",
    "\n",
    "batch_limit = 25\n",
    "samples_images = np.empty((len(overlaps), 768, 768, 3), dtype=np.float32)\n",
    "for i, c_img_id in enumerate(overlaps):\n",
    "    c_img = cv2.cvtColor(sdcic.get_img(c_img_id), cv2.COLOR_BGR2RGB)\n",
    "    samples_images[i] = c_img.astype(np.float32) / 255.0\n",
    "\n",
    "batch_rgb = montage_rgb(samples_images[:batch_limit])\n",
    "\n",
    "fig, ax = plt.subplots(1, 1, figsize = (16, 16))\n",
    "ax.imshow(batch_rgb, vmin=0, vmax=1)\n",
    "plt.axis('off')\n",
    "plt.show()"
   ]
  },
  {
   "cell_type": "code",
   "execution_count": null,
   "metadata": {},
   "outputs": [],
   "source": [
    "topo_dict, maxs = get_puzzle_solution(image_hashes0, overlap_groups)"
   ]
  },
  {
   "cell_type": "code",
   "execution_count": null,
   "metadata": {},
   "outputs": [],
   "source": [
    "n_col_blocks = maxs[0] + 3\n",
    "n_row_blocks = maxs[1] + 3\n",
    "samples_images = np.ones((n_col_blocks * n_row_blocks, 256, 256, 3), dtype=np.float32)\n",
    "for c_img_id, pos in topo_dict.items():\n",
    "    c_img = cv2.cvtColor(sdcic.get_img(c_img_id), cv2.COLOR_BGR2RGB)\n",
    "    for idx in range(9):\n",
    "        c_tile = get_tile(c_img, idx)\n",
    "        ij = idx2ijpair[idx]\n",
    "        i = (n_row_blocks * (pos[0] + ij[0]) + (pos[1] + ij[1]))\n",
    "        samples_images[i] = c_tile.astype(np.float32) / 255.0\n",
    "\n",
    "batch_rgb = montage_rgb2(samples_images, n_col_blocks, n_row_blocks)\n",
    "\n",
    "fig, ax = plt.subplots(1, 1, figsize = (16, 16))\n",
    "ax.imshow(batch_rgb, vmin=0, vmax=1)\n",
    "plt.axis('off')\n",
    "plt.tight_layout()\n",
    "plt.show()"
   ]
  },
  {
   "cell_type": "markdown",
   "metadata": {},
   "source": [
    "# Build overlap groups"
   ]
  },
  {
   "cell_type": "markdown",
   "metadata": {},
   "source": [
    "### Write overlap groups to json"
   ]
  },
  {
   "cell_type": "code",
   "execution_count": null,
   "metadata": {},
   "outputs": [],
   "source": [
    "overlap_groups_dict = {}\n",
    "for image_hashes in nx.connected_components(G):\n",
    "    n_images = len(image_hashes)\n",
    "    image_hashes0 = sorted(image_hashes)\n",
    "    topo_dict, maxs = get_puzzle_solution(image_hashes0, overlap_groups)\n",
    "    a = pad_string(str(n_images), 3)\n",
    "    b = pad_string(str(maxs[0]), 2)\n",
    "    c = pad_string(str(maxs[1]), 2)\n",
    "    fname = f'overlap_{a}_{b}_{c}_{image_hashes0[0]}'\n",
    "    overlap_groups_dict[fname] = topo_dict\n",
    "\n",
    "rebuild_overlap_groups_filename = os.path.join(project_root, 'rebuild_overlap_groups.json')\n",
    "with open(rebuild_overlap_groups_filename, 'w') as ofs:\n",
    "    json.dump(overlap_groups_dict, ofs, cls=PrettyEncoder, indent=2, separators=(', ', ': '), sort_keys=True)"
   ]
  },
  {
   "cell_type": "markdown",
   "metadata": {},
   "source": [
    "### Save each overlap group as jpg"
   ]
  },
  {
   "cell_type": "code",
   "execution_count": null,
   "metadata": {
    "scrolled": false
   },
   "outputs": [],
   "source": [
    "for image_hashes in nx.connected_components(G):\n",
    "    n_images = len(image_hashes)\n",
    "    if n_images < 25:\n",
    "        continue\n",
    "    image_hashes0 = sorted(image_hashes)\n",
    "    topo_dict, maxs = get_puzzle_solution(image_hashes0, overlap_groups)\n",
    "    a = pad_string(str(n_images), 3)\n",
    "    b = pad_string(str(maxs[0]), 2)\n",
    "    c = pad_string(str(maxs[1]), 2)\n",
    "\n",
    "    fname = f'overlap_{a}_{b}_{c}_{image_hashes0[0]}'\n",
    "    filename = os.path.join(results_dir, fname)\n",
    "    if os.path.exists(filename):\n",
    "        continue\n",
    "    print(fname)\n",
    "    \n",
    "    n_col_blocks = maxs[0] + 3\n",
    "    n_row_blocks = maxs[1] + 3\n",
    "    samples_images = np.ones((n_col_blocks * n_row_blocks, 256, 256, 3), dtype=np.float32)\n",
    "    for c_img_id, pos in topo_dict.items():\n",
    "        c_img = cv2.cvtColor(sdcic.get_img(c_img_id), cv2.COLOR_BGR2RGB)\n",
    "        for idx in range(9):\n",
    "            c_tile = get_tile(c_img, idx)\n",
    "            ij = idx2ijpair[idx]\n",
    "            i = (n_row_blocks * (pos[0] + ij[0]) + (pos[1] + ij[1]))\n",
    "            samples_images[i] = c_tile.astype(np.float32) / 255.0\n",
    "    batch_rgb = montage_rgb2(samples_images, n_col_blocks, n_row_blocks)\n",
    "\n",
    "    fig, ax = plt.subplots(1, 1, figsize = (16, 16))\n",
    "    ax.imshow(batch_rgb, vmin=0, vmax=1)\n",
    "    ax.get_xaxis().set_visible(False)\n",
    "    ax.get_yaxis().set_visible(False)\n",
    "    plt.axis('off')\n",
    "    plt.tight_layout()\n",
    "    plt.savefig(filename)\n",
    "    plt.cla()\n",
    "    plt.clf()\n",
    "    plt.close(fig)\n",
    "    gc.collect()"
   ]
  }
 ],
 "metadata": {
  "kernelspec": {
   "display_name": "Python 3",
   "language": "python",
   "name": "python3"
  },
  "language_info": {
   "codemirror_mode": {
    "name": "ipython",
    "version": 3
   },
   "file_extension": ".py",
   "mimetype": "text/x-python",
   "name": "python",
   "nbconvert_exporter": "python",
   "pygments_lexer": "ipython3",
   "version": "3.6.9"
  },
  "latex_envs": {
   "LaTeX_envs_menu_present": true,
   "autoclose": false,
   "autocomplete": true,
   "bibliofile": "biblio.bib",
   "cite_by": "apalike",
   "current_citInitial": 1,
   "eqLabelWithNumbers": true,
   "eqNumInitial": 1,
   "hotkeys": {
    "equation": "Ctrl-E",
    "itemize": "Ctrl-I"
   },
   "labels_anchors": false,
   "latex_user_defs": false,
   "report_style_numbering": false,
   "user_envs_cfg": false
  },
  "pycharm": {
   "stem_cell": {
    "cell_type": "raw",
    "metadata": {
     "collapsed": false
    },
    "source": []
   }
  },
  "varInspector": {
   "cols": {
    "lenName": 16,
    "lenType": 16,
    "lenVar": 40
   },
   "kernels_config": {
    "python": {
     "delete_cmd_postfix": "",
     "delete_cmd_prefix": "del ",
     "library": "var_list.py",
     "varRefreshCmd": "print(var_dic_list())"
    },
    "r": {
     "delete_cmd_postfix": ") ",
     "delete_cmd_prefix": "rm(",
     "library": "var_list.r",
     "varRefreshCmd": "cat(var_dic_list()) "
    }
   },
   "types_to_exclude": [
    "module",
    "function",
    "builtin_function_or_method",
    "instance",
    "_Feature"
   ],
   "window_display": false
  }
 },
 "nbformat": 4,
 "nbformat_minor": 1
}
