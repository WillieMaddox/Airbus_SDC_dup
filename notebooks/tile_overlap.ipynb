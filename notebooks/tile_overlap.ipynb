{
 "cells": [
  {
   "cell_type": "code",
   "execution_count": null,
   "metadata": {
    "scrolled": true
   },
   "outputs": [],
   "source": [
    "import os\n",
    "import shutil\n",
    "import hashlib\n",
    "from collections import Counter\n",
    "from collections import namedtuple\n",
    "\n",
    "import numpy as np\n",
    "import matplotlib.pyplot as plt\n",
    "import cv2\n",
    "from IPython.display import set_matplotlib_formats\n",
    "from skimage.transform import resize\n",
    "from sdcdup.utils import get_project_root\n",
    "from sdcdup.utils import generate_boundingbox_corners\n",
    "from sdcdup.utils import overlap_tag_pairs\n",
    "from sdcdup.utils import overlap_tag_maps\n",
    "from sdcdup.utils import get_tile\n",
    "from sdcdup.utils import load_duplicate_truth\n",
    "from sdcdup.utils import ImgMod\n",
    "from sdcdup.features import SDCImageContainer\n",
    "from sdcdup.visualization import get_ticks\n",
    "from sdcdup.visualization import draw_bbox\n",
    "from sdcdup.visualization import draw_tile_number\n",
    "from sdcdup.visualization import draw_tile_bbox\n",
    "from sdcdup.visualization import show_image_pair\n",
    "from sdcdup.visualization import ChannelShift\n",
    "\n",
    "%load_ext dotenv\n",
    "%dotenv\n",
    "%matplotlib inline\n",
    "%reload_ext autoreload\n",
    "%autoreload 2\n",
    "\n",
    "RED = (244, 67, 54)  #F44336\n",
    "GREEN = (76, 175, 80)  #4CAF50\n",
    "BLUE = (3, 169, 244)  #03A9F4\n",
    "\n",
    "set_matplotlib_formats('pdf', 'png')\n",
    "plt.rcParams['font.size'] = 16\n",
    "plt.rcParams['axes.titlesize'] = 20\n",
    "plt.rcParams['axes.labelsize'] = 18\n",
    "plt.rcParams['xtick.labelsize'] = 14\n",
    "plt.rcParams['ytick.labelsize'] = 14\n",
    "plt.rcParams['legend.fontsize'] = 14\n",
    "\n",
    "plt.rcParams['savefig.dpi'] = 75\n",
    "\n",
    "plt.rcParams['figure.autolayout'] = False\n",
    "plt.rcParams['figure.figsize'] = 10, 6\n",
    "plt.rcParams['lines.linewidth'] = 2.0\n",
    "plt.rcParams['lines.markersize'] = 8\n",
    "\n",
    "# plt.rcParams['text.usetex'] = True\n",
    "# plt.rcParams['font.family'] = \"serif\"\n",
    "# plt.rcParams['font.serif'] = \"cm\"\n",
    "# plt.rcParams['text.latex.preamble'] = r\"\\usepackage{subdepth}, \\usepackage{type1cm}\"\n",
    "\n",
    "project_root = get_project_root()\n",
    "train_image_dir = os.path.join(project_root, os.getenv('RAW_DATA_DIR'), 'train_768')\n",
    "persistent_data_dir = os.path.join(project_root, os.getenv('PERSISTENT_DATA_DIR'))\n",
    "samples_dir = os.path.join(persistent_data_dir, 'samples')\n",
    "figures_dir = os.path.join(project_root, 'notebooks', 'figures')\n",
    "\n",
    "boundingbox_corners = generate_boundingbox_corners()\n",
    "ticks = get_ticks()"
   ]
  },
  {
   "cell_type": "code",
   "execution_count": null,
   "metadata": {},
   "outputs": [],
   "source": [
    "def copy2persist(img_id):\n",
    "    src = os.path.join(train_image_dir, img_id)\n",
    "    dst = os.path.join(samples_dir, img_id)\n",
    "    if not os.path.exists(dst):\n",
    "        shutil.copy2(src, dst)\n",
    "\n",
    "def get_overlap_pixel_scores(img1_id, img2_id, img1_overlap_tag):\n",
    "    scores = None\n",
    "    if (img1_id, img2_id, img1_overlap_tag) in overlap_image_maps:\n",
    "        scores = overlap_image_maps[(img1_id, img2_id, img1_overlap_tag)]\n",
    "    if scores is None:\n",
    "        Scores = namedtuple('Scores', 'px0 pix')\n",
    "        px0 = sdcic.gen_px0_scores(img1_id, img2_id, img1_overlap_tag)\n",
    "        pix = sdcic.gen_pix_scores(img1_id, img2_id, img1_overlap_tag)\n",
    "        scores = Scores(px0, pix)\n",
    "    return scores\n",
    "\n",
    "def plot_image_grid(img_ids, ncols, nrows, filebase=None):\n",
    "    fig, ax = plt.subplots(nrows, ncols, figsize=(ncols*4, nrows*4))\n",
    "    for i, img_id in enumerate(img_ids):\n",
    "        img = cv2.cvtColor(cv2.imread(os.path.join(train_image_dir, img_id)), cv2.COLOR_BGR2RGB)\n",
    "        ax[i // ncols, i % ncols].imshow(img)\n",
    "        ax[i // ncols, i % ncols].set_title(img_id)\n",
    "        ax[i // ncols, i % ncols].set_xticks(ticks)\n",
    "        ax[i // ncols, i % ncols].set_yticks(ticks)\n",
    "    plt.tight_layout()\n",
    "    \n",
    "    if filebase:\n",
    "        filename = f'{filebase}_{ncols}_{nrows}.jpg'\n",
    "        plt.savefig(os.path.join(figures_dir, filename))"
   ]
  },
  {
   "cell_type": "code",
   "execution_count": null,
   "metadata": {},
   "outputs": [],
   "source": [
    "matches_files = ['matches_bmh96_0.9.csv']\n",
    "sdcic = SDCImageContainer()\n",
    "overlap_image_maps = sdcic.load_image_overlap_properties(matches_files, score_types=['px0', 'pix'])\n",
    "print(len(overlap_image_maps))"
   ]
  },
  {
   "cell_type": "code",
   "execution_count": null,
   "metadata": {},
   "outputs": [],
   "source": [
    "dup_truth = load_duplicate_truth(filepath=persistent_data_dir, filename='duplicate_truth.txt')\n",
    "print(len(dup_truth))"
   ]
  },
  {
   "cell_type": "code",
   "execution_count": null,
   "metadata": {},
   "outputs": [],
   "source": [
    "font = cv2.FONT_HERSHEY_SIMPLEX\n",
    "font_scale = 5\n",
    "line_type = 8\n",
    "bbox_thickness = 16\n",
    "img_id = '21d7ea9bf.jpg'\n",
    "\n",
    "img_sizes = {\n",
    "    '00': (1280, 1280, 3),\n",
    "    '01': (1280, 1024, 3),\n",
    "    '02': (1280,  768, 3),\n",
    "    '12': (1280, 1024, 3),\n",
    "    '22': (1280, 1280, 3),\n",
    "    '03': (1024, 1280, 3),\n",
    "    '04': (1024, 1024, 3),\n",
    "    '05': (1024,  768, 3),\n",
    "    '15': (1024, 1024, 3),\n",
    "    '25': (1024, 1280, 3),\n",
    "    '06': ( 768, 1280, 3),\n",
    "    '07': ( 768, 1024, 3),\n",
    "    '08': ( 768,  768, 3),\n",
    "    '18': ( 768, 1024, 3),\n",
    "    '28': ( 768, 1280, 3),\n",
    "    '36': (1024, 1280, 3),\n",
    "    '37': (1024, 1024, 3),\n",
    "    '38': (1024,  768, 3),\n",
    "    '48': (1024, 1024, 3),\n",
    "    '58': (1024, 1280, 3),\n",
    "    '66': (1280, 1280, 3),\n",
    "    '67': (1280, 1024, 3),\n",
    "    '68': (1280,  768, 3),\n",
    "    '78': (1280, 1024, 3),\n",
    "    '88': (1280, 1280, 3),\n",
    "}\n",
    "nrows = 5\n",
    "ncols = 5\n",
    "fig, ax = plt.subplots(nrows, ncols, figsize=(16, 16))\n",
    "for ii, overlap_img1_tag in enumerate(img_sizes):\n",
    "    overlap_img2_tag = overlap_tag_pairs[overlap_img1_tag]\n",
    "    img_size = img_sizes[overlap_img1_tag]\n",
    "    bbox1a = boundingbox_corners[overlap_img1_tag]\n",
    "    bbox2a = boundingbox_corners[overlap_img2_tag]\n",
    "    bbox1 = np.array([bbox2a[0], bbox2a[0] + np.array([768, 768])])\n",
    "    bbox2 = np.array([bbox1a[0], bbox1a[0] + np.array([768, 768])])\n",
    "\n",
    "    shaded_overlap = (slice(img_size[0] - 768, 768), slice(img_size[1] - 768, 767))\n",
    "    \n",
    "    img = cv2.cvtColor(cv2.imread(os.path.join(samples_dir, img_id)), cv2.COLOR_BGR2RGB) / 255.\n",
    "    img = resize(img, img_size)\n",
    "    img[:] = 255\n",
    "    img[shaded_overlap] = 196\n",
    "    img = img.astype('uint8')\n",
    "    \n",
    "    draw_bbox(img, bbox1, bbox_thickness, GREEN, img_size=np.array([img_size[1], img_size[0]]))\n",
    "    draw_bbox(img, bbox2, bbox_thickness, RED, img_size=np.array([img_size[1], img_size[0]]))\n",
    "    \n",
    "    n_overlaps = len(overlap_tag_maps[overlap_img1_tag])\n",
    "    cv2.putText(img, str(n_overlaps), ((img_size[1] // 2) - 64, (img_size[0] // 2) + 64), font, font_scale, (0, 0, 0), 12)\n",
    "    \n",
    "    ax[ii // ncols, ii % ncols].imshow(img)\n",
    "    ax[ii // ncols, ii % ncols].set_axis_off()\n",
    "    \n",
    "plt.tight_layout();\n",
    "# plt.savefig(os.path.join(figures_dir, f'overlap-5x5.jpg'))"
   ]
  },
  {
   "cell_type": "code",
   "execution_count": null,
   "metadata": {},
   "outputs": [],
   "source": [
    "font = cv2.FONT_HERSHEY_SIMPLEX\n",
    "font_scale = 5\n",
    "line_type = 8\n",
    "bbox_thickness = 8\n",
    "tile_indexes = [0, 1, 2, 3, 4, 5, 6, 7, 8]\n",
    "img_id = '21d7ea9bf.jpg'\n",
    "\n",
    "fig, ax = plt.subplots(1, 1, figsize=(4, 4))\n",
    "\n",
    "img = cv2.cvtColor(cv2.imread(os.path.join(samples_dir, img_id)), cv2.COLOR_BGR2RGB)\n",
    "\n",
    "for idx in tile_indexes:\n",
    "    draw_tile_bbox(img, idx, bbox_thickness, RED)\n",
    "    draw_tile_number(img, idx, color=RED)\n",
    "    \n",
    "ax.imshow(img)\n",
    "ax.set_title(img_id)\n",
    "ax.set_xticks(ticks)\n",
    "ax.set_yticks(ticks);\n",
    "\n",
    "# plt.savefig(os.path.join(figures_dir, f'overlap_key.jpg'))"
   ]
  },
  {
   "cell_type": "markdown",
   "metadata": {},
   "source": [
    "## Check to see how many exact duplicate tiles we have."
   ]
  },
  {
   "cell_type": "code",
   "execution_count": null,
   "metadata": {},
   "outputs": [],
   "source": [
    "dup_tile_hashes = {}\n",
    "dup_tile_counts = Counter()\n",
    "dup_image_samples = []\n",
    "for img_id, tile_hashes in sdcic.img_metrics['md5'].items():\n",
    "    c0 = Counter(tile_hashes)\n",
    "    for tile_hash, c in c0.items():\n",
    "        if c == 1:\n",
    "            continue\n",
    "        tile_indexes = np.where(tile_hashes == tile_hash)[0]\n",
    "        \n",
    "        if tile_hash not in dup_tile_hashes:\n",
    "            dup_image_samples.append((img_id, tile_hash, tile_indexes))\n",
    "            dup_tile_hashes[tile_hash] = {}\n",
    "\n",
    "        for idx in tile_indexes:\n",
    "            if img_id not in dup_tile_hashes[tile_hash]:\n",
    "                dup_tile_hashes[tile_hash][img_id] = []\n",
    "            if idx not in dup_tile_hashes[tile_hash][img_id]:\n",
    "                dup_tile_hashes[tile_hash][img_id].append(idx)\n",
    "                dup_tile_counts[tile_hash] += 1\n",
    "\n",
    "print(dup_tile_counts)\n",
    "\n",
    "dup_hashes = tuple([key for key in dup_tile_hashes])\n",
    "\n",
    "for img_id, tile_hashes in sdcic.img_metrics['md5'].items():\n",
    "    c0 = Counter(tile_hashes)\n",
    "    for tile_hash, c in c0.items():\n",
    "        if c > 1:\n",
    "            continue\n",
    "        if tile_hash not in dup_hashes:\n",
    "            continue\n",
    "        tile_indexes = np.where(tile_hashes == tile_hash)[0]\n",
    "        \n",
    "        for idx in tile_indexes:\n",
    "            if img_id not in dup_tile_hashes[tile_hash]:\n",
    "                dup_tile_hashes[tile_hash][img_id] = []\n",
    "            if idx not in dup_tile_hashes[tile_hash][img_id]:\n",
    "                dup_tile_hashes[tile_hash][img_id].append(idx)\n",
    "                dup_tile_counts[tile_hash] += 1\n",
    "                \n",
    "print(dup_tile_counts)\n",
    "\n",
    "dup_image_counts = {key: len(val) for key, val in dup_tile_hashes.items()}\n",
    "print(dup_image_counts)\n",
    "\n",
    "bbox_thickness = 8\n",
    "ncols = 3\n",
    "nrows = 2\n",
    "assert ncols * nrows == len(dup_image_samples)\n",
    "\n",
    "fig, ax = plt.subplots(nrows, ncols, figsize=(15, 10))\n",
    "\n",
    "for i, (img_id, tile_hash, tile_indexes) in enumerate(dup_image_samples):\n",
    "    copy2persist(img_id)\n",
    "    img = cv2.cvtColor(cv2.imread(os.path.join(samples_dir, img_id)), cv2.COLOR_BGR2RGB)\n",
    "    \n",
    "    title = f'{img_id} | {tile_hash}'\n",
    "    \n",
    "    for ii, idx in enumerate(tile_indexes):\n",
    "        if ii == 0:\n",
    "            print(img_id, tile_hash, dup_image_counts[tile_hash], dup_tile_counts[tile_hash])\n",
    "#             tile = get_tile(img, idx)\n",
    "#             print(tile[0, 0], tile[0, -1])\n",
    "#             print(tile[-1, 0], tile[-1, -1])\n",
    "\n",
    "    for idx in tile_indexes:\n",
    "        draw_tile_bbox(img, idx, bbox_thickness, RED)\n",
    "        draw_tile_number(img, idx, color=RED)\n",
    "    \n",
    "    ax[i // ncols, i % ncols].imshow(img)\n",
    "    ax[i // ncols, i % ncols].set_title(title)\n",
    "    ax[i // ncols, i % ncols].set_xticks(ticks)\n",
    "    ax[i // ncols, i % ncols].set_yticks(ticks)\n",
    "\n",
    "plt.tight_layout()\n",
    "\n",
    "# plt.savefig(os.path.join(figures_dir, f'images_with_duplicate_tiles.jpg'))"
   ]
  },
  {
   "cell_type": "code",
   "execution_count": null,
   "metadata": {},
   "outputs": [],
   "source": [
    "# mostly black images\n",
    "img_ids = [\n",
    "    '03ffa7680.jpg', '8d5521663.jpg', '5a70ef013.jpg', '9a2f9d347.jpg', '37a912dca.jpg', \n",
    "    '4add7aa1d.jpg', '3db3ef7cc.jpg', '73fec0637.jpg', '7df214d98.jpg', 'c2955cd21.jpg', \n",
    "    'de018b2a8.jpg', '8ce769141.jpg', 'fc0e22a0a.jpg', '770c46cd4.jpg', 'd6e432b79.jpg', \n",
    "    'd5d1b6fb8.jpg', '0e4d7dd93.jpg', '9ddeed533.jpg', 'addc11de0.jpg', '65418dfe4.jpg', \n",
    "    '119d6a3d6.jpg', '1b287c905.jpg', 'b264b0f96.jpg', '996f92939.jpg', 'e5c3b1f59.jpg']\n",
    "plot_image_grid(img_ids, 5, 5, filebase='black_images')"
   ]
  },
  {
   "cell_type": "code",
   "execution_count": null,
   "metadata": {
    "code_folding": []
   },
   "outputs": [],
   "source": [
    "def draw_image_quad(\n",
    "    img1_id, img2_id, \n",
    "    img1_overlap_tag='08', \n",
    "    with_scores=True,\n",
    "    bbox_thickness=4,\n",
    "    bbox_color=None,\n",
    "    draw_bboxes=True,\n",
    "    persist=True,\n",
    "    save=False):\n",
    "    \n",
    "    if persist:\n",
    "        copy2persist(img1_id)\n",
    "        copy2persist(img2_id)\n",
    "        image_dir = samples_dir\n",
    "    else:\n",
    "        image_dir = train_image_dir\n",
    "        \n",
    "    if not bbox_color:\n",
    "        if img1_overlap_tag == '08':\n",
    "            draw_bboxes = False\n",
    "        if (img1_id, img2_id, img1_overlap_tag) in dup_truth:\n",
    "            bbox_color = GREEN if dup_truth[(img1_id, img2_id, img1_overlap_tag)] else RED\n",
    "        else:\n",
    "            bbox_color = BLUE\n",
    "            \n",
    "    fig, ((ax11, ax12), (ax21, ax22)) = plt.subplots(2, 2, figsize=(12, 12))\n",
    "    \n",
    "    imgmod1 = ImgMod(os.path.join(image_dir, img1_id))\n",
    "    imgmod2 = ImgMod(os.path.join(image_dir, img2_id))\n",
    "    \n",
    "    show_image_pair(ax11, ax12,\n",
    "                    imgmod1, imgmod2, img1_overlap_tag,\n",
    "                    draw_bboxes, bbox_thickness, bbox_color,\n",
    "                    img1_id, img2_id, ticks)\n",
    "    \n",
    "    if with_scores:\n",
    "        scores = get_overlap_pixel_scores(img1_id, img2_id, img1_overlap_tag)\n",
    "        title1 = f'px0: min: {np.min(scores.px0)}, max: {np.max(scores.px0)}'\n",
    "        title2 = f'pix: min: {np.min(scores.pix)}, max: {np.max(scores.pix)}'\n",
    "    else:\n",
    "        title1 = img1_id\n",
    "        title2 = img2_id\n",
    "    \n",
    "    show_image_pair(ax21, ax22,\n",
    "                    imgmod1, imgmod2, img1_overlap_tag,\n",
    "                    draw_bboxes, bbox_thickness, bbox_color,\n",
    "                    title1, title2, ticks, shift=ChannelShift('median', True))\n",
    "\n",
    "    plt.tight_layout()\n",
    "    \n",
    "    if save:\n",
    "        filename = os.path.join(figures_dir, f'{img1_id}_{img2_id}_{img1_overlap_tag}.jpg')\n",
    "        if os.path.exists(filename):\n",
    "            print(f'{filename} already exists. Overwriting...')\n",
    "        else:\n",
    "            print(f'{filename} saved.')\n",
    "        plt.savefig(filename)\n",
    "\n",
    "def draw_image_pair(\n",
    "    img1_id, img2_id, \n",
    "    img1_overlap_tag='08',\n",
    "    shift=ChannelShift('', True),\n",
    "    with_scores=False,\n",
    "    bbox_thickness=4,\n",
    "    bbox_color=None, \n",
    "    draw_bboxes=True,\n",
    "    persist=True,\n",
    "    save=False):\n",
    "    \n",
    "    if persist:\n",
    "        copy2persist(img1_id)\n",
    "        copy2persist(img2_id)\n",
    "        image_dir = samples_dir\n",
    "    else:\n",
    "        image_dir = train_image_dir\n",
    "        \n",
    "    if not bbox_color:\n",
    "        if img1_overlap_tag == '08':\n",
    "            draw_bboxes = False\n",
    "        if (img1_id, img2_id, img1_overlap_tag) in dup_truth:\n",
    "            bbox_color = GREEN if dup_truth[(img1_id, img2_id, img1_overlap_tag)] else RED\n",
    "        else:\n",
    "            bbox_color = BLUE\n",
    "    \n",
    "    if with_scores:\n",
    "        scores = get_overlap_pixel_scores(img1_id, img2_id, img1_overlap_tag)\n",
    "        title1 = f'px0: min: {np.min(scores.px0)}, max: {np.max(scores.px0)}'\n",
    "        title2 = f'pix: min: {np.min(scores.pix)}, max: {np.max(scores.pix)}'\n",
    "    else:\n",
    "        title1 = img1_id\n",
    "        title2 = img2_id\n",
    "    \n",
    "    fig, (ax1, ax2) = plt.subplots(1, 2, figsize=(12, 6))\n",
    "    \n",
    "    imgmod1 = ImgMod(os.path.join(image_dir, img1_id))\n",
    "    imgmod2 = ImgMod(os.path.join(image_dir, img2_id))\n",
    "    \n",
    "    show_image_pair(ax1, ax2, \n",
    "                    imgmod1, imgmod2, img1_overlap_tag, \n",
    "                    draw_bboxes, bbox_thickness, bbox_color, \n",
    "                    title1, title2, ticks, shift=shift)\n",
    "    \n",
    "    plt.tight_layout()\n",
    "    \n",
    "    if save:\n",
    "        filename = os.path.join(figures_dir, f'{img1_id}_{img2_id}_{img1_overlap_tag}.jpg')\n",
    "        if os.path.exists(filename):\n",
    "            print(f'{filename} already exists. Overwriting...')\n",
    "        else:\n",
    "            print(f'{filename} saved.')\n",
    "        plt.savefig(filename)\n"
   ]
  },
  {
   "cell_type": "markdown",
   "metadata": {},
   "source": [
    "## Need 2 examples of \"no dup_tool required, obvious\" duplicate and non-duplicate image pairs."
   ]
  },
  {
   "cell_type": "code",
   "execution_count": null,
   "metadata": {},
   "outputs": [],
   "source": [
    "# ship location\n",
    "# ship heading\n",
    "# wake pattern\n",
    "# wave crests\n",
    "draw_image_pair('c53ccd713.jpg', 'e64e7ff78.jpg', bbox_color=GREEN, save=True)"
   ]
  },
  {
   "cell_type": "markdown",
   "metadata": {},
   "source": [
    "## Here we have two images, of the same location but taken at different times. \n",
    "Notice the two ships missing from the bottom right of `89a2baf91.jpg`.  Also, notice the difference in water texture; rough vs. calm. So these are definitely not duplicates."
   ]
  },
  {
   "cell_type": "code",
   "execution_count": null,
   "metadata": {},
   "outputs": [],
   "source": [
    "# ship location\n",
    "# water state (calm vs rough)\n",
    "# land erosion\n",
    "draw_image_pair('0efcd3f26.jpg', '89a2baf91.jpg', bbox_color=RED, save=True)\n",
    "# draw_image_pair('0efcd3f26.jpg', '89a2baf91.jpg', shift=ChannelShift('median', True), with_scores=True)"
   ]
  },
  {
   "cell_type": "code",
   "execution_count": null,
   "metadata": {},
   "outputs": [],
   "source": [
    "# ship location\n",
    "# ship heading\n",
    "# water state (polluted)\n",
    "draw_image_pair('21d7ea9bf.jpg', '89d46f4c4.jpg', bbox_color=GREEN, save=True)\n",
    "# draw_image_pair('21d7ea9bf.jpg', '89d46f4c4.jpg', shift=ChannelShift('median', True), with_scores=True)"
   ]
  },
  {
   "cell_type": "code",
   "execution_count": null,
   "metadata": {},
   "outputs": [],
   "source": [
    "draw_image_pair('21d7ea9bf.jpg', '89d46f4c4.jpg', shift=ChannelShift('median', False), with_scores=True)"
   ]
  },
  {
   "cell_type": "code",
   "execution_count": null,
   "metadata": {},
   "outputs": [],
   "source": [
    "# ship location\n",
    "# water state (calm vs rough)\n",
    "# vegetation\n",
    "# shadows\n",
    "draw_image_pair('37c75e67a.jpg', 'c2212d548.jpg', bbox_color=RED)"
   ]
  },
  {
   "cell_type": "code",
   "execution_count": null,
   "metadata": {},
   "outputs": [],
   "source": [
    "# ship location\n",
    "# ship heading\n",
    "# wave crests\n",
    "# shadows\n",
    "draw_image_pair('0a78f9786.jpg', 'f432c322a.jpg', bbox_color=RED)"
   ]
  },
  {
   "cell_type": "markdown",
   "metadata": {},
   "source": [
    "## Now show examples of overlaps"
   ]
  },
  {
   "cell_type": "code",
   "execution_count": null,
   "metadata": {},
   "outputs": [],
   "source": [
    "draw_image_pair('001234638.jpg', 'dde85f1d2.jpg')"
   ]
  },
  {
   "cell_type": "code",
   "execution_count": null,
   "metadata": {
    "scrolled": false
   },
   "outputs": [],
   "source": [
    "draw_image_pair('001234638.jpg', 'dde85f1d2.jpg', '07', save=True)"
   ]
  },
  {
   "cell_type": "code",
   "execution_count": null,
   "metadata": {},
   "outputs": [],
   "source": [
    "# draw_image_pair('001234638.jpg', 'dde85f1d2.jpg', '07', shift=ChannelShift('median', True), with_scores=True)"
   ]
  },
  {
   "cell_type": "code",
   "execution_count": null,
   "metadata": {},
   "outputs": [],
   "source": [
    "draw_image_pair('000e37fc6.jpg', 'bba55046f.jpg')"
   ]
  },
  {
   "cell_type": "code",
   "execution_count": null,
   "metadata": {},
   "outputs": [],
   "source": [
    "draw_image_pair('000e37fc6.jpg', 'bba55046f.jpg', '18', with_scores=True)"
   ]
  },
  {
   "cell_type": "code",
   "execution_count": null,
   "metadata": {},
   "outputs": [],
   "source": [
    "# draw_image_pair('000e37fc6.jpg', 'bba55046f.jpg', '18', shift=ChannelShift('median', True), with_scores=True)"
   ]
  },
  {
   "cell_type": "markdown",
   "metadata": {},
   "source": [
    "## These examples are not so obvious.  Use ChannelShift to compare overlapping regions."
   ]
  },
  {
   "cell_type": "markdown",
   "metadata": {},
   "source": [
    "### Example 1"
   ]
  },
  {
   "cell_type": "code",
   "execution_count": null,
   "metadata": {},
   "outputs": [],
   "source": [
    "draw_image_pair('46b87e21c.jpg', 'f881c203f.jpg', bbox_color=RED, save=True)"
   ]
  },
  {
   "cell_type": "code",
   "execution_count": null,
   "metadata": {},
   "outputs": [],
   "source": [
    "draw_image_pair('46b87e21c.jpg', 'f881c203f.jpg', '48', bbox_color=BLUE)\n",
    "# mv 46b87e21c.jpg_f881c203f.jpg_48.jpg 46b87e21c.jpg_f881c203f.jpg_48a.jpg"
   ]
  },
  {
   "cell_type": "code",
   "execution_count": null,
   "metadata": {},
   "outputs": [],
   "source": [
    "draw_image_pair('46b87e21c.jpg', 'f881c203f.jpg', '48', shift=ChannelShift('median', True), with_scores=True, save=True)"
   ]
  },
  {
   "cell_type": "code",
   "execution_count": null,
   "metadata": {},
   "outputs": [],
   "source": [
    "draw_image_pair('46b87e21c.jpg', 'f881c203f.jpg', '07', shift=ChannelShift('median', True), with_scores=True, save=True)"
   ]
  },
  {
   "cell_type": "markdown",
   "metadata": {},
   "source": [
    "### Example 2"
   ]
  },
  {
   "cell_type": "code",
   "execution_count": null,
   "metadata": {},
   "outputs": [],
   "source": [
    "draw_image_pair('9b34f2f64.jpg', 'e8b058856.jpg', bbox_color=RED)"
   ]
  },
  {
   "cell_type": "code",
   "execution_count": null,
   "metadata": {},
   "outputs": [],
   "source": [
    "draw_image_pair('9b34f2f64.jpg', 'e8b058856.jpg', '05', bbox_color=BLUE)"
   ]
  },
  {
   "cell_type": "code",
   "execution_count": null,
   "metadata": {},
   "outputs": [],
   "source": [
    "draw_image_pair('9b34f2f64.jpg', 'e8b058856.jpg', '05', shift=ChannelShift('median', True), with_scores=True)"
   ]
  },
  {
   "cell_type": "code",
   "execution_count": null,
   "metadata": {},
   "outputs": [],
   "source": [
    "draw_image_pair('9b34f2f64.jpg', 'e8b058856.jpg', '18', shift=ChannelShift('median', True), with_scores=True)"
   ]
  },
  {
   "cell_type": "markdown",
   "metadata": {},
   "source": [
    "### Example 3"
   ]
  },
  {
   "cell_type": "code",
   "execution_count": null,
   "metadata": {},
   "outputs": [],
   "source": [
    "draw_image_pair('356f4c539.jpg', '6dd7430f6.jpg')"
   ]
  },
  {
   "cell_type": "code",
   "execution_count": null,
   "metadata": {},
   "outputs": [],
   "source": [
    "draw_image_pair('356f4c539.jpg', '6dd7430f6.jpg', shift=ChannelShift('median', True), with_scores=True)"
   ]
  },
  {
   "cell_type": "code",
   "execution_count": null,
   "metadata": {},
   "outputs": [],
   "source": [
    "draw_image_pair('356f4c539.jpg', '6dd7430f6.jpg', '02', shift=ChannelShift('median', True), with_scores=True)"
   ]
  },
  {
   "cell_type": "markdown",
   "metadata": {},
   "source": [
    "## Same location but different timestamps\n",
    "Notice the same ships are not present in both images.\n",
    "\n",
    "Also the water is more calm/smooth in one than the other.\n",
    "\n",
    "These are non-duplicates."
   ]
  },
  {
   "cell_type": "code",
   "execution_count": null,
   "metadata": {},
   "outputs": [],
   "source": [
    "draw_image_pair('2556bfc6c.jpg', 'd3474ec95.jpg', bbox_color=RED)\n",
    "# draw_image_pair('2556bfc6c.jpg', 'd3474ec95.jpg', bbox_color=RED, shift=ChannelShift('median', True))"
   ]
  },
  {
   "cell_type": "code",
   "execution_count": null,
   "metadata": {},
   "outputs": [],
   "source": [
    "draw_image_pair('2c09a2423.jpg', 'b4eba96e8.jpg', bbox_color=RED)\n",
    "# draw_image_pair('2c09a2423.jpg', 'b4eba96e8.jpg', bbox_color=RED, shift=ChannelShift('median', True), with_scores=True)"
   ]
  },
  {
   "cell_type": "code",
   "execution_count": null,
   "metadata": {},
   "outputs": [],
   "source": [
    "draw_image_pair('2556bfc6c.jpg', '2c09a2423.jpg', '28')"
   ]
  },
  {
   "cell_type": "code",
   "execution_count": null,
   "metadata": {},
   "outputs": [],
   "source": [
    "draw_image_pair('2556bfc6c.jpg', '2c09a2423.jpg', '28', shift=ChannelShift('median', True), with_scores=True)"
   ]
  },
  {
   "cell_type": "code",
   "execution_count": null,
   "metadata": {},
   "outputs": [],
   "source": [
    "# A Duplicate example with the same images.\n",
    "# draw_image_pair('2556bfc6c.jpg', 'b4eba96e8.jpg', '28')\n",
    "# draw_image_pair('2556bfc6c.jpg', 'b4eba96e8.jpg', '28', shift=ChannelShift('median', True), with_scores=True)"
   ]
  },
  {
   "cell_type": "markdown",
   "metadata": {},
   "source": [
    "## These are duplicates but very different pixelwise (large hamming distance)"
   ]
  },
  {
   "cell_type": "code",
   "execution_count": null,
   "metadata": {},
   "outputs": [],
   "source": [
    "draw_image_pair('536356d11.jpg', '783d9495a.jpg', '15')"
   ]
  },
  {
   "cell_type": "code",
   "execution_count": null,
   "metadata": {},
   "outputs": [],
   "source": [
    "draw_image_pair('536356d11.jpg', '783d9495a.jpg', '15', shift=ChannelShift('median', True), with_scores=True)"
   ]
  },
  {
   "cell_type": "code",
   "execution_count": null,
   "metadata": {
    "scrolled": false
   },
   "outputs": [],
   "source": [
    "draw_image_pair('536356d11.jpg', '88c2acaf8.jpg', '15', save=True)"
   ]
  },
  {
   "cell_type": "code",
   "execution_count": null,
   "metadata": {
    "scrolled": false
   },
   "outputs": [],
   "source": [
    "draw_image_pair('536356d11.jpg', '88c2acaf8.jpg', '15', shift=ChannelShift('median', True), with_scores=True, save=True)"
   ]
  },
  {
   "cell_type": "markdown",
   "metadata": {},
   "source": [
    "## What about these? dup or non-dup?"
   ]
  },
  {
   "cell_type": "code",
   "execution_count": null,
   "metadata": {},
   "outputs": [],
   "source": [
    "draw_image_pair('908f11dd6.jpg', 'f127f2891.jpg', '08')"
   ]
  },
  {
   "cell_type": "code",
   "execution_count": null,
   "metadata": {},
   "outputs": [],
   "source": [
    "draw_image_pair('908f11dd6.jpg', 'f127f2891.jpg', '08', shift=ChannelShift('median', False), with_scores=True)"
   ]
  },
  {
   "cell_type": "code",
   "execution_count": null,
   "metadata": {},
   "outputs": [],
   "source": [
    "draw_image_pair('908f11dd6.jpg', 'c5d9bc753.jpg', '02')"
   ]
  },
  {
   "cell_type": "code",
   "execution_count": null,
   "metadata": {},
   "outputs": [],
   "source": [
    "draw_image_pair('908f11dd6.jpg', 'c5d9bc753.jpg', '02', shift=ChannelShift('median', True), with_scores=True)"
   ]
  },
  {
   "cell_type": "code",
   "execution_count": null,
   "metadata": {},
   "outputs": [],
   "source": [
    "draw_image_pair('2b6c7fd55.jpg', 'c5d9bc753.jpg', '15')"
   ]
  },
  {
   "cell_type": "code",
   "execution_count": null,
   "metadata": {},
   "outputs": [],
   "source": [
    "draw_image_pair('2b6c7fd55.jpg', 'c5d9bc753.jpg', '15', shift=ChannelShift('median', False), with_scores=True)"
   ]
  },
  {
   "cell_type": "markdown",
   "metadata": {},
   "source": [
    "## Clouds look the same but actually different."
   ]
  },
  {
   "cell_type": "code",
   "execution_count": null,
   "metadata": {},
   "outputs": [],
   "source": [
    "draw_image_quad('0ef6cd331.jpg', '2095da0cb.jpg', save=True)"
   ]
  },
  {
   "cell_type": "markdown",
   "metadata": {},
   "source": [
    "## Blue edges. Both different but look the same"
   ]
  },
  {
   "cell_type": "code",
   "execution_count": null,
   "metadata": {},
   "outputs": [],
   "source": [
    "draw_image_quad('b8ce38df4.jpg', 'ddfc36407.jpg')"
   ]
  },
  {
   "cell_type": "code",
   "execution_count": null,
   "metadata": {},
   "outputs": [],
   "source": [
    "draw_image_quad('8a0542232.jpg', 'ddfc36407.jpg')"
   ]
  },
  {
   "cell_type": "code",
   "execution_count": null,
   "metadata": {},
   "outputs": [],
   "source": [
    "draw_image_quad('8a0542232.jpg', 'ddfc36407.jpg', '68')"
   ]
  },
  {
   "cell_type": "markdown",
   "metadata": {},
   "source": [
    "## This is the example used in [hls_shift](notebooks/eda/hls_shift.ipynb)"
   ]
  },
  {
   "cell_type": "code",
   "execution_count": null,
   "metadata": {
    "scrolled": false
   },
   "outputs": [],
   "source": [
    "draw_image_quad('03a5fd8d2.jpg', '676f4cfd0.jpg', with_scores=True, save=True)"
   ]
  },
  {
   "cell_type": "markdown",
   "metadata": {},
   "source": [
    "## Find all images that overlap with img_id"
   ]
  },
  {
   "cell_type": "code",
   "execution_count": null,
   "metadata": {},
   "outputs": [],
   "source": [
    "overlap_image_maps2 = {}\n",
    "for (img1_id, img2_id, img1_overlap_tag), scores in tqdm_notebook(overlap_image_maps.items()):\n",
    "    if (img1_id, img2_id) not in overlap_image_maps2:\n",
    "        overlap_image_maps2[(img1_id, img2_id)] = {}\n",
    "    overlap_image_maps2[(img1_id, img2_id)][img1_overlap_tag] = scores"
   ]
  },
  {
   "cell_type": "code",
   "execution_count": null,
   "metadata": {},
   "outputs": [],
   "source": [
    "img_id, pix_thresh = 'd049cb0be.jpg', 5000\n",
    "img_id, pix_thresh = 'c5d9bc753.jpg', 10000\n",
    "img_id, pix_thresh = '2556bfc6c.jpg', 5000000\n",
    "img_id, pix_thresh = 'd3474ec95.jpg', 5000000\n",
    "pset = set()\n",
    "overlay_set = set()\n",
    "for (img1_id, img2_id), overlap_map in overlap_image_maps2.items():\n",
    "    if img_id in (img1_id, img2_id):\n",
    "        assert len(overlap_map) == 1\n",
    "        for img1_overlap_tag, scores in overlap_map.items():\n",
    "#             if np.max(scores.shp) == 0:\n",
    "#                 break\n",
    "            if np.max(scores.pix) > pix_thresh:\n",
    "                break\n",
    "        else:\n",
    "            overlay_set.add((img1_id, img2_id, img1_overlap_tag))\n",
    "            pset.add(img1_id)\n",
    "            pset.add(img2_id)\n",
    "\n",
    "# for p in sorted(pset):\n",
    "#     print(p)\n",
    "\n",
    "plot_image_grid(sorted(pset), 4, 4)\n",
    "\n",
    "for i, overlay in enumerate(sorted(overlay_set)):\n",
    "    pixel_scores = sdcic.gen_pix_scores(*overlay)\n",
    "    if np.max(pixel_scores) < 5000:\n",
    "        print((overlay[0], overlay[1]))"
   ]
  },
  {
   "cell_type": "markdown",
   "metadata": {},
   "source": [
    "To run the next few cells, you'll need to download and extract the Airbus_SDC dataset as outlined in the project README.  I didn't want the project repo to be bloated with tons of images.  Though, I have included the results of the cells for your convenience."
   ]
  },
  {
   "cell_type": "code",
   "execution_count": null,
   "metadata": {},
   "outputs": [],
   "source": [
    "overlap_group1 = [\n",
    "    '3e98c83f7.jpg', \n",
    "    'b356b1f4a.jpg', \n",
    "    'd42dcdc8c.jpg', \n",
    "    '861367193.jpg', \n",
    "    '536356d11.jpg', \n",
    "    '9b82e7a76.jpg',\n",
    "    '783d9495a.jpg', \n",
    "    'cc29cb437.jpg',\n",
    "    '385df9573.jpg']\n",
    "\n",
    "plot_image_grid(overlap_group1, 3, 3, filebase='overlap_group1')"
   ]
  },
  {
   "cell_type": "markdown",
   "metadata": {},
   "source": [
    "![](../figures/overlap_group1_3_3.jpg)"
   ]
  },
  {
   "cell_type": "code",
   "execution_count": null,
   "metadata": {},
   "outputs": [],
   "source": [
    "overlap_group2 = [\n",
    "    'd0e99b467.jpg', \n",
    "    'f0d46bbd8.jpg', \n",
    "    'd049cb0be.jpg', \n",
    "    '813a4728e.jpg',\n",
    "    'a4e6f04a8.jpg', \n",
    "    'e80ae5e73.jpg', \n",
    "    '88c2acaf8.jpg', \n",
    "    '30d3278a2.jpg', \n",
    "    'e6e729afa.jpg']\n",
    "\n",
    "plot_image_grid(overlap_group2, 3, 3, filebase='overlap_group2')"
   ]
  },
  {
   "cell_type": "markdown",
   "metadata": {},
   "source": [
    "![](../figures/overlap_group2_3_3.jpg)"
   ]
  },
  {
   "cell_type": "code",
   "execution_count": null,
   "metadata": {
    "scrolled": true
   },
   "outputs": [],
   "source": [
    "image_pairs = [(g1, g2) for g1, g2 in zip(overlap_group1, overlap_group2)]\n",
    "\n",
    "pixel_scores = []\n",
    "for img1_id, img2_id in image_pairs:\n",
    "    pixel_scores.append(sdcic.gen_pix_scores(img1_id, img2_id, '08'))\n",
    "\n",
    "print(np.asarray(pixel_scores))"
   ]
  },
  {
   "cell_type": "code",
   "execution_count": null,
   "metadata": {},
   "outputs": [],
   "source": [
    "pixel_scores9 = np.asarray(pixel_scores).reshape((9, 3, 3))\n",
    "print('pixel scores between tiles of overlap_group1 and overlap_group2\\n')\n",
    "print(pixel_scores9)"
   ]
  },
  {
   "cell_type": "code",
   "execution_count": null,
   "metadata": {
    "scrolled": false
   },
   "outputs": [],
   "source": [
    "for img1_id, img2_id in image_pairs:\n",
    "    draw_image_pair(img1_id, img2_id, shift=ChannelShift('median', True), persist=False, save=True)"
   ]
  },
  {
   "cell_type": "markdown",
   "metadata": {},
   "source": [
    "![](../figures/3e98c83f7.jpg_d0e99b467.jpg_08.jpg)"
   ]
  }
 ],
 "metadata": {
  "kernelspec": {
   "display_name": "Python 3",
   "language": "python",
   "name": "python3"
  },
  "language_info": {
   "codemirror_mode": {
    "name": "ipython",
    "version": 3
   },
   "file_extension": ".py",
   "mimetype": "text/x-python",
   "name": "python",
   "nbconvert_exporter": "python",
   "pygments_lexer": "ipython3",
   "version": "3.6.9"
  },
  "latex_envs": {
   "LaTeX_envs_menu_present": true,
   "autoclose": false,
   "autocomplete": true,
   "bibliofile": "biblio.bib",
   "cite_by": "apalike",
   "current_citInitial": 1,
   "eqLabelWithNumbers": true,
   "eqNumInitial": 1,
   "hotkeys": {
    "equation": "Ctrl-E",
    "itemize": "Ctrl-I"
   },
   "labels_anchors": false,
   "latex_user_defs": false,
   "report_style_numbering": false,
   "user_envs_cfg": false
  },
  "pycharm": {
   "stem_cell": {
    "cell_type": "raw",
    "metadata": {
     "collapsed": false
    },
    "source": []
   }
  }
 },
 "nbformat": 4,
 "nbformat_minor": 1
}
