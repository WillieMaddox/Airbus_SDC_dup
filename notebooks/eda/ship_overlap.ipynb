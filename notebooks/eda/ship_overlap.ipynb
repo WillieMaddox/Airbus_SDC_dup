{
 "cells": [
  {
   "cell_type": "code",
   "execution_count": null,
   "metadata": {
    "scrolled": true
   },
   "outputs": [],
   "source": [
    "import numpy as np\n",
    "from tqdm import tqdm_notebook\n",
    "\n",
    "from sdcdup.utils import overlap_tag_pairs\n",
    "from sdcdup.utils import overlap_tag_maps\n",
    "from sdcdup.utils import get_overlap_matches\n",
    "from sdcdup.utils import load_duplicate_truth\n",
    "from sdcdup.features import SDCImageContainer\n",
    "\n",
    "%reload_ext autoreload\n",
    "%autoreload 2"
   ]
  },
  {
   "cell_type": "code",
   "execution_count": null,
   "metadata": {},
   "outputs": [],
   "source": [
    "matches_files = [\n",
    "    'matches_bmh32_0.9_offset.csv',\n",
    "    'matches_bmh96_0.9_offset.csv', \n",
    "    'matches_bmh32_0.8.csv',\n",
    "    'matches_bmh96_0.8.csv', \n",
    "]\n",
    "sdcic = SDCImageContainer()\n",
    "sdcic.matches = get_overlap_matches(matches_files)"
   ]
  },
  {
   "cell_type": "code",
   "execution_count": null,
   "metadata": {},
   "outputs": [],
   "source": [
    "overlap_image_maps = sdcic.load_image_overlap_properties(matches_files, score_types=['shp'])\n",
    "print(len(overlap_image_maps))"
   ]
  },
  {
   "cell_type": "code",
   "execution_count": null,
   "metadata": {},
   "outputs": [],
   "source": [
    "dup_truth = load_duplicate_truth()\n",
    "print(len(dup_truth))"
   ]
  },
  {
   "cell_type": "markdown",
   "metadata": {},
   "source": [
    "## Find overlaps with ships"
   ]
  },
  {
   "cell_type": "code",
   "execution_count": null,
   "metadata": {},
   "outputs": [],
   "source": [
    "untested_image_pairs_with_ship_masks = []\n",
    "for (img1_id, img2_id), overlap_maps in tqdm_notebook(overlap_image_maps.items()):\n",
    "    # TODO: Find out which remaining tile pairs have masks but aren't in dup_truth.\n",
    "\n",
    "    mask1 = sdcic.lbl_metrics['shp'][img1_id]\n",
    "    mask2 = sdcic.lbl_metrics['shp'][img2_id]\n",
    "    \n",
    "    has_mask1 = np.sum(mask1) > 0\n",
    "    has_mask2 = np.sum(mask2) > 0\n",
    "\n",
    "    if not (has_mask1 and has_mask2):\n",
    "        continue\n",
    "\n",
    "    for img1_overlap_tag in overlap_maps:\n",
    "        if (img1_id, img2_id, img1_overlap_tag) in dup_truth:\n",
    "            continue\n",
    "        untested_image_pairs_with_ship_masks.append((img1_id, img2_id))\n",
    "        break\n",
    "\n",
    "len(untested_image_pairs_with_ship_masks)"
   ]
  },
  {
   "cell_type": "code",
   "execution_count": null,
   "metadata": {},
   "outputs": [],
   "source": [
    "untested_overlaps_with_ship_masks = []\n",
    "for (img1_id, img2_id), overlap_maps in tqdm_notebook(overlap_image_maps.items()):\n",
    "    # TODO: Find out which remaining tile pairs have masks but aren't in dup_truth.\n",
    "\n",
    "    mask1 = sdcic.lbl_metrics['shp'][img1_id]\n",
    "    mask2 = sdcic.lbl_metrics['shp'][img2_id]\n",
    "    \n",
    "    has_mask1 = np.sum(mask1) > 0\n",
    "    has_mask2 = np.sum(mask2) > 0\n",
    "\n",
    "    if not (has_mask1 and has_mask2):\n",
    "        continue\n",
    "\n",
    "    for img1_overlap_tag in overlap_maps:\n",
    "        if (img1_id, img2_id, img1_overlap_tag) in dup_truth:\n",
    "            continue\n",
    "\n",
    "        mask1_slice_total = np.sum(mask1[overlap_tag_maps[img1_overlap_tag]])\n",
    "        mask2_slice_total = np.sum(mask2[overlap_tag_maps[overlap_tag_pairs[img1_overlap_tag]]])\n",
    "\n",
    "        if mask1_slice_total + mask2_slice_total < 1:\n",
    "            continue\n",
    "\n",
    "        untested_overlaps_with_ship_masks.append((img1_id, img2_id, img1_overlap_tag))\n",
    "\n",
    "len(untested_overlaps_with_ship_masks)"
   ]
  }
 ],
 "metadata": {
  "kernelspec": {
   "display_name": "Python 3",
   "language": "python",
   "name": "python3"
  },
  "language_info": {
   "codemirror_mode": {
    "name": "ipython",
    "version": 3
   },
   "file_extension": ".py",
   "mimetype": "text/x-python",
   "name": "python",
   "nbconvert_exporter": "python",
   "pygments_lexer": "ipython3",
   "version": "3.6.9"
  },
  "latex_envs": {
   "LaTeX_envs_menu_present": true,
   "autoclose": false,
   "autocomplete": true,
   "bibliofile": "biblio.bib",
   "cite_by": "apalike",
   "current_citInitial": 1,
   "eqLabelWithNumbers": true,
   "eqNumInitial": 1,
   "hotkeys": {
    "equation": "Ctrl-E",
    "itemize": "Ctrl-I"
   },
   "labels_anchors": false,
   "latex_user_defs": false,
   "report_style_numbering": false,
   "user_envs_cfg": false
  },
  "pycharm": {
   "stem_cell": {
    "cell_type": "raw",
    "metadata": {
     "collapsed": false
    },
    "source": []
   }
  }
 },
 "nbformat": 4,
 "nbformat_minor": 1
}
