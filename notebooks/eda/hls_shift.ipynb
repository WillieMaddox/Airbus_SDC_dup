{
 "cells": [
  {
   "cell_type": "code",
   "execution_count": null,
   "metadata": {},
   "outputs": [],
   "source": [
    "import os\n",
    "from collections import Counter\n",
    "import numpy as np\n",
    "import matplotlib.pyplot as plt\n",
    "import cv2\n",
    "\n",
    "from sdcdup.utils import get_project_root\n",
    "from sdcdup.utils import fuzzy_join\n",
    "from sdcdup.utils import to_hls\n",
    "from sdcdup.utils import hls_shift\n",
    "from sdcdup.visualization import get_ticks\n",
    "\n",
    "%load_ext dotenv\n",
    "%dotenv\n",
    "\n",
    "SMALL_SIZE = 10\n",
    "MEDIUM_SIZE = 12\n",
    "BIGGER_SIZE = 16\n",
    "BIGGEST_SIZE = 20\n",
    "plt.rc('font', size=BIGGEST_SIZE)         # controls default text sizes\n",
    "plt.rc('axes', titlesize=BIGGEST_SIZE)    # fontsize of the axes title\n",
    "plt.rc('axes', labelsize=BIGGEST_SIZE)    # fontsize of the x and y labels\n",
    "plt.rc('xtick', labelsize=BIGGER_SIZE)    # fontsize of the tick labels\n",
    "plt.rc('ytick', labelsize=BIGGER_SIZE)    # fontsize of the tick labels\n",
    "plt.rc('legend', fontsize=MEDIUM_SIZE)    # legend fontsize\n",
    "plt.rc('figure', titlesize=BIGGEST_SIZE)  # fontsize of the figure title\n",
    "\n",
    "project_root = get_project_root()\n",
    "persistent_data_dir = os.path.join(project_root, os.getenv('PERSISTENT_DATA_DIR'))\n",
    "\n",
    "ticks = get_ticks()"
   ]
  },
  {
   "cell_type": "code",
   "execution_count": null,
   "metadata": {},
   "outputs": [],
   "source": [
    "class ImgCmp:\n",
    "    \"\"\"\n",
    "    Reads a saved copy of parent_hls, but that has been hls shifted by some value.\n",
    "    The level of gain shifted and channel are encoded in the filename and parsed in the __init__.\n",
    "    \"\"\"\n",
    "\n",
    "    def __init__(self, parent_hls, filename):\n",
    "        \n",
    "        self.filename = filename\n",
    "        self.img_id = filename.split('/')[-1]\n",
    "        basename = self.img_id.split('.')[0]\n",
    "        self.hls_channel, plus_or_minus, gain = basename[0], basename[1], int(basename[2:])\n",
    "        self.hls_gain = gain if plus_or_minus == 'p' else -1 * gain\n",
    "\n",
    "        self.parent_hls = parent_hls\n",
    "\n",
    "        self._gmp_bgr = None\n",
    "        self._gmp_hls = None\n",
    "        self._gmp_rgb = None\n",
    "        self._cv2_hls = None\n",
    "        self._cv2_bgr = None\n",
    "        self._cv2_rgb = None\n",
    "\n",
    "    @property\n",
    "    def gmp_bgr(self):\n",
    "        if self._gmp_bgr is None:\n",
    "            self._gmp_bgr = cv2.imread(self.filename)\n",
    "        return self._gmp_bgr\n",
    "\n",
    "    @property\n",
    "    def gmp_hls(self):\n",
    "        if self._gmp_hls is None:\n",
    "            self._gmp_hls = self.to_hls(self.gmp_bgr)\n",
    "        return self._gmp_hls\n",
    "\n",
    "    @property\n",
    "    def gmp_rgb(self):\n",
    "        if self._gmp_rgb is None:\n",
    "            self._gmp_rgb = self.to_rgb(self.gmp_bgr)\n",
    "        return self._gmp_rgb\n",
    "\n",
    "    @property\n",
    "    def cv2_hls(self):\n",
    "        if self._cv2_hls is None:\n",
    "            self._cv2_hls = hls_shift(self.parent_hls, self.hls_channel, self.hls_gain)\n",
    "        return self._cv2_hls\n",
    "\n",
    "    @property\n",
    "    def cv2_bgr(self):\n",
    "        if self._cv2_bgr is None:\n",
    "            self._cv2_bgr = self.to_bgr(self.cv2_hls)\n",
    "        return self._cv2_bgr\n",
    "\n",
    "    @property\n",
    "    def cv2_rgb(self):\n",
    "        if self._cv2_rgb is None:\n",
    "            self._cv2_rgb = self.to_rgb(self.cv2_bgr)\n",
    "        return self._cv2_rgb\n",
    "\n",
    "    def to_hls(self, bgr):\n",
    "        return cv2.cvtColor(bgr, cv2.COLOR_BGR2HLS_FULL)\n",
    "\n",
    "    def to_bgr(self, hls):\n",
    "        return cv2.cvtColor(hls, cv2.COLOR_HLS2BGR_FULL)\n",
    "\n",
    "    def to_rgb(self, bgr):\n",
    "        return cv2.cvtColor(bgr, cv2.COLOR_BGR2RGB)\n"
   ]
  },
  {
   "cell_type": "code",
   "execution_count": null,
   "metadata": {},
   "outputs": [],
   "source": [
    "def plot_row(ax, row_num, rgb1, title1, rgb2, title2):\n",
    "\n",
    "    diff = fuzzy_join(rgb1, rgb2)\n",
    "    rgb3 = diff / diff.max()\n",
    "    title3 = f'mean: {np.mean(diff):>7.3f}, std: {np.std(diff):>7.3f}'\n",
    "    \n",
    "    ax[row_num, 0].imshow(rgb1)\n",
    "    ax[row_num, 0].set_title(title1)\n",
    "    ax[row_num, 0].set_xticks(ticks)\n",
    "    ax[row_num, 0].set_yticks(ticks)\n",
    "    ax[row_num, 1].imshow(rgb2)\n",
    "    ax[row_num, 1].set_title(title2)\n",
    "    ax[row_num, 1].set_xticks(ticks)\n",
    "    ax[row_num, 1].set_yticks(ticks)\n",
    "    ax[row_num, 2].imshow(rgb3)\n",
    "    ax[row_num, 2].set_title(title3)\n",
    "    ax[row_num, 2].set_xticks(ticks)\n",
    "    ax[row_num, 2].set_yticks(ticks)"
   ]
  },
  {
   "cell_type": "code",
   "execution_count": null,
   "metadata": {},
   "outputs": [],
   "source": [
    "img1_id = '03a5fd8d2.jpg'\n",
    "img2_id = '676f4cfd0.jpg'\n",
    "\n",
    "img1_bgr = cv2.imread(os.path.join(persistent_data_dir, 'samples', img1_id))\n",
    "img2_bgr = cv2.imread(os.path.join(persistent_data_dir, 'samples', img2_id))\n",
    "\n",
    "img1_rgb = cv2.cvtColor(img1_bgr, cv2.COLOR_BGR2RGB)\n",
    "img2_rgb = cv2.cvtColor(img2_bgr, cv2.COLOR_BGR2RGB)\n",
    "\n",
    "img1_hls = to_hls(img1_bgr)\n",
    "img2_hls = to_hls(img2_bgr)"
   ]
  },
  {
   "cell_type": "markdown",
   "metadata": {},
   "source": [
    "# Hue"
   ]
  },
  {
   "cell_type": "code",
   "execution_count": null,
   "metadata": {},
   "outputs": [],
   "source": [
    "modkeysA = [\n",
    "    'Hm180.jpg', \n",
    "    'Hm135.jpg', \n",
    "    'Hm090.jpg', \n",
    "    'Hm045.jpg', \n",
    "    'Hm009.jpg', \n",
    "]\n",
    "modkeysB = [\n",
    "    'Hp009.jpg',\n",
    "    'Hp045.jpg', \n",
    "    'Hp090.jpg', \n",
    "    'Hp135.jpg', \n",
    "    'Hp180.jpg', \n",
    "]"
   ]
  },
  {
   "cell_type": "markdown",
   "metadata": {},
   "source": [
    "# Lightness"
   ]
  },
  {
   "cell_type": "code",
   "execution_count": null,
   "metadata": {},
   "outputs": [],
   "source": [
    "modkeysA = [\n",
    "    'Lm100.jpg', \n",
    "    'Lm075.jpg', \n",
    "    'Lm050.jpg', \n",
    "    'Lm025.jpg', \n",
    "]\n",
    "modkeysB = [\n",
    "    'Lp025.jpg',\n",
    "    'Lp050.jpg', \n",
    "    'Lp075.jpg',\n",
    "    'Lp100.jpg', \n",
    "]"
   ]
  },
  {
   "cell_type": "markdown",
   "metadata": {},
   "source": [
    "# Saturation"
   ]
  },
  {
   "cell_type": "code",
   "execution_count": null,
   "metadata": {},
   "outputs": [],
   "source": [
    "modkeysA = [\n",
    "    'Sm100.jpg', \n",
    "    'Sm075.jpg', \n",
    "    'Sm050.jpg', \n",
    "    'Sm025.jpg',\n",
    "]\n",
    "modkeysB = [\n",
    "    'Sp025.jpg',\n",
    "    'Sp050.jpg', \n",
    "    'Sp075.jpg', \n",
    "    'Sp100.jpg', \n",
    "]"
   ]
  },
  {
   "cell_type": "markdown",
   "metadata": {},
   "source": [
    "# Brightness"
   ]
  },
  {
   "cell_type": "code",
   "execution_count": null,
   "metadata": {},
   "outputs": [],
   "source": [
    "modkeysA = [\n",
    "    'Bm127.jpg', \n",
    "    'Bm063.jpg', \n",
    "]\n",
    "modkeysB = [\n",
    "    'Bp063.jpg', \n",
    "    'Bp127.jpg', \n",
    "]"
   ]
  },
  {
   "cell_type": "code",
   "execution_count": null,
   "metadata": {},
   "outputs": [],
   "source": [
    "parent_basename = img1_id.split('.')[0]\n",
    "image_mod_dir = os.path.join(persistent_data_dir, 'gimp_hls', parent_basename)\n",
    "modsA = {k: ImgCmp(img1_hls, os.path.join(image_mod_dir, k)) for k in modkeysA}\n",
    "modsB = {k: ImgCmp(img1_hls, os.path.join(image_mod_dir, k)) for k in modkeysB}"
   ]
  },
  {
   "cell_type": "code",
   "execution_count": null,
   "metadata": {
    "scrolled": false
   },
   "outputs": [],
   "source": [
    "cv2_str = 'cv2'\n",
    "gimp_str = 'gimp'\n",
    "print(f'gain {cv2_str:>9} {gimp_str:>9}')\n",
    "for k in modkeysA:\n",
    "    cv2_val = np.sum(fuzzy_join(img1_bgr, modsA[k].cv2_bgr))\n",
    "    gmp_val = np.sum(fuzzy_join(img1_bgr, modsA[k].gmp_bgr))\n",
    "    print(f'{modsA[k].hls_gain:>4} {cv2_val:>9} {gmp_val:>9}')\n",
    "print(f'{0:>4} {np.sum(fuzzy_join(img1_bgr, img2_bgr)):>9}')\n",
    "for k in modkeysB:\n",
    "    cv2_val = np.sum(fuzzy_join(img1_bgr, modsB[k].cv2_bgr))\n",
    "    gmp_val = np.sum(fuzzy_join(img1_bgr, modsB[k].gmp_bgr))\n",
    "    print(f'{modsB[k].hls_gain:>4} {cv2_val:>9} {gmp_val:>9}')\n",
    "    \n",
    "n_rows = len(modkeysA) + 1 + len(modkeysB)\n",
    "fig, ax = plt.subplots(n_rows, 3, figsize=(3*6, n_rows*6))\n",
    "\n",
    "ii = 0\n",
    "for k in modkeysA:\n",
    "    plot_row(ax, ii, modsA[k].cv2_rgb, f'OpenCV: {modsA[k].hls_channel} = {modsA[k].hls_gain}', modsA[k].gmp_rgb, modsA[k].img_id)\n",
    "    ii += 1\n",
    "plot_row(ax, ii, cv2.cvtColor(img1_bgr, cv2.COLOR_BGR2RGB), img1_id, cv2.cvtColor(img2_bgr, cv2.COLOR_BGR2RGB), img2_id)\n",
    "ii += 1\n",
    "for k in modkeysB:\n",
    "    plot_row(ax, ii, modsB[k].cv2_rgb, f'OpenCV: {modsB[k].hls_channel} = {modsB[k].hls_gain}', modsB[k].gmp_rgb, modsB[k].img_id)\n",
    "    ii += 1\n",
    "plt.show()"
   ]
  },
  {
   "cell_type": "markdown",
   "metadata": {},
   "source": [
    "# Extra"
   ]
  },
  {
   "cell_type": "code",
   "execution_count": null,
   "metadata": {},
   "outputs": [],
   "source": [
    "print_minmax = lambda x: print(x.dtype, np.min(x, axis=(0, 1)), np.max(x, axis=(0, 1)))"
   ]
  },
  {
   "cell_type": "code",
   "execution_count": null,
   "metadata": {},
   "outputs": [],
   "source": [
    "for k in modkeysA:\n",
    "    print_minmax(modsA[k].gmp_hls)\n",
    "print_minmax(img1_hls)\n",
    "for k in modkeysB:\n",
    "    print_minmax(modsB[k].gmp_hls)"
   ]
  },
  {
   "cell_type": "code",
   "execution_count": null,
   "metadata": {},
   "outputs": [],
   "source": [
    "for k in modkeysA:\n",
    "    print_minmax(modsA[k].cv2_hls)\n",
    "print_minmax(img1_hls)\n",
    "for k in modkeysB:\n",
    "    print_minmax(modsB[k].cv2_hls)"
   ]
  },
  {
   "cell_type": "code",
   "execution_count": null,
   "metadata": {},
   "outputs": [],
   "source": [
    "def show_pixel(row, col, s_pix, src_type='gimp'):\n",
    "    if src_type == 'gimp':\n",
    "        for k in modkeysA:\n",
    "            print(f'{modsA[k].hls_gain:>4}', modsA[k].gmp_hls[row, col, :])\n",
    "        print(f'{0:>4}', img1_hls[row, col, :], '<----', s_pix)\n",
    "        for k in modkeysB:\n",
    "            print(f'{modsB[k].hls_gain:>4}', modsB[k].gmp_hls[row, col, :])\n",
    "    elif src_type == 'cv2':\n",
    "        for k in modkeysA:\n",
    "            print(f'{modsA[k].hls_gain:>4}', modsA[k].cv2_hls[row, col, :])\n",
    "        print(f'{0:>4}', img1_hls[row, col, :], '<----', s_pix)\n",
    "        for k in modkeysB:\n",
    "            print(f'{modsB[k].hls_gain:>4}', modsB[k].cv2_hls[row, col, :])\n",
    "    else:\n",
    "        print(\"Please set src_type to one of ['gimp', 'cv2']\")"
   ]
  },
  {
   "cell_type": "code",
   "execution_count": null,
   "metadata": {},
   "outputs": [],
   "source": [
    "pix_ctr = Counter()\n",
    "for i in range(768):\n",
    "    for j in range(768):\n",
    "        t = tuple(img1_hls[i, j])\n",
    "        pix_ctr[t] += 1\n",
    "\n",
    "most_common_pix = pix_ctr.most_common()"
   ]
  },
  {
   "cell_type": "code",
   "execution_count": null,
   "metadata": {},
   "outputs": [],
   "source": [
    "most_common_pix[0]"
   ]
  },
  {
   "cell_type": "code",
   "execution_count": null,
   "metadata": {},
   "outputs": [],
   "source": [
    "np.argwhere(img1_hls[..., 2] == 255)"
   ]
  },
  {
   "cell_type": "code",
   "execution_count": null,
   "metadata": {
    "scrolled": false
   },
   "outputs": [],
   "source": [
    "temp = [( 20, (628, 424)),\n",
    "        ( 40, (767, 663)),\n",
    "        ( 60, (767, 499)),\n",
    "        ( 63, (767, 524)),\n",
    "        ( 80, (  3, 178)),\n",
    "        (100, (259, 370)),\n",
    "        (120, (373, 207)),\n",
    "        (127, (463, 243)),\n",
    "        (140, (462, 258)),\n",
    "        (160, (288, 516)),\n",
    "        (180, (495, 224)),\n",
    "        (190, (157, 313)),\n",
    "        (191, (623, 389)),\n",
    "        (200, (535, 642)),\n",
    "        (210, (571, 337)),\n",
    "        (220, (656, 344)),\n",
    "        (230, (613, 435)),\n",
    "        (255, (463, 367))]\n",
    "\n",
    "for s_pix, (i, j) in temp:\n",
    "    show_pixel(i, j, s_pix)\n",
    "    print('')\n"
   ]
  },
  {
   "cell_type": "code",
   "execution_count": null,
   "metadata": {},
   "outputs": [],
   "source": [
    "s230 = np.argwhere(np.all(img1_hls[:, :, :-1] == (116, 206), axis=-1))\n",
    "\n",
    "for i, j in s230:\n",
    "    show_pixel(i, j, 111)\n",
    "    print('')"
   ]
  }
 ],
 "metadata": {
  "kernelspec": {
   "display_name": "Python 3",
   "language": "python",
   "name": "python3"
  },
  "language_info": {
   "codemirror_mode": {
    "name": "ipython",
    "version": 3
   },
   "file_extension": ".py",
   "mimetype": "text/x-python",
   "name": "python",
   "nbconvert_exporter": "python",
   "pygments_lexer": "ipython3",
   "version": "3.6.9"
  },
  "pycharm": {
   "stem_cell": {
    "cell_type": "raw",
    "metadata": {
     "collapsed": false
    },
    "source": []
   }
  }
 },
 "nbformat": 4,
 "nbformat_minor": 2
}
