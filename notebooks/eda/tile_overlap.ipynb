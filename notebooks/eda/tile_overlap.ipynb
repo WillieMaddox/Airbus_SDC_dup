{
 "cells": [
  {
   "cell_type": "code",
   "execution_count": null,
   "metadata": {
    "scrolled": true
   },
   "outputs": [],
   "source": [
    "import os\n",
    "import shutil\n",
    "from collections import Counter\n",
    "from collections import namedtuple\n",
    "\n",
    "import numpy as np\n",
    "import matplotlib.pyplot as plt\n",
    "import cv2\n",
    "\n",
    "from sdcdup.utils import get_project_root\n",
    "from sdcdup.utils import get_tile\n",
    "from sdcdup.utils import load_duplicate_truth\n",
    "from sdcdup.utils import ImgMod\n",
    "from sdcdup.features import SDCImageContainer\n",
    "from sdcdup.features import load_image_overlap_properties\n",
    "from sdcdup.visualization import get_ticks\n",
    "from sdcdup.visualization import draw_tile_number\n",
    "from sdcdup.visualization import draw_tile_bbox\n",
    "from sdcdup.visualization import show_image_pair\n",
    "\n",
    "%load_ext dotenv\n",
    "%dotenv\n",
    "%matplotlib inline\n",
    "%reload_ext autoreload\n",
    "%autoreload 2\n",
    "\n",
    "RED = (244, 67, 54)  #F44336\n",
    "GREEN = (76, 175, 80)  #4CAF50\n",
    "BLUE = (3, 169, 244)  #03A9F4\n",
    "\n",
    "SMALL_SIZE = 10\n",
    "MEDIUM_SIZE = 12\n",
    "BIGGER_SIZE = 16\n",
    "BIGGEST_SIZE = 20\n",
    "plt.rc('font', size=BIGGER_SIZE)         # controls default text sizes\n",
    "plt.rc('axes', titlesize=BIGGER_SIZE)    # fontsize of the axes title\n",
    "plt.rc('axes', labelsize=BIGGER_SIZE)    # fontsize of the x and y labels\n",
    "plt.rc('xtick', labelsize=BIGGER_SIZE)    # fontsize of the tick labels\n",
    "plt.rc('ytick', labelsize=BIGGER_SIZE)    # fontsize of the tick labels\n",
    "plt.rc('legend', fontsize=MEDIUM_SIZE)    # legend fontsize\n",
    "plt.rc('figure', titlesize=BIGGEST_SIZE)  # fontsize of the figure title\n",
    "\n",
    "project_root = get_project_root()\n",
    "train_image_dir = os.path.join(project_root, os.getenv('RAW_DATA_DIR'), 'train_768')\n",
    "persistent_data_dir = os.path.join(project_root, os.getenv('PERSISTENT_DATA_DIR'))\n",
    "samples_dir = os.path.join(persistent_data_dir, 'samples')\n",
    "figures_dir = os.path.join(project_root, 'notebooks', 'figures')\n",
    "\n",
    "bbox_color_map = {'red': RED, 'blue': BLUE, 'green': GREEN}\n",
    "\n",
    "ticks = get_ticks()"
   ]
  },
  {
   "cell_type": "code",
   "execution_count": null,
   "metadata": {},
   "outputs": [],
   "source": [
    "def cp2persist(img_id):\n",
    "    src = os.path.join(train_image_dir, img_id)\n",
    "    dst = os.path.join(samples_dir, img_id)\n",
    "    if not os.path.exists(dst):\n",
    "        shutil.copy2(src, dst)\n",
    "\n",
    "def get_overlap_pixel_scores(img1_id, img2_id, img1_overlap_tag):\n",
    "    scores = None\n",
    "    if (img1_id, img2_id) in overlap_image_maps:\n",
    "        if img1_overlap_tag in overlap_image_maps[(img1_id, img2_id)]:\n",
    "            scores = overlap_image_maps[(img1_id, img2_id)][img1_overlap_tag]\n",
    "    if scores is None:\n",
    "        Scores = namedtuple('Scores', 'px0 pix')\n",
    "        px0 = sdcic.gen_px0_scores(img1_id, img2_id, img1_overlap_tag)\n",
    "        pix = sdcic.gen_pix_scores(img1_id, img2_id, img1_overlap_tag)\n",
    "        scores = Scores(px0, pix)\n",
    "    return scores\n",
    "\n",
    "def plot_image_grid(img_ids, ncols, nrows, filebase=None):\n",
    "    fig, ax = plt.subplots(nrows, ncols, figsize=(ncols*4, nrows*4))\n",
    "    for i, img_id in enumerate(img_ids):\n",
    "        img = cv2.cvtColor(cv2.imread(os.path.join(train_image_dir, img_id)), cv2.COLOR_BGR2RGB)\n",
    "        ax[i // ncols, i % ncols].imshow(img)\n",
    "        ax[i // ncols, i % ncols].set_title(img_id)\n",
    "        ax[i // ncols, i % ncols].set_xticks(ticks)\n",
    "        ax[i // ncols, i % ncols].set_yticks(ticks)\n",
    "    plt.tight_layout()\n",
    "    \n",
    "    if filebase:\n",
    "        filename = f'{filebase}_{ncols}_{nrows}.jpg'\n",
    "        plt.savefig(os.path.join(figures_dir, filename))"
   ]
  },
  {
   "cell_type": "code",
   "execution_count": null,
   "metadata": {},
   "outputs": [],
   "source": [
    "sdcic = SDCImageContainer()\n",
    "sdcic.preprocess_image_properties()"
   ]
  },
  {
   "cell_type": "code",
   "execution_count": null,
   "metadata": {},
   "outputs": [],
   "source": [
    "n_matching_tiles_list = [9, 6, 4, 3, 2, 1]\n",
    "overlap_image_maps = load_image_overlap_properties(n_matching_tiles_list)\n",
    "print(len(overlap_image_maps))"
   ]
  },
  {
   "cell_type": "code",
   "execution_count": null,
   "metadata": {},
   "outputs": [],
   "source": [
    "dup_truth = load_duplicate_truth(filepath=persistent_data_dir, filename='duplicate_truth.txt')\n",
    "print(len(dup_truth))"
   ]
  },
  {
   "cell_type": "code",
   "execution_count": null,
   "metadata": {},
   "outputs": [],
   "source": [
    "font = cv2.FONT_HERSHEY_SIMPLEX\n",
    "font_scale = 5\n",
    "line_type = 8\n",
    "bbox_thickness = 8\n",
    "tile_indexes = [0, 1, 2, 3, 4, 5, 6, 7, 8]\n",
    "img_id = '21d7ea9bf.jpg'\n",
    "\n",
    "fig, ax = plt.subplots(1, 1, figsize=(4, 4))\n",
    "\n",
    "img = cv2.cvtColor(cv2.imread(os.path.join(samples_dir, img_id)), cv2.COLOR_BGR2RGB)\n",
    "for idx in tile_indexes:\n",
    "    draw_tile_bbox(img, idx, bbox_thickness, RED)\n",
    "    draw_tile_number(img, idx, color=RED)\n",
    "    \n",
    "ax.imshow(img)\n",
    "ax.set_title(img_id)\n",
    "ax.set_xticks(ticks)\n",
    "ax.set_yticks(ticks)\n",
    "\n",
    "plt.savefig(os.path.join(figures_dir, f'overlap_key.jpg'))"
   ]
  },
  {
   "cell_type": "markdown",
   "metadata": {},
   "source": [
    "## Check to see how many exact duplicate tiles we have."
   ]
  },
  {
   "cell_type": "code",
   "execution_count": null,
   "metadata": {},
   "outputs": [],
   "source": [
    "dup_tile_hashes = {}\n",
    "dup_tile_counts = Counter()\n",
    "dup_image_samples = []\n",
    "for img_id, tile_hashes in sdcic.tile_md5hash_grids.items():\n",
    "    c0 = Counter(tile_hashes)\n",
    "    for tile_hash, c in c0.items():\n",
    "        if c == 1:\n",
    "            continue\n",
    "        tile_indexes = np.where(tile_hashes == tile_hash)[0]\n",
    "        \n",
    "        if tile_hash not in dup_tile_hashes:\n",
    "            dup_image_samples.append((img_id, tile_hash, tile_indexes))\n",
    "            dup_tile_hashes[tile_hash] = {}\n",
    "\n",
    "        for idx in tile_indexes:\n",
    "            if img_id not in dup_tile_hashes[tile_hash]:\n",
    "                dup_tile_hashes[tile_hash][img_id] = []\n",
    "            if idx not in dup_tile_hashes[tile_hash][img_id]:\n",
    "                dup_tile_hashes[tile_hash][img_id].append(idx)\n",
    "                dup_tile_counts[tile_hash] += 1\n",
    "\n",
    "print(dup_tile_counts)\n",
    "\n",
    "dup_hashes = tuple([key for key in dup_tile_hashes])\n",
    "\n",
    "for img_id, tile_hashes in sdcic.tile_md5hash_grids.items():\n",
    "    c0 = Counter(tile_hashes)\n",
    "    for tile_hash, c in c0.items():\n",
    "        if c > 1:\n",
    "            continue\n",
    "        if tile_hash not in dup_hashes:\n",
    "            continue\n",
    "        tile_indexes = np.where(tile_hashes == tile_hash)[0]\n",
    "        \n",
    "        for idx in tile_indexes:\n",
    "            if img_id not in dup_tile_hashes[tile_hash]:\n",
    "                dup_tile_hashes[tile_hash][img_id] = []\n",
    "            if idx not in dup_tile_hashes[tile_hash][img_id]:\n",
    "                dup_tile_hashes[tile_hash][img_id].append(idx)\n",
    "                dup_tile_counts[tile_hash] += 1\n",
    "                \n",
    "print(dup_tile_counts)\n",
    "\n",
    "dup_image_counts = {key: len(val) for key, val in dup_tile_hashes.items()}\n",
    "print(dup_image_counts)\n",
    "\n",
    "bbox_thickness = 8\n",
    "ncols = 3\n",
    "nrows = 2\n",
    "assert ncols * nrows == len(dup_image_samples)\n",
    "\n",
    "fig, ax = plt.subplots(nrows, ncols, figsize=(15, 10))\n",
    "\n",
    "for i, (img_id, tile_hash, tile_indexes) in enumerate(dup_image_samples):\n",
    "    cp2persist(img_id)\n",
    "    img = cv2.cvtColor(cv2.imread(os.path.join(samples_dir, img_id)), cv2.COLOR_BGR2RGB)\n",
    "    \n",
    "    title = f'{img_id} | {tile_hash}'\n",
    "    \n",
    "    for ii, idx in enumerate(tile_indexes):\n",
    "        if ii == 0:\n",
    "            tile = get_tile(img, idx)\n",
    "            print(img_id, tile_hash, dup_image_counts[tile_hash], dup_tile_counts[tile_hash])\n",
    "#             print(tile[0, 0], tile[0, -1])\n",
    "#             print(tile[-1, 0], tile[-1, -1])\n",
    "\n",
    "    for idx in tile_indexes:\n",
    "        draw_tile_bbox(img, idx, bbox_thickness, RED)\n",
    "        draw_tile_number(img, idx, color=RED)\n",
    "    \n",
    "    ax[i // ncols, i % ncols].imshow(img)\n",
    "    ax[i // ncols, i % ncols].set_title(title)\n",
    "    ax[i // ncols, i % ncols].set_xticks(ticks)\n",
    "    ax[i // ncols, i % ncols].set_yticks(ticks)\n",
    "\n",
    "plt.tight_layout()\n",
    "\n",
    "plt.savefig(os.path.join(figures_dir, f'images_with_duplicate_tiles.jpg'))"
   ]
  },
  {
   "cell_type": "code",
   "execution_count": null,
   "metadata": {},
   "outputs": [],
   "source": [
    "# mostly black images\n",
    "img_ids = [\n",
    "    '03ffa7680.jpg', '8d5521663.jpg', '5a70ef013.jpg', '9a2f9d347.jpg', '37a912dca.jpg', \n",
    "    '4add7aa1d.jpg', '3db3ef7cc.jpg', '73fec0637.jpg', '7df214d98.jpg', 'c2955cd21.jpg', \n",
    "    'de018b2a8.jpg', '8ce769141.jpg', 'fc0e22a0a.jpg', '770c46cd4.jpg', 'd6e432b79.jpg', \n",
    "    'd5d1b6fb8.jpg', '0e4d7dd93.jpg', '9ddeed533.jpg', 'addc11de0.jpg', '65418dfe4.jpg', \n",
    "    '119d6a3d6.jpg', '1b287c905.jpg', 'b264b0f96.jpg', '996f92939.jpg', 'e5c3b1f59.jpg']\n",
    "plot_image_grid(img_ids, 5, 5, filebase='black_images')"
   ]
  },
  {
   "cell_type": "code",
   "execution_count": null,
   "metadata": {},
   "outputs": [],
   "source": [
    "def draw_image_quad(\n",
    "    img1_id, img2_id, \n",
    "    img1_overlap_tag='08', \n",
    "    with_scores=True,\n",
    "    bbox_thickness=4,\n",
    "    bbox_color=None,\n",
    "    draw_bboxes=True,\n",
    "    save=False):\n",
    "    \n",
    "    cp2persist(img1_id)\n",
    "    cp2persist(img2_id)\n",
    "    \n",
    "    if not bbox_color:\n",
    "        if img1_overlap_tag == '08':\n",
    "            draw_bboxes = False\n",
    "        if (img1_id, img2_id, img1_overlap_tag) in dup_truth:\n",
    "            bbox_color = GREEN if dup_truth[(img1_id, img2_id, img1_overlap_tag)] else RED\n",
    "        else:\n",
    "            bbox_color = BLUE\n",
    "            \n",
    "    fig, ((ax11, ax12), (ax21, ax22)) = plt.subplots(2, 2, figsize=(12, 12))\n",
    "    \n",
    "    imgmod1 = ImgMod(os.path.join(samples_dir, img1_id))\n",
    "    imgmod2 = ImgMod(os.path.join(samples_dir, img2_id))\n",
    "    \n",
    "    show_image_pair(ax11, ax12,\n",
    "                    imgmod1, imgmod2, img1_overlap_tag,\n",
    "                    draw_bboxes, bbox_thickness, bbox_color,\n",
    "                    img1_id, img2_id, ticks, median_color_shift=False)\n",
    "    \n",
    "    if with_scores:\n",
    "        scores = get_overlap_pixel_scores(img1_id, img2_id, img1_overlap_tag)\n",
    "        title1 = f'px0: min: {np.min(scores.px0)}, max: {np.max(scores.px0)}'\n",
    "        title2 = f'pix: min: {np.min(scores.pix)}, max: {np.max(scores.pix)}'\n",
    "    else:\n",
    "        title1 = img1_id\n",
    "        title2 = img2_id\n",
    "    \n",
    "    show_image_pair(ax21, ax22,\n",
    "                    imgmod1, imgmod2, img1_overlap_tag,\n",
    "                    draw_bboxes, bbox_thickness, bbox_color,\n",
    "                    title1, title2, ticks, median_color_shift=True)\n",
    "\n",
    "    plt.tight_layout()\n",
    "    \n",
    "    if save:\n",
    "        filename = os.path.join(figures_dir, f'{img1_id}_{img2_id}_{img1_overlap_tag}.jpg')\n",
    "        if os.path.exists(filename):\n",
    "            print(f'{filename} already exists. Overwriting...')\n",
    "        else:\n",
    "            print(f'{filename} saved.')\n",
    "        plt.savefig(filename)\n",
    "\n",
    "def draw_image_pair(\n",
    "    img1_id, img2_id, \n",
    "    img1_overlap_tag='08',\n",
    "    median_color_shift=False,\n",
    "    with_scores=False,\n",
    "    bbox_thickness=4,\n",
    "    bbox_color=None, \n",
    "    draw_bboxes=True,\n",
    "    save=False):\n",
    "    \n",
    "    cp2persist(img1_id)\n",
    "    cp2persist(img2_id)\n",
    "    \n",
    "    if not bbox_color:\n",
    "        if img1_overlap_tag == '08':\n",
    "            draw_bboxes = False\n",
    "        if (img1_id, img2_id, img1_overlap_tag) in dup_truth:\n",
    "            bbox_color = GREEN if dup_truth[(img1_id, img2_id, img1_overlap_tag)] else RED\n",
    "        else:\n",
    "            bbox_color = BLUE\n",
    "    \n",
    "    if with_scores:\n",
    "        scores = get_overlap_pixel_scores(img1_id, img2_id, img1_overlap_tag)\n",
    "        title1 = f'px0: min: {np.min(scores.px0)}, max: {np.max(scores.px0)}'\n",
    "        title2 = f'pix: min: {np.min(scores.pix)}, max: {np.max(scores.pix)}'\n",
    "    else:\n",
    "        title1 = img1_id\n",
    "        title2 = img2_id\n",
    "    \n",
    "    fig, (ax1, ax2) = plt.subplots(1, 2, figsize=(12, 6))\n",
    "    \n",
    "    imgmod1 = ImgMod(os.path.join(samples_dir, img1_id))\n",
    "    imgmod2 = ImgMod(os.path.join(samples_dir, img2_id))\n",
    "    \n",
    "    show_image_pair(ax1, ax2, \n",
    "                    imgmod1, imgmod2, img1_overlap_tag, \n",
    "                    draw_bboxes, bbox_thickness, bbox_color, \n",
    "                    title1, title2, ticks, median_color_shift)\n",
    "    \n",
    "    plt.tight_layout()\n",
    "    \n",
    "    if save:\n",
    "        filename = os.path.join(figures_dir, f\"{img1_id}_{img2_id}_{img1_overlap_tag}.jpg\")\n",
    "        if os.path.exists(filename):\n",
    "            print(f\"{filename} already exists. Overwriting...\")\n",
    "        else:\n",
    "            print(f\"{filename} saved.\")\n",
    "        plt.savefig(filename)\n"
   ]
  },
  {
   "cell_type": "code",
   "execution_count": null,
   "metadata": {},
   "outputs": [],
   "source": [
    "draw_image_pair('46b87e21c.jpg', 'f881c203f.jpg', '04', bbox_color='red')"
   ]
  },
  {
   "cell_type": "code",
   "execution_count": null,
   "metadata": {},
   "outputs": [],
   "source": [
    "draw_image_pair('46b87e21c.jpg', 'f881c203f.jpg', '07')"
   ]
  },
  {
   "cell_type": "code",
   "execution_count": null,
   "metadata": {},
   "outputs": [],
   "source": [
    "draw_image_pair('9b34f2f64.jpg', 'e8b058856.jpg', '05', bbox_color='red')"
   ]
  },
  {
   "cell_type": "code",
   "execution_count": null,
   "metadata": {},
   "outputs": [],
   "source": [
    "draw_image_pair('9b34f2f64.jpg', 'e8b058856.jpg', '18')"
   ]
  },
  {
   "cell_type": "code",
   "execution_count": null,
   "metadata": {},
   "outputs": [],
   "source": [
    "draw_image_pair('356f4c539.jpg', '6dd7430f6.jpg', '02')"
   ]
  },
  {
   "cell_type": "code",
   "execution_count": null,
   "metadata": {},
   "outputs": [],
   "source": [
    "draw_image_pair('b8ce38df4.jpg', 'ddfc36407.jpg')"
   ]
  },
  {
   "cell_type": "code",
   "execution_count": null,
   "metadata": {},
   "outputs": [],
   "source": [
    "draw_image_pair('8a0542232.jpg', 'ddfc36407.jpg')"
   ]
  },
  {
   "cell_type": "code",
   "execution_count": null,
   "metadata": {},
   "outputs": [],
   "source": [
    "draw_image_pair('8a0542232.jpg', 'ddfc36407.jpg', '68')"
   ]
  },
  {
   "cell_type": "code",
   "execution_count": null,
   "metadata": {},
   "outputs": [],
   "source": [
    "draw_image_pair('0ef6cd331.jpg', '2095da0cb.jpg')"
   ]
  },
  {
   "cell_type": "code",
   "execution_count": null,
   "metadata": {},
   "outputs": [],
   "source": [
    "draw_image_pair('0efcd3f26.jpg', '89a2baf91.jpg', plot_shift_wrap=False)"
   ]
  },
  {
   "cell_type": "code",
   "execution_count": null,
   "metadata": {},
   "outputs": [],
   "source": [
    "draw_image_pair('2c09a2423.jpg', 'b4eba96e8.jpg', plot_shift_wrap=False)"
   ]
  },
  {
   "cell_type": "code",
   "execution_count": null,
   "metadata": {},
   "outputs": [],
   "source": [
    "draw_image_pair('2556bfc6c.jpg', '2c09a2423.jpg', '28', plot_scores=True)"
   ]
  },
  {
   "cell_type": "code",
   "execution_count": null,
   "metadata": {},
   "outputs": [],
   "source": [
    "draw_image_pair('2556bfc6c.jpg', 'd3474ec95.jpg', plot_shift_wrap=False)"
   ]
  },
  {
   "cell_type": "code",
   "execution_count": null,
   "metadata": {},
   "outputs": [],
   "source": [
    "draw_image_pair('908f11dd6.jpg', 'c5d9bc753.jpg', '02')"
   ]
  },
  {
   "cell_type": "code",
   "execution_count": null,
   "metadata": {},
   "outputs": [],
   "source": [
    "draw_image_pair('2b6c7fd55.jpg', 'c5d9bc753.jpg', '15')"
   ]
  },
  {
   "cell_type": "code",
   "execution_count": null,
   "metadata": {},
   "outputs": [],
   "source": [
    "draw_image_pair('03a5fd8d2.jpg', '676f4cfd0.jpg', plot_scores=True)"
   ]
  },
  {
   "cell_type": "code",
   "execution_count": null,
   "metadata": {},
   "outputs": [],
   "source": [
    "draw_image_pair('536356d11.jpg', '783d9495a.jpg', '15', plot_scores=True)"
   ]
  },
  {
   "cell_type": "code",
   "execution_count": null,
   "metadata": {},
   "outputs": [],
   "source": [
    "draw_image_pair('536356d11.jpg', '88c2acaf8.jpg', '15', plot_scores=True)"
   ]
  },
  {
   "cell_type": "code",
   "execution_count": null,
   "metadata": {},
   "outputs": [],
   "source": [
    "draw_image_pair('861367193.jpg', 'e6e729afa.jpg', '03')"
   ]
  },
  {
   "cell_type": "code",
   "execution_count": null,
   "metadata": {},
   "outputs": [],
   "source": [
    "draw_image_pair('385df9573.jpg', '813a4728e.jpg', '58')"
   ]
  },
  {
   "cell_type": "code",
   "execution_count": null,
   "metadata": {
    "scrolled": false
   },
   "outputs": [],
   "source": [
    "img_id, pix_thresh = 'd049cb0be.jpg', 5000\n",
    "img_id, pix_thresh = 'c5d9bc753.jpg', 10000\n",
    "img_id, pix_thresh = '2556bfc6c.jpg', 5000000\n",
    "img_id, pix_thresh = 'd3474ec95.jpg', 5000000\n",
    "pset = set()\n",
    "overlay_set = set()\n",
    "for (img1_id, img2_id), overlap_map in overlap_image_maps.items():\n",
    "    if img_id in (img1_id, img2_id):\n",
    "        assert len(overlap_map) == 1\n",
    "        for img1_overlap_tag, scores in overlap_map.items():\n",
    "#             if np.max(scores.shp) == 0:\n",
    "#                 break\n",
    "            if np.max(scores.pix) > pix_thresh:\n",
    "                break\n",
    "            print(img1_id, img2_id, img1_overlap_tag)\n",
    "#             print(scores.pix)\n",
    "#             print(scores.shp)\n",
    "        else:\n",
    "            overlay_set.add((img1_id, img2_id, img1_overlap_tag))\n",
    "            pset.add(img1_id)\n",
    "            pset.add(img2_id)\n",
    "\n",
    "# for p in sorted(pset):\n",
    "#     print(p)\n",
    "\n",
    "# plot_image_grid(sorted(pset), 4, 4)"
   ]
  },
  {
   "cell_type": "code",
   "execution_count": null,
   "metadata": {},
   "outputs": [],
   "source": [
    "for i, overlay in enumerate(sorted(overlay_set)):\n",
    "    pixel_scores = sdcic.gen_pix_scores(*overlay)\n",
    "    if np.max(pixel_scores) < 5000:\n",
    "        print((overlay[0], overlay[1]))"
   ]
  },
  {
   "cell_type": "code",
   "execution_count": null,
   "metadata": {},
   "outputs": [],
   "source": [
    "overlap_group1 = [\n",
    "    '3e98c83f7.jpg', \n",
    "    'b356b1f4a.jpg', \n",
    "    'd42dcdc8c.jpg', \n",
    "    '861367193.jpg', \n",
    "    '536356d11.jpg', \n",
    "    '9b82e7a76.jpg',\n",
    "    '783d9495a.jpg', \n",
    "    'cc29cb437.jpg',\n",
    "    '385df9573.jpg']\n",
    "\n",
    "overlap_group2 = [\n",
    "    'd0e99b467.jpg', \n",
    "    'f0d46bbd8.jpg', \n",
    "    'd049cb0be.jpg', \n",
    "    '813a4728e.jpg',\n",
    "    'a4e6f04a8.jpg', \n",
    "    'e80ae5e73.jpg', \n",
    "    '88c2acaf8.jpg', \n",
    "    '30d3278a2.jpg', \n",
    "    'e6e729afa.jpg']\n"
   ]
  },
  {
   "cell_type": "code",
   "execution_count": null,
   "metadata": {},
   "outputs": [],
   "source": [
    "plot_image_grid(overlap_group1, 3, 3)"
   ]
  },
  {
   "cell_type": "code",
   "execution_count": null,
   "metadata": {},
   "outputs": [],
   "source": [
    "plot_image_grid(overlap_group2, 3, 3)"
   ]
  },
  {
   "cell_type": "code",
   "execution_count": null,
   "metadata": {
    "scrolled": true
   },
   "outputs": [],
   "source": [
    "image_pairs = [(g1, g2) for g1, g2 in zip(overlap_group1, overlap_group2)]"
   ]
  },
  {
   "cell_type": "code",
   "execution_count": null,
   "metadata": {},
   "outputs": [],
   "source": [
    "plot_image_grid(np.array(image_pairs).flatten(), 6, 3)"
   ]
  },
  {
   "cell_type": "code",
   "execution_count": null,
   "metadata": {},
   "outputs": [],
   "source": [
    "pixel_scores = []\n",
    "for img1_id, img2_id in image_pairs:\n",
    "    pixel_scores.append(sdcic.gen_pix_scores(img1_id, img2_id, '08'))\n",
    "\n",
    "print(np.asarray(pixel_scores))"
   ]
  },
  {
   "cell_type": "code",
   "execution_count": null,
   "metadata": {},
   "outputs": [],
   "source": [
    "print(np.asarray(pixel_scores).reshape((9, 3, 3)))"
   ]
  },
  {
   "cell_type": "code",
   "execution_count": null,
   "metadata": {
    "scrolled": false
   },
   "outputs": [],
   "source": [
    "for img1_id, img2_id in image_pairs:\n",
    "    draw_wrap_pair(img1_id, img2_id)"
   ]
  }
 ],
 "metadata": {
  "kernelspec": {
   "display_name": "Python 3",
   "language": "python",
   "name": "python3"
  },
  "language_info": {
   "codemirror_mode": {
    "name": "ipython",
    "version": 3
   },
   "file_extension": ".py",
   "mimetype": "text/x-python",
   "name": "python",
   "nbconvert_exporter": "python",
   "pygments_lexer": "ipython3",
   "version": "3.6.9"
  },
  "pycharm": {
   "stem_cell": {
    "cell_type": "raw",
    "metadata": {
     "collapsed": false
    },
    "source": []
   }
  }
 },
 "nbformat": 4,
 "nbformat_minor": 1
}
