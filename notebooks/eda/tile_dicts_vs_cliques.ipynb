{
 "cells": [
  {
   "cell_type": "code",
   "execution_count": null,
   "metadata": {
    "scrolled": true
   },
   "outputs": [],
   "source": [
    "from collections import Counter\n",
    "from collections import defaultdict\n",
    "\n",
    "import numpy as np\n",
    "import networkx as nx\n",
    "from tqdm import tqdm_notebook\n",
    "\n",
    "from sdcdup.utils import generate_tag_pair_lookup\n",
    "from sdcdup.utils import load_duplicate_truth\n",
    "from sdcdup.utils import update_tile_cliques\n",
    "from sdcdup.features import SDCImageContainer\n",
    "from sdcdup.features import load_image_overlap_properties\n",
    "\n",
    "%reload_ext autoreload\n",
    "%autoreload 2\n",
    "\n",
    "img_overlap_index_maps = generate_tag_pair_lookup()"
   ]
  },
  {
   "cell_type": "code",
   "execution_count": null,
   "metadata": {},
   "outputs": [],
   "source": [
    "sdcic = SDCImageContainer()\n",
    "sdcic.load_image_metrics(['md5', 'sol'])"
   ]
  },
  {
   "cell_type": "code",
   "execution_count": null,
   "metadata": {},
   "outputs": [],
   "source": [
    "dup_truth = load_duplicate_truth()\n",
    "print(len(dup_truth))"
   ]
  },
  {
   "cell_type": "code",
   "execution_count": null,
   "metadata": {},
   "outputs": [],
   "source": [
    "n_matching_tiles_list = [9, 6, 4, 3, 2]\n",
    "overlap_image_maps = load_image_overlap_properties(n_matching_tiles_list, sdcic)\n",
    "print(len(overlap_image_maps))"
   ]
  },
  {
   "cell_type": "markdown",
   "metadata": {},
   "source": [
    "## Get all the overlap_image_maps that are not in dup_truth."
   ]
  },
  {
   "cell_type": "code",
   "execution_count": null,
   "metadata": {
    "code_folding": []
   },
   "outputs": [],
   "source": [
    "overlap_candidates = []\n",
    "for (img1_id, img2_id), overlap_maps in tqdm_notebook(overlap_image_maps.items()):\n",
    "    for img1_overlap_tag in overlap_maps:\n",
    "        if (img1_id, img2_id, img1_overlap_tag) in dup_truth:\n",
    "            continue\n",
    "        overlap_candidates.append((img1_id, img2_id, img1_overlap_tag))\n",
    "print(len(overlap_candidates))"
   ]
  },
  {
   "cell_type": "markdown",
   "metadata": {},
   "source": [
    "## Create list of flat hashes. \n",
    "(i.e. hashes for tiles where every pixel is the same color)"
   ]
  },
  {
   "cell_type": "code",
   "execution_count": null,
   "metadata": {},
   "outputs": [],
   "source": [
    "solid_hashes = set()\n",
    "for img_id, tile_issolid_grid in sdcic.img_metrics['sol'].items():\n",
    "    idxs = set(np.where(tile_issolid_grid >= 0)[0])\n",
    "    for idx in idxs:\n",
    "        if np.all(tile_issolid_grid[idx] >= 0):\n",
    "            solid_hashes.add(sdcic.img_metrics['md5'][img_id][idx])\n",
    "\n",
    "print(solid_hashes)"
   ]
  },
  {
   "cell_type": "markdown",
   "metadata": {},
   "source": [
    "### Automatically find dups using dicts"
   ]
  },
  {
   "cell_type": "code",
   "execution_count": null,
   "metadata": {},
   "outputs": [],
   "source": [
    "tile_hash_dup_dict = defaultdict(set)\n",
    "tile_hash_dif_dict = defaultdict(set)\n",
    "\n",
    "for (img1_id, img2_id, img1_overlap_tag), is_dup in dup_truth.items():\n",
    "    \n",
    "    for idx1, idx2 in img_overlap_index_maps[img1_overlap_tag]:\n",
    "        \n",
    "        tile1_hash = sdcic.img_metrics['md5'][img1_id][idx1]\n",
    "        tile2_hash = sdcic.img_metrics['md5'][img2_id][idx2]\n",
    "        \n",
    "        if is_dup:\n",
    "\n",
    "            if tile1_hash in solid_hashes or tile2_hash in solid_hashes:\n",
    "                continue\n",
    "\n",
    "            tile_hash_dup_dict[tile1_hash].add(tile1_hash)\n",
    "            tile_hash_dup_dict[tile2_hash].add(tile2_hash)\n",
    "            tile_hash_dup_dict[tile1_hash].add(tile2_hash)\n",
    "            tile_hash_dup_dict[tile2_hash].add(tile1_hash)\n",
    "        \n",
    "        else:\n",
    "            if tile1_hash == tile2_hash:\n",
    "                continue\n",
    "\n",
    "            tile_hash_dif_dict[tile1_hash].add(tile2_hash)\n",
    "            tile_hash_dif_dict[tile2_hash].add(tile1_hash)\n",
    "            \n",
    "print(len(tile_hash_dup_dict), len(tile_hash_dif_dict))\n",
    "\n",
    "# Sanity check: hashes cannot be simultaneously \"a dup\" and \"not a dup\" of tile1_hash\n",
    "for tile1_hash in tile_hash_dup_dict:\n",
    "    if len(tile_hash_dup_dict[tile1_hash].intersection(tile_hash_dif_dict[tile1_hash])) != 0:\n",
    "        print(tile1_hash, tile_hash_dup_dict[tile1_hash], tile_hash_dif_dict[tile1_hash])\n",
    "    assert len(tile_hash_dup_dict[tile1_hash].intersection(tile_hash_dif_dict[tile1_hash])) == 0\n",
    "    \n",
    "# Sanity check: If B and C are dups of A, then make sure C not in tile_hash_dif_dict[B]\n",
    "for tile1_hash, tile1_dups in tile_hash_dup_dict.items():\n",
    "    for tile1_dup1 in sorted(tile1_dups):\n",
    "        for tile1_dup2 in sorted(tile1_dups):\n",
    "            if tile1_dup1 in tile_hash_dif_dict[tile1_dup2]:\n",
    "                print(tile1_hash, tile1_dup1, tile_hash_dif_dict[tile1_dup2])\n",
    "            assert tile1_dup1 not in tile_hash_dif_dict[tile1_dup2]\n",
    "\n",
    "# Now we should be able to form cliques: (i.e. If A == B and B == C, then A == C)\n",
    "for tile1_hash, tile1_dups in tile_hash_dup_dict.items():\n",
    "    for tile1_dup1 in sorted(tile1_dups):\n",
    "        for tile1_dup2 in sorted(tile1_dups):\n",
    "            if tile1_dup1 <= tile1_dup2:\n",
    "                continue\n",
    "            tile_hash_dup_dict[tile1_dup1].add(tile1_dup2)\n",
    "            tile_hash_dup_dict[tile1_dup2].add(tile1_dup1)\n",
    "\n",
    "neighbor_counts = Counter()\n",
    "for tile1_hash, tile1_dups in tile_hash_dup_dict.items():\n",
    "    neighbor_counts[len(tile1_dups)] += 1\n",
    "list(sorted(neighbor_counts.items()))"
   ]
  },
  {
   "cell_type": "code",
   "execution_count": null,
   "metadata": {},
   "outputs": [],
   "source": [
    "auto_overlap_labels_0 = {}\n",
    "\n",
    "for img1_id, img2_id, img1_overlap_tag in overlap_candidates:\n",
    "    for idx1, idx2 in img_overlap_index_maps[img1_overlap_tag]:\n",
    "        \n",
    "        tile1_hash = sdcic.img_metrics['md5'][img1_id][idx1]\n",
    "        tile2_hash = sdcic.img_metrics['md5'][img2_id][idx2]\n",
    "        \n",
    "        if tile1_hash in tile_hash_dif_dict[tile2_hash]:\n",
    "            assert tile2_hash in tile_hash_dif_dict[tile1_hash]\n",
    "            auto_overlap_labels_0[(img1_id, img2_id, img1_overlap_tag)] = 0\n",
    "            break\n",
    "\n",
    "print(len(auto_overlap_labels_0))"
   ]
  },
  {
   "cell_type": "code",
   "execution_count": null,
   "metadata": {},
   "outputs": [],
   "source": [
    "auto_overlap_labels_1 = {}\n",
    "\n",
    "for img1_id, img2_id, img1_overlap_tag in overlap_candidates:\n",
    "    for idx1, idx2 in img_overlap_index_maps[img1_overlap_tag]:\n",
    "        \n",
    "        tile1_hash = sdcic.img_metrics['md5'][img1_id][idx1]\n",
    "        tile2_hash = sdcic.img_metrics['md5'][img2_id][idx2]\n",
    "        \n",
    "        if tile1_hash in tile_hash_dup_dict[tile2_hash]:\n",
    "            assert tile2_hash in tile_hash_dup_dict[tile1_hash]\n",
    "            continue\n",
    "        else:\n",
    "            break\n",
    "    else:\n",
    "        auto_overlap_labels_1[(img1_id, img2_id, img1_overlap_tag)] = 1\n",
    "\n",
    "print(len(auto_overlap_labels_1))"
   ]
  },
  {
   "cell_type": "markdown",
   "metadata": {},
   "source": [
    "### Using cliques (networkx)"
   ]
  },
  {
   "cell_type": "code",
   "execution_count": null,
   "metadata": {},
   "outputs": [],
   "source": [
    "tile_hash_dup_cliques = nx.Graph()\n",
    "tile_hash_dif_cliques = nx.Graph()\n",
    "\n",
    "for (img1_id, img2_id, img1_overlap_tag), is_dup in dup_truth.items():\n",
    "    for idx1, idx2 in img_overlap_index_maps[img1_overlap_tag]:\n",
    "        tile1_hash = sdcic.img_metrics['md5'][img1_id][idx1]\n",
    "        tile2_hash = sdcic.img_metrics['md5'][img2_id][idx2]\n",
    "        if is_dup:\n",
    "            if tile1_hash in solid_hashes or tile2_hash in solid_hashes:\n",
    "                continue\n",
    "            update_tile_cliques(tile_hash_dup_cliques, tile1_hash, tile2_hash)\n",
    "        else:\n",
    "            if tile1_hash == tile2_hash:\n",
    "                continue\n",
    "            tile_hash_dif_cliques.add_edge(tile1_hash, tile2_hash)\n",
    "\n",
    "print(tile_hash_dup_cliques.number_of_nodes(), tile_hash_dif_cliques.number_of_nodes())\n",
    "\n",
    "neighbor_counts = Counter()\n",
    "for tile_hashes in nx.connected_components(tile_hash_dup_cliques):\n",
    "    neighbor_counts[len(tile_hashes)] += 1\n",
    "list(sorted(neighbor_counts.items()))"
   ]
  },
  {
   "cell_type": "markdown",
   "metadata": {},
   "source": [
    "#### Separately"
   ]
  },
  {
   "cell_type": "code",
   "execution_count": null,
   "metadata": {},
   "outputs": [],
   "source": [
    "auto_overlap_labels_0 = {}\n",
    "\n",
    "for img1_id, img2_id, img1_overlap_tag in overlap_candidates:\n",
    "    for idx1, idx2 in img_overlap_index_maps[img1_overlap_tag]:\n",
    "        \n",
    "        tile1_hash = sdcic.img_metrics['md5'][img1_id][idx1]\n",
    "        tile2_hash = sdcic.img_metrics['md5'][img2_id][idx2]\n",
    "        \n",
    "        if tile1_hash in tile_hash_dif_cliques and tile2_hash in set(nx.neighbors(tile_hash_dif_cliques, tile1_hash)):\n",
    "            auto_overlap_labels_0[(img1_id, img2_id, img1_overlap_tag)] = 0\n",
    "            break\n",
    "\n",
    "print(len(auto_overlap_labels_0))"
   ]
  },
  {
   "cell_type": "code",
   "execution_count": null,
   "metadata": {},
   "outputs": [],
   "source": [
    "auto_overlap_labels_1 = {}\n",
    "\n",
    "for img1_id, img2_id, img1_overlap_tag in overlap_candidates:\n",
    "    for idx1, idx2 in img_overlap_index_maps[img1_overlap_tag]:\n",
    "        \n",
    "        tile1_hash = sdcic.img_metrics['md5'][img1_id][idx1]\n",
    "        tile2_hash = sdcic.img_metrics['md5'][img2_id][idx2]\n",
    "        \n",
    "        if tile1_hash in tile_hash_dup_cliques and tile2_hash in set(nx.neighbors(tile_hash_dup_cliques, tile1_hash)):\n",
    "            continue\n",
    "        else:\n",
    "            break\n",
    "    else:\n",
    "        auto_overlap_labels_1[(img1_id, img2_id, img1_overlap_tag)] = 1\n",
    "\n",
    "print(len(auto_overlap_labels_1))"
   ]
  },
  {
   "cell_type": "code",
   "execution_count": null,
   "metadata": {},
   "outputs": [],
   "source": [
    "auto_overlap_labels = {}\n",
    "for key in auto_overlap_labels_0:\n",
    "    assert key not in auto_overlap_labels_1\n",
    "auto_overlap_labels.update(auto_overlap_labels_0)\n",
    "auto_overlap_labels.update(auto_overlap_labels_1)\n",
    "print(len(auto_overlap_labels))"
   ]
  },
  {
   "cell_type": "markdown",
   "metadata": {},
   "source": [
    "#### Simultaneously"
   ]
  },
  {
   "cell_type": "code",
   "execution_count": null,
   "metadata": {},
   "outputs": [],
   "source": [
    "auto_overlap_labels = {}\n",
    "\n",
    "for img1_id, img2_id, img1_overlap_tag in overlap_candidates:\n",
    "    if (img1_id, img2_id, img1_overlap_tag) in auto_overlap_labels:\n",
    "        continue\n",
    "    is_dup = 1\n",
    "    for idx1, idx2 in img_overlap_index_maps[img1_overlap_tag]:\n",
    "        \n",
    "        tile1_hash = sdcic.img_metrics['md5'][img1_id][idx1]\n",
    "        tile2_hash = sdcic.img_metrics['md5'][img2_id][idx2]\n",
    "        \n",
    "        if tile1_hash in tile_hash_dif_cliques and tile2_hash in set(nx.neighbors(tile_hash_dif_cliques, tile1_hash)):\n",
    "            is_dup = 0\n",
    "            break\n",
    "        elif tile1_hash in tile_hash_dup_cliques and tile2_hash in set(nx.neighbors(tile_hash_dup_cliques, tile1_hash)):\n",
    "            continue\n",
    "        else:\n",
    "            is_dup = -1\n",
    "\n",
    "    if is_dup == -1:\n",
    "        continue\n",
    "    \n",
    "    auto_overlap_labels[(img1_id, img2_id, img1_overlap_tag)] = is_dup\n",
    "\n",
    "print(len(auto_overlap_labels))"
   ]
  }
 ],
 "metadata": {
  "kernelspec": {
   "display_name": "Python 3",
   "language": "python",
   "name": "python3"
  },
  "language_info": {
   "codemirror_mode": {
    "name": "ipython",
    "version": 3
   },
   "file_extension": ".py",
   "mimetype": "text/x-python",
   "name": "python",
   "nbconvert_exporter": "python",
   "pygments_lexer": "ipython3",
   "version": "3.6.9"
  },
  "latex_envs": {
   "LaTeX_envs_menu_present": true,
   "autoclose": false,
   "autocomplete": true,
   "bibliofile": "biblio.bib",
   "cite_by": "apalike",
   "current_citInitial": 1,
   "eqLabelWithNumbers": true,
   "eqNumInitial": 1,
   "hotkeys": {
    "equation": "Ctrl-E",
    "itemize": "Ctrl-I"
   },
   "labels_anchors": false,
   "latex_user_defs": false,
   "report_style_numbering": false,
   "user_envs_cfg": false
  },
  "pycharm": {
   "stem_cell": {
    "cell_type": "raw",
    "metadata": {
     "collapsed": false
    },
    "source": []
   }
  }
 },
 "nbformat": 4,
 "nbformat_minor": 1
}
