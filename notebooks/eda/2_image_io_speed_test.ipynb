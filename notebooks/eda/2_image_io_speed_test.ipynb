{
 "cells": [
  {
   "cell_type": "code",
   "execution_count": null,
   "metadata": {},
   "outputs": [],
   "source": [
    "import os\n",
    "import time\n",
    "import numpy as np\n",
    "import cv2\n",
    "\n",
    "from sdcdup.utils import get_project_root\n",
    "\n",
    "%matplotlib inline\n",
    "%reload_ext autoreload\n",
    "%autoreload 2\n",
    "\n",
    "project_root = get_project_root()\n",
    "train_image_dir = os.path.join(project_root, os.getenv('RAW_DATA_DIR'), 'train_768')\n",
    "train_tile_dir = os.path.join(project_root, os.getenv('PROCESSED_DATA_DIR'), 'train_256')\n",
    "img_ids = os.listdir(train_image_dir)\n",
    "len(img_ids)"
   ]
  },
  {
   "cell_type": "markdown",
   "metadata": {},
   "source": [
    "## Speed Test"
   ]
  },
  {
   "cell_type": "code",
   "execution_count": null,
   "metadata": {},
   "outputs": [],
   "source": [
    "def read_from_large(img, ij):\n",
    "    i, j = ij_pairs[ij]\n",
    "    tile = img[i * 256:(i + 1) * 256, j * 256:(j + 1) * 256, :]\n",
    "    tile = cv2.cvtColor(tile, cv2.COLOR_BGR2RGB).astype(np.float32) / 255.0\n",
    "    return tile\n",
    "\n",
    "def read_from_small(img_id, ij):\n",
    "    filebase, fileext = img_id.split('.')\n",
    "    tile_id = f'{filebase}_{ij}.{fileext}'\n",
    "    tile = cv2.imread(os.path.join(train_tile_dir, tile_id))\n",
    "    tile = cv2.cvtColor(tile, cv2.COLOR_BGR2RGB).astype(np.float32) / 255.0\n",
    "    return tile\n",
    "\n",
    "def from_large(img_id, ij, kl):\n",
    "    img = cv2.imread(os.path.join(train_image_dir, img_id))\n",
    "    tile1 = read_from_large(img, ij)\n",
    "    tile2 = read_from_large(img, kl)\n",
    "    return np.dstack([tile1, tile2])\n",
    "\n",
    "def from_small(img_id, ij, kl):\n",
    "    tile1 = read_from_small(img_id, ij)\n",
    "    tile2 = read_from_small(img_id, kl)\n",
    "    return np.dstack([tile1, tile2])\n",
    "\n",
    "def from_both(img_id, ij, kl):\n",
    "    img = cv2.imread(os.path.join(train_image_dir, img_id))\n",
    "    tile1 = read_from_large(img, ij)\n",
    "    tile2 = read_from_small(img_id, kl)\n",
    "    return np.dstack([tile1, tile2])\n",
    "\n",
    "n_steps = 500\n",
    "\n",
    "ij_pairs = ((0, 0), (0, 1), (0, 2),\n",
    "            (1, 0), (1, 1), (1, 2),\n",
    "            (2, 0), (2, 1), (2, 2))\n",
    "ijkl = []\n",
    "for i in range(n_steps):\n",
    "    ij, kl = np.random.choice(len(ij_pairs), 2, replace=False)\n",
    "    ijkl.append((ij, kl))\n",
    "\n",
    "img_id_list = np.random.choice(img_ids, n_steps)\n",
    "t0 = time.time()\n",
    "for (ij, kl), img_id in zip(ijkl, img_id_list):\n",
    "    _ = from_large(img_id, ij, kl)\n",
    "print('from_large:', time.time() - t0)\n",
    "\n",
    "img_id_list = np.random.choice(img_ids, n_steps)\n",
    "t0 = time.time()\n",
    "for (ij, kl), img_id in zip(ijkl, img_id_list):\n",
    "    _ = from_small(img_id, ij, kl)\n",
    "print('from_small:', time.time() - t0)\n",
    "\n",
    "img_id_list = np.random.choice(img_ids, n_steps)\n",
    "t0 = time.time()\n",
    "for (ij, kl), img_id in zip(ijkl, img_id_list):\n",
    "    _ = from_both(img_id, ij, kl)\n",
    "print('from_both: ', time.time() - t0)"
   ]
  }
 ],
 "metadata": {
  "kernelspec": {
   "display_name": "Python 3",
   "language": "python",
   "name": "python3"
  },
  "language_info": {
   "codemirror_mode": {
    "name": "ipython",
    "version": 3
   },
   "file_extension": ".py",
   "mimetype": "text/x-python",
   "name": "python",
   "nbconvert_exporter": "python",
   "pygments_lexer": "ipython3",
   "version": "3.6.9"
  }
 },
 "nbformat": 4,
 "nbformat_minor": 1
}
