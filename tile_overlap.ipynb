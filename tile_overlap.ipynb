{
 "cells": [
  {
   "cell_type": "code",
   "execution_count": null,
   "metadata": {
    "scrolled": true
   },
   "outputs": [],
   "source": [
    "import os\n",
    "import hashlib\n",
    "from collections import Counter\n",
    "\n",
    "import numpy as np\n",
    "import matplotlib.pyplot as plt\n",
    "from skimage.util import montage\n",
    "import cv2\n",
    "from cv2 import img_hash\n",
    "\n",
    "from sdcdup.utils import tilebox_corners\n",
    "from sdcdup.utils import overlap_tag_pairs\n",
    "from sdcdup.utils import generate_overlap_tag_slices\n",
    "from sdcdup.utils import boundingbox_corners\n",
    "from sdcdup.utils import channel_shift\n",
    "from sdcdup.utils import load_duplicate_truth\n",
    "\n",
    "from test_friend_circles import SDCImageContainer\n",
    "from test_friend_circles import load_image_overlap_properties\n",
    "\n",
    "%matplotlib inline\n",
    "%reload_ext autoreload\n",
    "%autoreload 2\n",
    "\n",
    "RED = (244, 67, 54)  #F44336 \n",
    "GREEN = (76, 175, 80)  #4CAF50 \n",
    "LIGHT_BLUE = (3, 169, 244)  #03A9F4\n",
    "\n",
    "SMALL_SIZE = 10\n",
    "MEDIUM_SIZE = 12\n",
    "BIGGER_SIZE = 16\n",
    "BIGGEST_SIZE = 20\n",
    "plt.rc('font', size=BIGGEST_SIZE)         # controls default text sizes\n",
    "plt.rc('axes', titlesize=BIGGEST_SIZE)    # fontsize of the axes title\n",
    "plt.rc('axes', labelsize=BIGGEST_SIZE)    # fontsize of the x and y labels\n",
    "plt.rc('xtick', labelsize=BIGGER_SIZE)    # fontsize of the tick labels\n",
    "plt.rc('ytick', labelsize=BIGGER_SIZE)    # fontsize of the tick labels\n",
    "plt.rc('legend', fontsize=MEDIUM_SIZE)    # legend fontsize\n",
    "plt.rc('figure', titlesize=BIGGEST_SIZE)  # fontsize of the figure title\n",
    "\n",
    "montage_rgb = lambda x: np.stack([montage(x[:, :, :, i]) for i in range(x.shape[3])], -1)\n",
    "montage_pad = lambda x, *args, **kwargs: montage(x, padding_width=10, *args, **kwargs)\n",
    "\n",
    "train_image_dir = 'data/raw/train_768/'\n",
    "image_md5hash_grids_file = 'data/interim/image_md5hash_grids.pkl'\n",
    "image_bm0hash_grids_file = 'data/interim/image_bm0hash_grids.pkl'\n",
    "image_cm0hash_grids_file = 'data/interim/image_cm0hash_grids.pkl'\n",
    "image_greycop_grids_file = 'data/interim/image_greycop_grids.pkl'\n",
    "image_entropy_grids_file = 'data/interim/image_entropy_grids.pkl'\n",
    "image_issolid_grids_file = 'data/interim/image_issolid_grids.pkl'\n",
    "image_shipcnt_grids_file = 'data/interim/image_shipcnt_grids.pkl'\n",
    "\n",
    "overlap_tag_slices = generate_overlap_tag_slices()\n",
    "\n",
    "bbox_color_map = {'red': RED, 'blue': LIGHT_BLUE, 'green': GREEN}\n",
    "\n",
    "dtick = 256\n",
    "n_ticks = 768 // dtick + 1\n",
    "ticks = [i * dtick for i in range(n_ticks)]"
   ]
  },
  {
   "cell_type": "code",
   "execution_count": null,
   "metadata": {},
   "outputs": [],
   "source": [
    "class ImgMod:\n",
    "    \"\"\"\n",
    "    Reads a single image to be modified by hls.\n",
    "    \"\"\"\n",
    "\n",
    "    def __init__(self, filename):\n",
    "        self.filename = filename\n",
    "        self.img_id = filename.split('/')[-1]\n",
    "\n",
    "        self._hls_chan = None\n",
    "        self._hls_gain = None\n",
    "\n",
    "        self._parent_bgr = None\n",
    "        self._parent_hls = None\n",
    "        self._parent_rgb = None\n",
    "        self._cv2_hls = None\n",
    "        self._cv2_bgr = None\n",
    "        self._cv2_rgb = None\n",
    "\n",
    "    def channel_shift(self, chan, gain):\n",
    "        self._hls_chan = chan\n",
    "        self._hls_gain = gain\n",
    "        self._cv2_hls = None\n",
    "        return self.cv2_rgb\n",
    "    \n",
    "    def scale(self, minval, maxval):\n",
    "        m = 255.0 * (maxval - minval)\n",
    "        res = m * (self.parent_bgr - minval)\n",
    "        return np.around(res).astype(np.uint8)\n",
    "    \n",
    "    @property\n",
    "    def shape(self):\n",
    "        return self.parent_bgr.shape\n",
    "    \n",
    "    @property\n",
    "    def parent_bgr(self):\n",
    "        if self._parent_bgr is None:\n",
    "            self._parent_bgr = cv2.imread(self.filename)\n",
    "        return self._parent_bgr\n",
    "\n",
    "    @property\n",
    "    def parent_hls(self):\n",
    "        if self._parent_hls is None:\n",
    "            self._parent_hls = self.to_hls(self.parent_bgr)\n",
    "        return self._parent_hls\n",
    "\n",
    "    @property\n",
    "    def parent_rgb(self):\n",
    "        if self._parent_rgb is None:\n",
    "            self._parent_rgb = self.to_rgb(self.parent_bgr)\n",
    "        return self._parent_rgb\n",
    "\n",
    "    @property\n",
    "    def cv2_hls(self):\n",
    "        if self._cv2_hls is None:\n",
    "            if self._hls_gain == None:\n",
    "                self._cv2_hls = self.parent_hls\n",
    "            else:\n",
    "                self._cv2_hls = channel_shift(self.parent_hls, self._hls_chan, self._hls_gain)\n",
    "        return self._cv2_hls\n",
    "\n",
    "    @property\n",
    "    def cv2_bgr(self):\n",
    "        if self._cv2_bgr is None:\n",
    "            self._cv2_bgr = self.to_bgr(self.cv2_hls)\n",
    "        return self._cv2_bgr\n",
    "\n",
    "    @property\n",
    "    def cv2_rgb(self):\n",
    "        if self._cv2_rgb is None:\n",
    "            self._cv2_rgb = self.to_rgb(self.cv2_bgr)\n",
    "        return self._cv2_rgb\n",
    "\n",
    "    def to_hls(self, bgr):\n",
    "        return cv2.cvtColor(bgr, cv2.COLOR_BGR2HLS_FULL)\n",
    "\n",
    "    def to_bgr(self, hls):\n",
    "        return cv2.cvtColor(hls, cv2.COLOR_HLS2BGR_FULL)\n",
    "\n",
    "    def to_rgb(self, bgr):\n",
    "        return cv2.cvtColor(bgr, cv2.COLOR_BGR2RGB)"
   ]
  },
  {
   "cell_type": "code",
   "execution_count": null,
   "metadata": {},
   "outputs": [],
   "source": [
    "def plot_image_grid(img_ids, ncols, nrows):\n",
    "    fig, ax = plt.subplots(nrows, ncols, figsize=(ncols*4, nrows*4))\n",
    "    for i, img_id in enumerate(img_ids):\n",
    "        img = cv2.cvtColor(cv2.imread(os.path.join(train_image_dir, img_id)), cv2.COLOR_BGR2RGB)\n",
    "        ax[i // ncols, i % ncols].imshow(img)\n",
    "        ax[i // ncols, i % ncols].set_title(img_id)\n",
    "        ax[i // ncols, i % ncols].set_xticks(ticks)\n",
    "        ax[i // ncols, i % ncols].set_yticks(ticks)\n",
    "    plt.tight_layout()"
   ]
  },
  {
   "cell_type": "code",
   "execution_count": null,
   "metadata": {},
   "outputs": [],
   "source": [
    "sdcic = SDCImageContainer()\n",
    "sdcic.preprocess_image_properties(\n",
    "    image_md5hash_grids_file,\n",
    "    image_bm0hash_grids_file,\n",
    "    image_cm0hash_grids_file,\n",
    "    image_greycop_grids_file,\n",
    "    image_entropy_grids_file,\n",
    "    image_issolid_grids_file)\n",
    "sdcic.preprocess_label_properties(\n",
    "    image_shipcnt_grids_file)"
   ]
  },
  {
   "cell_type": "code",
   "execution_count": null,
   "metadata": {},
   "outputs": [],
   "source": [
    "n_matching_tiles_list = [9, 6, 4, 3, 2, 1]\n",
    "overlap_image_maps = load_image_overlap_properties(n_matching_tiles_list)\n",
    "print(len(overlap_image_maps))"
   ]
  },
  {
   "cell_type": "code",
   "execution_count": null,
   "metadata": {},
   "outputs": [],
   "source": [
    "dup_truth = load_duplicate_truth()\n",
    "print(len(dup_truth))"
   ]
  },
  {
   "cell_type": "markdown",
   "metadata": {},
   "source": [
    "## Check to see how many exact duplicate tiles we have."
   ]
  },
  {
   "cell_type": "code",
   "execution_count": null,
   "metadata": {},
   "outputs": [],
   "source": [
    "dup_tiles = []\n",
    "dup_tile_hashes = {}\n",
    "dup_tile_counts = Counter()\n",
    "dup_image_samples = []\n",
    "for img_id, tile_hashes in sdcic.tile_md5hash_grids.items():\n",
    "    c0 = Counter(tile_hashes)\n",
    "    for tile_hash, c in c0.items():\n",
    "        if c == 1:\n",
    "            continue\n",
    "        tile_indexes = np.where(tile_hashes == tile_hash)[0]\n",
    "        \n",
    "        if tile_hash not in dup_tile_hashes:\n",
    "            dup_image_samples.append((img_id, tile_hash, tile_indexes))\n",
    "            dup_tile_hashes[tile_hash] = {}\n",
    "\n",
    "        for idx in tile_indexes:\n",
    "            if img_id not in dup_tile_hashes[tile_hash]:\n",
    "                dup_tile_hashes[tile_hash][img_id] = []\n",
    "            if idx not in dup_tile_hashes[tile_hash][img_id]:\n",
    "                dup_tile_hashes[tile_hash][img_id].append(idx)\n",
    "                dup_tile_counts[tile_hash] += 1\n",
    "\n",
    "dup_hashes = tuple([key for key in dup_tile_hashes])\n",
    "\n",
    "for img_id, tile_hashes in sdcic.tile_md5hash_grids.items():\n",
    "    c0 = Counter(tile_hashes)\n",
    "    for tile_hash, c in c0.items():\n",
    "        if c > 1:\n",
    "            continue\n",
    "        if tile_hash not in dup_hashes:\n",
    "            continue\n",
    "        tile_indexes = np.where(tile_hashes == tile_hash)[0]\n",
    "        \n",
    "        for idx in tile_indexes:\n",
    "            if img_id not in dup_tile_hashes[tile_hash]:\n",
    "                dup_tile_hashes[tile_hash][img_id] = []\n",
    "            if idx not in dup_tile_hashes[tile_hash][img_id]:\n",
    "                dup_tile_hashes[tile_hash][img_id].append(idx)\n",
    "                dup_tile_counts[tile_hash] += 1\n",
    "                \n",
    "dup_image_counts = {key: len(val) for key, val in dup_tile_hashes.items()}\n",
    "\n",
    "dup_tile_counts"
   ]
  },
  {
   "cell_type": "code",
   "execution_count": null,
   "metadata": {},
   "outputs": [],
   "source": [
    "bbox_thickness = 5   \n",
    "ncols = 3\n",
    "nrows = 2\n",
    "assert ncols * nrows == len(dup_image_samples)\n",
    "\n",
    "fig, ax = plt.subplots(nrows, ncols, figsize=(16, 10))\n",
    "for i, (img_id, tile_hash, tile_indexes) in enumerate(dup_image_samples):\n",
    "    img = cv2.cvtColor(sdcic.get_img(img_id), cv2.COLOR_BGR2RGB)\n",
    "        \n",
    "    for ii, idx in enumerate(tile_indexes):\n",
    "        if ii == 0:\n",
    "            tile = sdcic.get_tile(img, idx)\n",
    "            print(img_id, tile_hash, idx)\n",
    "            print(tile[0, 0], tile[0, -1])\n",
    "            print(tile[-1, 0], tile[-1, -1])\n",
    "\n",
    "    for idx in tile_indexes:\n",
    "        bbox_pt1, bbox_pt2 = tilebox_corners[idx]\n",
    "        cv2.rectangle(img, tuple(bbox_pt1), tuple(bbox_pt2), bbox_color_map['red'], bbox_thickness)\n",
    "\n",
    "    ax[i // ncols, i % ncols].imshow(img)\n",
    "    ax[i // ncols, i % ncols].set_title(img_id)\n",
    "    ax[i // ncols, i % ncols].set_xticks(ticks)\n",
    "    ax[i // ncols, i % ncols].set_yticks(ticks)\n",
    "\n",
    "plt.tight_layout()"
   ]
  },
  {
   "cell_type": "code",
   "execution_count": null,
   "metadata": {},
   "outputs": [],
   "source": [
    "black_tile = np.zeros((256, 256, 3), dtype=np.uint8)\n",
    "white_tile = black_tile + 255\n",
    "blue_tile = np.copy(black_tile)\n",
    "blue_tile[:, :, 0] = 255\n",
    "red_tile = np.copy(black_tile)\n",
    "red_tile[:, :, 2] = 255\n",
    "color_tiles = [black_tile, white_tile, blue_tile, red_tile]\n",
    "for color_tile in color_tiles:\n",
    "    print(img_hash.blockMeanHash(color_tile, mode=0)[0])\n",
    "    print(hashlib.md5(color_tile.tobytes()).hexdigest())"
   ]
  },
  {
   "cell_type": "code",
   "execution_count": null,
   "metadata": {},
   "outputs": [],
   "source": [
    "# mostly black images\n",
    "img_ids = [\n",
    "    '03ffa7680.jpg', '8d5521663.jpg', '5a70ef013.jpg', '9a2f9d347.jpg', '37a912dca.jpg', \n",
    "    '4add7aa1d.jpg', '3db3ef7cc.jpg', '73fec0637.jpg', '7df214d98.jpg', 'c2955cd21.jpg', \n",
    "    'de018b2a8.jpg', '8ce769141.jpg', 'fc0e22a0a.jpg', '770c46cd4.jpg', 'd6e432b79.jpg', \n",
    "    'd5d1b6fb8.jpg', '0e4d7dd93.jpg', '9ddeed533.jpg', 'addc11de0.jpg', '65418dfe4.jpg', \n",
    "    '119d6a3d6.jpg', '1b287c905.jpg', 'b264b0f96.jpg', '996f92939.jpg', 'e5c3b1f59.jpg']\n",
    "plot_image_grid(img_ids, 5, 5)"
   ]
  },
  {
   "cell_type": "code",
   "execution_count": null,
   "metadata": {},
   "outputs": [],
   "source": [
    "def draw_image_pair(\n",
    "    img1_id,img2_id, \n",
    "    img1_overlap_tag=\"08\", \n",
    "    shift_brightness=False, \n",
    "    plot_shift_wrap=True, \n",
    "    plot_scores=False,\n",
    "    bbox_color=None, \n",
    "    save=False):\n",
    "    \n",
    "    if not plot_shift_wrap:\n",
    "        # Just in case...\n",
    "        plot_scores = False\n",
    "\n",
    "    if plot_scores:\n",
    "        scores = overlap_image_maps[(img1_id, img2_id)][img1_overlap_tag]\n",
    "    imgmod1 = ImgMod(os.path.join(train_image_dir, img1_id))\n",
    "    imgmod2 = ImgMod(os.path.join(train_image_dir, img2_id))\n",
    "    \n",
    "    slice1 = overlap_tag_slices[img1_overlap_tag]\n",
    "    slice2 = overlap_tag_slices[overlap_tag_pairs[img1_overlap_tag]]\n",
    "\n",
    "    m12 = np.median(np.vstack([imgmod1.parent_rgb[slice1], imgmod2.parent_rgb[slice2]]), axis=(0, 1), keepdims=True).astype(np.uint8)\n",
    "    img1_drop = imgmod1.parent_rgb - m12\n",
    "    img2_drop = imgmod2.parent_rgb - m12\n",
    "    \n",
    "    if shift_brightness:\n",
    "        brightness_level = -100 if np.sum(m12) >= 384 else 100\n",
    "        img1 = imgmod1.channel_shift('L', brightness_level)\n",
    "        img2 = imgmod2.channel_shift('L', brightness_level)\n",
    "    else:\n",
    "        img1 = imgmod1.parent_rgb\n",
    "        img2 = imgmod2.parent_rgb\n",
    "    \n",
    "    if bbox_color:\n",
    "        bbox_color = bbox_color_map[bbox_color]\n",
    "    else:\n",
    "        bbox_color = LIGHT_BLUE\n",
    "        if (img1_id, img2_id, img1_overlap_tag) in dup_truth:\n",
    "            bbox_color = GREEN if dup_truth[(img1_id, img2_id, img1_overlap_tag)] else RED\n",
    "        \n",
    "    bbox_thickness = 4\n",
    "    offset = (bbox_thickness // 2) + 1\n",
    "    offset_array = np.array([[offset], [-offset]])\n",
    "    img1_bbox_pt1, img1_bbox_pt2 = boundingbox_corners[img1_overlap_tag] + offset_array\n",
    "    img2_bbox_pt1, img2_bbox_pt2 = boundingbox_corners[overlap_tag_pairs[img1_overlap_tag]] + offset_array\n",
    "    \n",
    "    img1[slice1] = imgmod1.parent_rgb[slice1]\n",
    "    img2[slice2] = imgmod2.parent_rgb[slice2]\n",
    "    cv2.rectangle(img1, tuple(img1_bbox_pt1), tuple(img1_bbox_pt2), bbox_color, bbox_thickness)\n",
    "    cv2.rectangle(img2, tuple(img2_bbox_pt1), tuple(img2_bbox_pt2), bbox_color, bbox_thickness)\n",
    "\n",
    "    if plot_shift_wrap:\n",
    "        fig, ((ax00, ax01), (ax10, ax11)) = plt.subplots(2, 2, figsize=(16, 16))    \n",
    "    else:\n",
    "        fig, (ax00, ax01) = plt.subplots(1, 2, figsize=(16, 8))\n",
    "    \n",
    "    ax00.imshow(img1)\n",
    "    ax00.set_xticks(ticks)\n",
    "    ax00.set_yticks(ticks)\n",
    "    ax00.set_title(f'{img1_id}')\n",
    "\n",
    "    ax01.imshow(img2)\n",
    "    ax01.set_xticks(ticks)\n",
    "    ax01.set_yticks(ticks)\n",
    "    ax01.set_title(f'{img2_id}')\n",
    "    \n",
    "    if plot_shift_wrap:\n",
    "        img1[slice1] = img1_drop[slice1]\n",
    "        img2[slice2] = img2_drop[slice2]\n",
    "        cv2.rectangle(img1, tuple(img1_bbox_pt1), tuple(img1_bbox_pt2), bbox_color, bbox_thickness)\n",
    "        cv2.rectangle(img2, tuple(img2_bbox_pt1), tuple(img2_bbox_pt2), bbox_color, bbox_thickness)\n",
    "\n",
    "        ax10.imshow(img1)\n",
    "        ax10.set_xticks(ticks)\n",
    "        ax10.set_yticks(ticks)\n",
    "        if plot_scores:\n",
    "            ax10.set_title(f'cor: {np.min(scores.cor):7.5f} {np.max(scores.cor):7.5f}')\n",
    "\n",
    "        ax11.imshow(img2)\n",
    "        ax11.set_xticks(ticks)\n",
    "        ax11.set_yticks(ticks)\n",
    "        if plot_scores:\n",
    "            ax11.set_title(f'enp: {np.min(scores.enp):5.3f} {np.max(scores.enp):5.3f} {max(scores.pix)}')\n",
    "    \n",
    "    if save:\n",
    "        filename = os.path.join('temp', f\"{img1_id}_{img2_id}_{img1_overlap_tag}.jpg\")\n",
    "        if os.path.exists(filename):\n",
    "            print(f\"{filename} already exists.\")\n",
    "        else:\n",
    "            fig.savefig(filename)\n",
    "            print(f\"{filename} saved.\")\n",
    "\n",
    "def draw_wrap_pair(\n",
    "    img1_id, img2_id, \n",
    "    img1_overlap_tag=\"08\", \n",
    "    shift_brightness=False, \n",
    "    bbox_color=None, \n",
    "    save=False):\n",
    "    \n",
    "    imgmod1 = ImgMod(os.path.join(train_image_dir, img1_id))\n",
    "    imgmod2 = ImgMod(os.path.join(train_image_dir, img2_id))\n",
    "    \n",
    "    slice1 = overlap_tag_slices[img1_overlap_tag]\n",
    "    slice2 = overlap_tag_slices[overlap_tag_pairs[img1_overlap_tag]]\n",
    "\n",
    "    m12 = np.median(np.vstack([imgmod1.parent_rgb[slice1], imgmod2.parent_rgb[slice2]]), axis=(0, 1), keepdims=True).astype(np.uint8)\n",
    "    img1_drop = imgmod1.parent_rgb - m12\n",
    "    img2_drop = imgmod2.parent_rgb - m12\n",
    "    \n",
    "    if shift_brightness:\n",
    "        brightness_level = -100 if np.sum(m12) >= 384 else 100\n",
    "        img1 = imgmod1.channel_shift('L', brightness_level)\n",
    "        img2 = imgmod2.channel_shift('L', brightness_level)\n",
    "    else:\n",
    "        img1 = imgmod1.parent_rgb\n",
    "        img2 = imgmod2.parent_rgb\n",
    "    \n",
    "    if bbox_color:\n",
    "        bbox_color = bbox_color_map[bbox_color]\n",
    "    else:\n",
    "        bbox_color = LIGHT_BLUE\n",
    "        if (img1_id, img2_id, img1_overlap_tag) in dup_truth:\n",
    "            bbox_color = GREEN if dup_truth[(img1_id, img2_id, img1_overlap_tag)] else RED\n",
    "        \n",
    "    bbox_thickness = 4\n",
    "    offset = (bbox_thickness // 2) + 1\n",
    "    offset_array = np.array([[offset], [-offset]])\n",
    "    img1_bbox_pt1, img1_bbox_pt2 = boundingbox_corners[img1_overlap_tag] + offset_array\n",
    "    img2_bbox_pt1, img2_bbox_pt2 = boundingbox_corners[overlap_tag_pairs[img1_overlap_tag]] + offset_array\n",
    "    \n",
    "    fig, (ax10, ax11) = plt.subplots(1, 2, figsize=(16, 8))\n",
    "    \n",
    "    img1[slice1] = img1_drop[slice1]\n",
    "    img2[slice2] = img2_drop[slice2]\n",
    "    cv2.rectangle(img1, tuple(img1_bbox_pt1), tuple(img1_bbox_pt2), bbox_color, bbox_thickness)\n",
    "    cv2.rectangle(img2, tuple(img2_bbox_pt1), tuple(img2_bbox_pt2), bbox_color, bbox_thickness)\n",
    "\n",
    "    ax10.imshow(img1)\n",
    "    ax10.set_xticks(ticks)\n",
    "    ax10.set_yticks(ticks)\n",
    "    ax10.set_title(f'{img1_id}')\n",
    "\n",
    "    ax11.imshow(img2)\n",
    "    ax11.set_xticks(ticks)\n",
    "    ax11.set_yticks(ticks)\n",
    "    ax11.set_title(f'{img2_id}')\n",
    "    \n",
    "    if save:\n",
    "        filename = os.path.join('temp', f\"{img1_id}_{img2_id}_{img1_overlap_tag}.jpg\")\n",
    "        if os.path.exists(filename):\n",
    "            print(f\"{filename} already exists.\")\n",
    "        else:\n",
    "            fig.savefig(filename)\n",
    "            print(f\"{filename} saved.\")\n"
   ]
  },
  {
   "cell_type": "code",
   "execution_count": null,
   "metadata": {},
   "outputs": [],
   "source": [
    "draw_image_pair('46b87e21c.jpg', 'f881c203f.jpg', '04', bbox_color='red')"
   ]
  },
  {
   "cell_type": "code",
   "execution_count": null,
   "metadata": {},
   "outputs": [],
   "source": [
    "draw_image_pair('46b87e21c.jpg', 'f881c203f.jpg', '07')"
   ]
  },
  {
   "cell_type": "code",
   "execution_count": null,
   "metadata": {},
   "outputs": [],
   "source": [
    "draw_image_pair('9b34f2f64.jpg', 'e8b058856.jpg', '05', bbox_color='red')"
   ]
  },
  {
   "cell_type": "code",
   "execution_count": null,
   "metadata": {},
   "outputs": [],
   "source": [
    "draw_image_pair('9b34f2f64.jpg', 'e8b058856.jpg', '18')"
   ]
  },
  {
   "cell_type": "code",
   "execution_count": null,
   "metadata": {},
   "outputs": [],
   "source": [
    "draw_image_pair('356f4c539.jpg', '6dd7430f6.jpg', '02')"
   ]
  },
  {
   "cell_type": "code",
   "execution_count": null,
   "metadata": {},
   "outputs": [],
   "source": [
    "draw_image_pair('b8ce38df4.jpg', 'ddfc36407.jpg')"
   ]
  },
  {
   "cell_type": "code",
   "execution_count": null,
   "metadata": {},
   "outputs": [],
   "source": [
    "draw_image_pair('8a0542232.jpg', 'ddfc36407.jpg')"
   ]
  },
  {
   "cell_type": "code",
   "execution_count": null,
   "metadata": {},
   "outputs": [],
   "source": [
    "draw_image_pair('8a0542232.jpg', 'ddfc36407.jpg', '68')"
   ]
  },
  {
   "cell_type": "code",
   "execution_count": null,
   "metadata": {},
   "outputs": [],
   "source": [
    "draw_image_pair('0ef6cd331.jpg', '2095da0cb.jpg')"
   ]
  },
  {
   "cell_type": "code",
   "execution_count": null,
   "metadata": {},
   "outputs": [],
   "source": [
    "draw_image_pair('0efcd3f26.jpg', '89a2baf91.jpg', plot_shift_wrap=False)"
   ]
  },
  {
   "cell_type": "code",
   "execution_count": null,
   "metadata": {},
   "outputs": [],
   "source": [
    "draw_image_pair('2c09a2423.jpg', 'b4eba96e8.jpg', plot_shift_wrap=False)"
   ]
  },
  {
   "cell_type": "code",
   "execution_count": null,
   "metadata": {},
   "outputs": [],
   "source": [
    "draw_image_pair('2556bfc6c.jpg', '2c09a2423.jpg', '28', plot_scores=True)"
   ]
  },
  {
   "cell_type": "code",
   "execution_count": null,
   "metadata": {},
   "outputs": [],
   "source": [
    "draw_image_pair('2556bfc6c.jpg', 'd3474ec95.jpg', plot_shift_wrap=False)"
   ]
  },
  {
   "cell_type": "code",
   "execution_count": null,
   "metadata": {},
   "outputs": [],
   "source": [
    "draw_image_pair('2b6c7fd55.jpg', 'c5d9bc753.jpg', '15')"
   ]
  },
  {
   "cell_type": "code",
   "execution_count": null,
   "metadata": {},
   "outputs": [],
   "source": [
    "draw_image_pair('536356d11.jpg', '783d9495a.jpg', '15', plot_scores=True)"
   ]
  },
  {
   "cell_type": "code",
   "execution_count": null,
   "metadata": {},
   "outputs": [],
   "source": [
    "draw_image_pair('536356d11.jpg', '88c2acaf8.jpg', '15', plot_scores=True)"
   ]
  },
  {
   "cell_type": "code",
   "execution_count": null,
   "metadata": {},
   "outputs": [],
   "source": [
    "draw_image_pair('861367193.jpg', 'e6e729afa.jpg', '03')"
   ]
  },
  {
   "cell_type": "code",
   "execution_count": null,
   "metadata": {},
   "outputs": [],
   "source": [
    "draw_image_pair('385df9573.jpg', '813a4728e.jpg', '58')"
   ]
  },
  {
   "cell_type": "code",
   "execution_count": null,
   "metadata": {},
   "outputs": [],
   "source": [
    "draw_image_pair('03a5fd8d2.jpg', '676f4cfd0.jpg', plot_scores=True)"
   ]
  },
  {
   "cell_type": "code",
   "execution_count": null,
   "metadata": {
    "scrolled": false
   },
   "outputs": [],
   "source": [
    "img_id, pix_thresh = 'd049cb0be.jpg', 5000\n",
    "img_id, pix_thresh = 'c5d9bc753.jpg', 10000\n",
    "img_id, pix_thresh = '2556bfc6c.jpg', 5000000\n",
    "img_id, pix_thresh = 'd3474ec95.jpg', 5000000\n",
    "pset = set()\n",
    "overlay_set = set()\n",
    "for (img1_id, img2_id), overlap_map in overlap_image_maps.items():\n",
    "    if img_id in (img1_id, img2_id):\n",
    "        assert len(overlap_map) == 1\n",
    "        for img1_overlap_tag, scores in overlap_map.items():\n",
    "#             if np.max(scores.shp) == 0:\n",
    "#                 break\n",
    "            if np.max(scores.pix) > pix_thresh:\n",
    "                break\n",
    "            print(img1_id, img2_id, img1_overlap_tag)\n",
    "#             print(scores.pix)\n",
    "#             print(scores.px0)\n",
    "#             print(scores.shp)\n",
    "        else:\n",
    "            overlay_set.add((img1_id, img2_id, img1_overlap_tag))\n",
    "            pset.add(img1_id)\n",
    "            pset.add(img2_id)\n",
    "\n",
    "# for p in sorted(pset):\n",
    "#     print(p)\n",
    "\n",
    "# plot_image_grid(sorted(pset), 4, 4)"
   ]
  },
  {
   "cell_type": "code",
   "execution_count": null,
   "metadata": {},
   "outputs": [],
   "source": [
    "for i, overlay in enumerate(sorted(overlay_set)):\n",
    "    pixel_scores = sdcic.gen_pixel_scores(*overlay)\n",
    "    if np.max(pixel_scores) < 5000:\n",
    "        print((overlay[0], overlay[1]))"
   ]
  },
  {
   "cell_type": "code",
   "execution_count": null,
   "metadata": {},
   "outputs": [],
   "source": [
    "overlap_group1 = [\n",
    "    '3e98c83f7.jpg', \n",
    "    'b356b1f4a.jpg', \n",
    "    'd42dcdc8c.jpg', \n",
    "    '861367193.jpg', \n",
    "    '536356d11.jpg', \n",
    "    '9b82e7a76.jpg',\n",
    "    '783d9495a.jpg', \n",
    "    'cc29cb437.jpg',\n",
    "    '385df9573.jpg']\n",
    "\n",
    "overlap_group2 = [\n",
    "    'd0e99b467.jpg', \n",
    "    'f0d46bbd8.jpg', \n",
    "    'd049cb0be.jpg', \n",
    "    '813a4728e.jpg',\n",
    "    'a4e6f04a8.jpg', \n",
    "    'e80ae5e73.jpg', \n",
    "    '88c2acaf8.jpg', \n",
    "    '30d3278a2.jpg', \n",
    "    'e6e729afa.jpg']\n"
   ]
  },
  {
   "cell_type": "code",
   "execution_count": null,
   "metadata": {},
   "outputs": [],
   "source": [
    "plot_image_grid(overlap_group1, 3, 3)"
   ]
  },
  {
   "cell_type": "code",
   "execution_count": null,
   "metadata": {},
   "outputs": [],
   "source": [
    "plot_image_grid(overlap_group2, 3, 3)"
   ]
  },
  {
   "cell_type": "code",
   "execution_count": null,
   "metadata": {
    "scrolled": true
   },
   "outputs": [],
   "source": [
    "image_pairs = [(g1, g2) for g1, g2 in zip(overlap_group1, overlap_group2)]"
   ]
  },
  {
   "cell_type": "code",
   "execution_count": null,
   "metadata": {},
   "outputs": [],
   "source": [
    "plot_image_grid(np.array(image_pairs).flatten(), 6, 3)"
   ]
  },
  {
   "cell_type": "code",
   "execution_count": null,
   "metadata": {},
   "outputs": [],
   "source": [
    "pixel_scores = []\n",
    "for img1_id, img2_id in image_pairs:\n",
    "    pixel_scores.append(sdcic.gen_pixel_scores(img1_id, img2_id, \"08\"))\n",
    "\n",
    "print(np.asarray(pixel_scores))"
   ]
  },
  {
   "cell_type": "code",
   "execution_count": null,
   "metadata": {},
   "outputs": [],
   "source": [
    "print(np.asarray(pixel_scores).reshape((9, 3, 3)))"
   ]
  },
  {
   "cell_type": "code",
   "execution_count": null,
   "metadata": {
    "scrolled": false
   },
   "outputs": [],
   "source": [
    "for img1_id, img2_id in image_pairs:\n",
    "    draw_wrap_pair(img1_id, img2_id)"
   ]
  }
 ],
 "metadata": {
  "kernelspec": {
   "display_name": "Python 3",
   "language": "python",
   "name": "python3"
  },
  "language_info": {
   "codemirror_mode": {
    "name": "ipython",
    "version": 3
   },
   "file_extension": ".py",
   "mimetype": "text/x-python",
   "name": "python",
   "nbconvert_exporter": "python",
   "pygments_lexer": "ipython3",
   "version": "3.6.6"
  }
 },
 "nbformat": 4,
 "nbformat_minor": 1
}
