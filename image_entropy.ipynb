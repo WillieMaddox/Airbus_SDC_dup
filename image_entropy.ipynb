{
 "cells": [
  {
   "cell_type": "code",
   "execution_count": 2,
   "metadata": {
    "scrolled": true
   },
   "outputs": [],
   "source": [
    "import os\n",
    "from collections import Counter\n",
    "\n",
    "import numpy as np\n",
    "import pandas as pd\n",
    "import cv2\n",
    "from tqdm import tqdm_notebook\n",
    "\n",
    "from sdcdup.utils import load_duplicate_truth\n",
    "from sdcdup.features.image_features import load_image_overlap_properties\n",
    "\n",
    "%reload_ext autoreload\n",
    "%autoreload 2\n",
    "\n",
    "# SENDTOENV\n",
    "train_image_dir = 'data/raw/train_768/'"
   ]
  },
  {
   "cell_type": "code",
   "execution_count": 13,
   "metadata": {},
   "outputs": [
    {
     "name": "stdout",
     "output_type": "stream",
     "text": [
      "128950\n"
     ]
    }
   ],
   "source": [
    "dup_truth = load_duplicate_truth()\n",
    "print(len(dup_truth))"
   ]
  },
  {
   "cell_type": "code",
   "execution_count": 11,
   "metadata": {},
   "outputs": [
    {
     "name": "stderr",
     "output_type": "stream",
     "text": [
      "100%|██████████| 259/259 [00:00<00:00, 60104.28it/s]\n",
      "100%|██████████| 82823/82823 [00:01<00:00, 62487.19it/s]\n",
      "100%|██████████| 72629/72629 [00:01<00:00, 46587.05it/s]\n",
      "100%|██████████| 75936/75936 [00:01<00:00, 60209.20it/s]\n"
     ]
    },
    {
     "name": "stdout",
     "output_type": "stream",
     "text": [
      "227355\n"
     ]
    }
   ],
   "source": [
    "# score_types = ['bmh', 'cmh', 'con', 'hom', 'eng', 'cor', 'epy', 'enp', 'pix', 'px0', 'shp']\n",
    "n_matching_tiles_list = [9, 6, 4, 3]\n",
    "overlap_image_maps = load_image_overlap_properties(n_matching_tiles_list)\n",
    "print(len(overlap_image_maps))"
   ]
  },
  {
   "cell_type": "markdown",
   "metadata": {},
   "source": [
    "## Here we explore dup detection using image gradients and cross entropy "
   ]
  },
  {
   "cell_type": "code",
   "execution_count": 4,
   "metadata": {},
   "outputs": [],
   "source": [
    "def get_channel_entropy(ctr, img_size=1769472):  # 768x768x3\n",
    "    ctr_norm = {k: v / img_size for k, v in sorted(ctr.items())}\n",
    "    ctr_entropy = {k: -v * np.log(v) for k, v in ctr_norm.items()}\n",
    "    entropy = np.sum([k * v for k, v in ctr_entropy.items()])\n",
    "    return entropy\n",
    "\n",
    "def get_entropy(img_id):\n",
    "    img = cv2.imread(os.path.join(train_image_dir, img_id))\n",
    "    img_grad = np.gradient(img.astype(np.int), axis=(0, 1))\n",
    "    entropy_list = []\n",
    "    for channel_grad in img_grad:\n",
    "        ctr = Counter(np.abs(channel_grad).flatten())\n",
    "        entropy_list.append(get_channel_entropy(ctr, img.size))\n",
    "    return np.array(entropy_list)\n",
    "\n",
    "def get_entropy1(img_id):\n",
    "    img = cv2.imread(os.path.join(train_image_dir, img_id))\n",
    "    img_grad = np.gradient(img.astype(np.int), 0.5, axis=(0, 1))\n",
    "    entropy_list = []\n",
    "    for channel_grad in img_grad:\n",
    "        ctr = Counter(np.abs(channel_grad).astype(np.uint8).flatten())\n",
    "        entropy_list.append(ctr)\n",
    "    return entropy_list\n",
    "\n",
    "def get_entropy2(img1_id, img2_id):\n",
    "    entropy1_list = get_entropy1(img1_id)\n",
    "    entropy2_list = get_entropy1(img2_id)\n",
    "    entropy_list = []\n",
    "    for ctr1, ctr2 in zip(entropy1_list, entropy2_list):\n",
    "        ctr = (ctr1 - ctr2) + (ctr2 - ctr1)\n",
    "        entropy_list.append(get_channel_entropy(ctr))\n",
    "    return np.array(entropy_list)"
   ]
  },
  {
   "cell_type": "code",
   "execution_count": 14,
   "metadata": {
    "scrolled": false
   },
   "outputs": [
    {
     "data": {
      "application/vnd.jupyter.widget-view+json": {
       "model_id": "bc61789118594614b4760105615025e3",
       "version_major": 2,
       "version_minor": 0
      },
      "text/plain": [
       "HBox(children=(IntProgress(value=0, max=227355), HTML(value='')))"
      ]
     },
     "metadata": {},
     "output_type": "display_data"
    },
    {
     "name": "stdout",
     "output_type": "stream",
     "text": [
      "\n",
      "1, 0.99219, 0.99954, 0.99147, 3.407160624749316\n",
      "00021ddc3.jpg [31.25587833 33.27560909] 45.65299650941682\n",
      "7ca331f03.jpg [31.52266151 33.56411072] 46.04593051087031\n",
      "[31.25587833 33.27560909]\n",
      "[31.52266151 33.56411072]\n",
      "[2.4595837  2.35779379]\n",
      "0.990201267411494\n",
      "\n",
      "1, 0.97656, 0.99974, 0.90180, 39.46644093399122\n",
      "00ce2c1c0.jpg [70.2441663  88.34734123] 112.86937405938849\n",
      "8e170847a.jpg [63.40054861 79.62931949] 101.78633546451947\n",
      "[70.2441663  88.34734123]\n",
      "[63.40054861 79.62931949]\n",
      "[24.54014226 30.90924421]\n",
      "0.8316051346208106\n",
      "\n",
      "1, 0.96875, 0.99977, 0.90262, 42.41073107475384\n",
      "0325c0ae2.jpg [76.62711606 93.65979495] 121.01186762490204\n",
      "c299c4851.jpg [69.19673716 84.51296692] 109.22742334957546\n",
      "[76.62711606 93.65979495]\n",
      "[69.19673716 84.51296692]\n",
      "[26.68430839 32.96388624]\n",
      "0.8106966444081986\n",
      "\n",
      "0, 0.98047, 0.93372, 0.85611, 0.007134785639817069\n",
      "0ef6cd331.jpg [0.00565908 0.00508091] 0.007605309705280226\n",
      "2095da0cb.jpg [0.00459349 0.00533009] 0.007036329685245373\n",
      "[0.00565908 0.00508091]\n",
      "[0.00459349 0.00533009]\n",
      "[0.00641058 0.00313202]\n",
      "1.0\n",
      "\n",
      "1, 0.98438, 0.99975, 0.90381, 39.26854082697812\n",
      "10a6d5405.jpg [72.46752317 88.95808625] 114.73919567276864\n",
      "a8ec4d506.jpg [65.53761716 80.36819497] 103.70258447351107\n"
     ]
    },
    {
     "ename": "KeyboardInterrupt",
     "evalue": "",
     "output_type": "error",
     "traceback": [
      "\u001b[0;31m---------------------------------------------------------------------------\u001b[0m",
      "\u001b[0;31mKeyboardInterrupt\u001b[0m                         Traceback (most recent call last)",
      "\u001b[0;32m<ipython-input-14-989771ecbc67>\u001b[0m in \u001b[0;36m<module>\u001b[0;34m\u001b[0m\n\u001b[1;32m     37\u001b[0m             \u001b[0mprint\u001b[0m\u001b[0;34m(\u001b[0m\u001b[0mimg1_id\u001b[0m\u001b[0;34m,\u001b[0m \u001b[0mimg1_entropy_vec\u001b[0m\u001b[0;34m,\u001b[0m \u001b[0;34mf'{img1_entropy_vec_norm}'\u001b[0m\u001b[0;34m)\u001b[0m\u001b[0;34m\u001b[0m\u001b[0;34m\u001b[0m\u001b[0m\n\u001b[1;32m     38\u001b[0m             \u001b[0mprint\u001b[0m\u001b[0;34m(\u001b[0m\u001b[0mimg2_id\u001b[0m\u001b[0;34m,\u001b[0m \u001b[0mimg2_entropy_vec\u001b[0m\u001b[0;34m,\u001b[0m \u001b[0;34mf'{img2_entropy_vec_norm}'\u001b[0m\u001b[0;34m)\u001b[0m\u001b[0;34m\u001b[0m\u001b[0;34m\u001b[0m\u001b[0m\n\u001b[0;32m---> 39\u001b[0;31m             \u001b[0mprint\u001b[0m\u001b[0;34m(\u001b[0m\u001b[0mget_entropy\u001b[0m\u001b[0;34m(\u001b[0m\u001b[0mimg1_id\u001b[0m\u001b[0;34m)\u001b[0m\u001b[0;34m)\u001b[0m\u001b[0;34m\u001b[0m\u001b[0;34m\u001b[0m\u001b[0m\n\u001b[0m\u001b[1;32m     40\u001b[0m             \u001b[0mprint\u001b[0m\u001b[0;34m(\u001b[0m\u001b[0mget_entropy\u001b[0m\u001b[0;34m(\u001b[0m\u001b[0mimg2_id\u001b[0m\u001b[0;34m)\u001b[0m\u001b[0;34m)\u001b[0m\u001b[0;34m\u001b[0m\u001b[0;34m\u001b[0m\u001b[0m\n\u001b[1;32m     41\u001b[0m             \u001b[0mprint\u001b[0m\u001b[0;34m(\u001b[0m\u001b[0mentropy2\u001b[0m\u001b[0;34m)\u001b[0m\u001b[0;34m\u001b[0m\u001b[0;34m\u001b[0m\u001b[0m\n",
      "\u001b[0;32m<ipython-input-4-de539cb6b466>\u001b[0m in \u001b[0;36mget_entropy\u001b[0;34m(img_id)\u001b[0m\n\u001b[1;32m     10\u001b[0m     \u001b[0mentropy_list\u001b[0m \u001b[0;34m=\u001b[0m \u001b[0;34m[\u001b[0m\u001b[0;34m]\u001b[0m\u001b[0;34m\u001b[0m\u001b[0;34m\u001b[0m\u001b[0m\n\u001b[1;32m     11\u001b[0m     \u001b[0;32mfor\u001b[0m \u001b[0mchannel_grad\u001b[0m \u001b[0;32min\u001b[0m \u001b[0mimg_grad\u001b[0m\u001b[0;34m:\u001b[0m\u001b[0;34m\u001b[0m\u001b[0;34m\u001b[0m\u001b[0m\n\u001b[0;32m---> 12\u001b[0;31m         \u001b[0mctr\u001b[0m \u001b[0;34m=\u001b[0m \u001b[0mCounter\u001b[0m\u001b[0;34m(\u001b[0m\u001b[0mnp\u001b[0m\u001b[0;34m.\u001b[0m\u001b[0mabs\u001b[0m\u001b[0;34m(\u001b[0m\u001b[0mchannel_grad\u001b[0m\u001b[0;34m)\u001b[0m\u001b[0;34m.\u001b[0m\u001b[0mflatten\u001b[0m\u001b[0;34m(\u001b[0m\u001b[0;34m)\u001b[0m\u001b[0;34m)\u001b[0m\u001b[0;34m\u001b[0m\u001b[0;34m\u001b[0m\u001b[0m\n\u001b[0m\u001b[1;32m     13\u001b[0m         \u001b[0mentropy_list\u001b[0m\u001b[0;34m.\u001b[0m\u001b[0mappend\u001b[0m\u001b[0;34m(\u001b[0m\u001b[0mget_channel_entropy\u001b[0m\u001b[0;34m(\u001b[0m\u001b[0mctr\u001b[0m\u001b[0;34m,\u001b[0m \u001b[0mimg\u001b[0m\u001b[0;34m.\u001b[0m\u001b[0msize\u001b[0m\u001b[0;34m)\u001b[0m\u001b[0;34m)\u001b[0m\u001b[0;34m\u001b[0m\u001b[0;34m\u001b[0m\u001b[0m\n\u001b[1;32m     14\u001b[0m     \u001b[0;32mreturn\u001b[0m \u001b[0mnp\u001b[0m\u001b[0;34m.\u001b[0m\u001b[0marray\u001b[0m\u001b[0;34m(\u001b[0m\u001b[0mentropy_list\u001b[0m\u001b[0;34m)\u001b[0m\u001b[0;34m\u001b[0m\u001b[0;34m\u001b[0m\u001b[0m\n",
      "\u001b[0;32m~/.virtualenvs/py36/lib/python3.6/collections/__init__.py\u001b[0m in \u001b[0;36m__init__\u001b[0;34m(*args, **kwds)\u001b[0m\n\u001b[1;32m    533\u001b[0m             \u001b[0;32mraise\u001b[0m \u001b[0mTypeError\u001b[0m\u001b[0;34m(\u001b[0m\u001b[0;34m'expected at most 1 arguments, got %d'\u001b[0m \u001b[0;34m%\u001b[0m \u001b[0mlen\u001b[0m\u001b[0;34m(\u001b[0m\u001b[0margs\u001b[0m\u001b[0;34m)\u001b[0m\u001b[0;34m)\u001b[0m\u001b[0;34m\u001b[0m\u001b[0;34m\u001b[0m\u001b[0m\n\u001b[1;32m    534\u001b[0m         \u001b[0msuper\u001b[0m\u001b[0;34m(\u001b[0m\u001b[0mCounter\u001b[0m\u001b[0;34m,\u001b[0m \u001b[0mself\u001b[0m\u001b[0;34m)\u001b[0m\u001b[0;34m.\u001b[0m\u001b[0m__init__\u001b[0m\u001b[0;34m(\u001b[0m\u001b[0;34m)\u001b[0m\u001b[0;34m\u001b[0m\u001b[0;34m\u001b[0m\u001b[0m\n\u001b[0;32m--> 535\u001b[0;31m         \u001b[0mself\u001b[0m\u001b[0;34m.\u001b[0m\u001b[0mupdate\u001b[0m\u001b[0;34m(\u001b[0m\u001b[0;34m*\u001b[0m\u001b[0margs\u001b[0m\u001b[0;34m,\u001b[0m \u001b[0;34m**\u001b[0m\u001b[0mkwds\u001b[0m\u001b[0;34m)\u001b[0m\u001b[0;34m\u001b[0m\u001b[0;34m\u001b[0m\u001b[0m\n\u001b[0m\u001b[1;32m    536\u001b[0m \u001b[0;34m\u001b[0m\u001b[0m\n\u001b[1;32m    537\u001b[0m     \u001b[0;32mdef\u001b[0m \u001b[0m__missing__\u001b[0m\u001b[0;34m(\u001b[0m\u001b[0mself\u001b[0m\u001b[0;34m,\u001b[0m \u001b[0mkey\u001b[0m\u001b[0;34m)\u001b[0m\u001b[0;34m:\u001b[0m\u001b[0;34m\u001b[0m\u001b[0;34m\u001b[0m\u001b[0m\n",
      "\u001b[0;32m~/.virtualenvs/py36/lib/python3.6/collections/__init__.py\u001b[0m in \u001b[0;36mupdate\u001b[0;34m(*args, **kwds)\u001b[0m\n\u001b[1;32m    620\u001b[0m                     \u001b[0msuper\u001b[0m\u001b[0;34m(\u001b[0m\u001b[0mCounter\u001b[0m\u001b[0;34m,\u001b[0m \u001b[0mself\u001b[0m\u001b[0;34m)\u001b[0m\u001b[0;34m.\u001b[0m\u001b[0mupdate\u001b[0m\u001b[0;34m(\u001b[0m\u001b[0miterable\u001b[0m\u001b[0;34m)\u001b[0m \u001b[0;31m# fast path when counter is empty\u001b[0m\u001b[0;34m\u001b[0m\u001b[0;34m\u001b[0m\u001b[0m\n\u001b[1;32m    621\u001b[0m             \u001b[0;32melse\u001b[0m\u001b[0;34m:\u001b[0m\u001b[0;34m\u001b[0m\u001b[0;34m\u001b[0m\u001b[0m\n\u001b[0;32m--> 622\u001b[0;31m                 \u001b[0m_count_elements\u001b[0m\u001b[0;34m(\u001b[0m\u001b[0mself\u001b[0m\u001b[0;34m,\u001b[0m \u001b[0miterable\u001b[0m\u001b[0;34m)\u001b[0m\u001b[0;34m\u001b[0m\u001b[0;34m\u001b[0m\u001b[0m\n\u001b[0m\u001b[1;32m    623\u001b[0m         \u001b[0;32mif\u001b[0m \u001b[0mkwds\u001b[0m\u001b[0;34m:\u001b[0m\u001b[0;34m\u001b[0m\u001b[0;34m\u001b[0m\u001b[0m\n\u001b[1;32m    624\u001b[0m             \u001b[0mself\u001b[0m\u001b[0;34m.\u001b[0m\u001b[0mupdate\u001b[0m\u001b[0;34m(\u001b[0m\u001b[0mkwds\u001b[0m\u001b[0;34m)\u001b[0m\u001b[0;34m\u001b[0m\u001b[0;34m\u001b[0m\u001b[0m\n",
      "\u001b[0;31mKeyboardInterrupt\u001b[0m: "
     ]
    }
   ],
   "source": [
    "score_lim0 = 0\n",
    "score_lim1 = 1\n",
    "for (img1_id, img2_id), overlap_maps in tqdm_notebook(overlap_image_maps.items()):\n",
    "    if img1_id > img2_id:\n",
    "        # sanity check\n",
    "        raise ValueError(f'img1_id ({img1_id}) should be lexicographically smaller than img2_id ({img2_id})')\n",
    "    for img1_overlap_tag, scores in overlap_maps.items():\n",
    "        if (img1_id, img2_id, img1_overlap_tag) not in dup_truth:\n",
    "            continue\n",
    "        \n",
    "        is_dup = dup_truth[(img1_id, img2_id, img1_overlap_tag)]\n",
    "\n",
    "        if is_dup == 0 and np.max(scores.enp) > score_lim0:\n",
    "            score_lim0 = np.max(scores.enp)\n",
    "            print_score = True\n",
    "        elif is_dup == 1 and np.max(scores.enp) < score_lim1:\n",
    "            score_lim1 = np.max(scores.enp)\n",
    "            print_score = True\n",
    "        else:\n",
    "            print_score = False\n",
    "\n",
    "        if print_score:\n",
    "            img1_entropy_vec = get_entropy(img1_id)\n",
    "            img2_entropy_vec = get_entropy(img2_id)\n",
    "            img1_entropy_vec_norm = np.linalg.norm(img1_entropy_vec)\n",
    "            img2_entropy_vec_norm = np.linalg.norm(img2_entropy_vec)\n",
    "            n_vec = np.max([img1_entropy_vec_norm, img2_entropy_vec_norm])\n",
    "            img1_scaled_vec = img1_entropy_vec / n_vec\n",
    "            img2_scaled_vec = img2_entropy_vec / n_vec\n",
    "            grad_score = 1.0 - np.linalg.norm(img1_scaled_vec - img2_scaled_vec)\n",
    "\n",
    "            entropy2 = get_entropy2(img1_id, img2_id)\n",
    "            entropy2_norm = np.linalg.norm(entropy2)\n",
    "            \n",
    "            print('')\n",
    "            print(f'{is_dup}, {min(scores.bmh):7.5f}, {min(scores.cmh):7.5f}, {grad_score:7.5f}, {entropy2_norm}')\n",
    "            print(img1_id, img1_entropy_vec, f'{img1_entropy_vec_norm}')\n",
    "            print(img2_id, img2_entropy_vec, f'{img2_entropy_vec_norm}')\n",
    "            print(get_entropy(img1_id))\n",
    "            print(get_entropy(img2_id))\n",
    "            print(entropy2)\n",
    "            print(np.max(scores.enp))\n"
   ]
  },
  {
   "cell_type": "code",
   "execution_count": 7,
   "metadata": {},
   "outputs": [],
   "source": [
    "img1_id = '691d5afc2.jpg'\n",
    "img2_id = '56417e7af.jpg'"
   ]
  },
  {
   "cell_type": "code",
   "execution_count": 8,
   "metadata": {},
   "outputs": [
    {
     "name": "stdout",
     "output_type": "stream",
     "text": [
      "\n",
      "691d5afc2.jpg [3.94034022 4.35665835] 5.874244885888801\n",
      "56417e7af.jpg [13.06340313 17.32728654] 5.874244885888801\n",
      "2.699534368645378\n"
     ]
    }
   ],
   "source": [
    "img1_entropy_vec = get_entropy(img1_id)\n",
    "img2_entropy_vec = get_entropy(img2_id)\n",
    "img1_entropy_vec_norm = np.linalg.norm(img1_entropy_vec)\n",
    "img2_entropy_vec_norm = np.linalg.norm(img2_entropy_vec)\n",
    "n_vec = np.max([img1_entropy_vec_norm, img1_entropy_vec_norm])\n",
    "img1_scaled_vec = img1_entropy_vec / n_vec\n",
    "img2_scaled_vec = img2_entropy_vec / n_vec\n",
    "print('')\n",
    "print(img1_id, img1_entropy_vec, f'{img1_entropy_vec_norm}')\n",
    "print(img2_id, img2_entropy_vec, f'{img1_entropy_vec_norm}')\n",
    "print(f'{np.linalg.norm(img1_scaled_vec - img2_scaled_vec)}')"
   ]
  },
  {
   "cell_type": "code",
   "execution_count": 5,
   "metadata": {
    "scrolled": false
   },
   "outputs": [
    {
     "name": "stderr",
     "output_type": "stream",
     "text": [
      "/home/maddoxw/.virtualenvs/py36/lib/python3.6/site-packages/ipykernel_launcher.py:1: ParserWarning: Falling back to the 'python' engine because the 'c' engine does not support regex separators (separators > 1 char and different from '\\s+' are interpreted as regex); you can avoid this warning by specifying engine='python'.\n",
      "  \"\"\"Entry point for launching an IPython kernel.\n"
     ]
    },
    {
     "name": "stdout",
     "output_type": "stream",
     "text": [
      "0\n",
      "00021ddc3.jpg [31.25587833 33.27560909]\n",
      "7ca331f03.jpg [31.52266151 33.56411072]\n",
      "0.999999997782324 0.39294586549146265\n",
      "1\n",
      "0325c0ae2.jpg [76.62711606 93.65979495]\n",
      "c299c4851.jpg [69.19673716 84.51296692]\n",
      "0.9999999293861828 11.784523477805706\n",
      "2\n",
      "03a5fd8d2.jpg [67.90503771 76.395065  ]\n",
      "676f4cfd0.jpg [61.4407624 69.0712135]\n",
      "0.9999999318781267 9.768605640571934\n",
      "3\n",
      "053af774f.jpg [67.81021288 83.66730719]\n",
      "8175e0b3d.jpg [61.54553494 75.80713158]\n",
      "0.9999996457599276 10.051295945776511\n",
      "4\n",
      "0714173fd.jpg [64.08851073 79.41514541]\n",
      "44ebbee2b.jpg [70.57990889 87.61612316]\n",
      "0.9999996151357298 10.459172344294211\n",
      "5\n",
      "0a814feb5.jpg [62.02775408 68.34858778]\n",
      "9956b7091.jpg [55.94837654 61.63384584]\n",
      "0.9999999918067333 9.057957308411954\n",
      "6\n",
      "0dfd42c61.jpg [21.88167046 18.73323455]\n",
      "9e1e72979.jpg [21.87103774 18.73022473]\n",
      "0.9999999870814895 0.011050499667936907\n",
      "7\n",
      "10a6d5405.jpg [72.46752317 88.95808625]\n",
      "a8ec4d506.jpg [65.53761716 80.36819497]\n",
      "0.9999998721434803 11.036749042603036\n",
      "8\n",
      "110d6d7f0.jpg [59.2789396  73.61766418]\n",
      "569be1cad.jpg [65.35077441 81.31421522]\n",
      "0.9999995600472265 9.803268626060632\n",
      "9\n",
      "113a86366.jpg [69.16987253 86.54679838]\n",
      "59c786df4.jpg [62.75064094 78.39493918]\n",
      "0.9999997217650942 10.375902015484975\n",
      "10\n",
      "1174eb7a4.jpg [53.84427286 67.31166111]\n",
      "9c31768d7.jpg [59.59592971 74.63209979]\n",
      "0.9999996374597251 9.309692736941772\n",
      "11\n",
      "12753ae61.jpg [59.18242313 64.30560543]\n",
      "8b8435898.jpg [65.35149634 71.04410334]\n",
      "0.9999999691753076 9.13590818310429\n",
      "12\n",
      "128081944.jpg [23.89384844 20.22376464]\n",
      "afd74195a.jpg [23.90526386 20.22733291]\n",
      "0.9999999889686844 0.011960117974937153\n",
      "13\n",
      "14a3ed6c1.jpg [61.65797711 71.68931875]\n",
      "744137a27.jpg [68.18719035 79.34076095]\n",
      "0.9999999301403744 10.058588035249059\n",
      "14\n",
      "14efe448e.jpg [21.75868671 18.99027543]\n",
      "46f28abfd.jpg [21.76713967 18.99268286]\n",
      "0.9999999915994022 0.008789094146442081\n",
      "15\n",
      "155c83198.jpg [22.90031846 19.5746832 ]\n",
      "296389b2c.jpg [22.91350658 19.58233556]\n",
      "0.9999999958314191 0.015247452856552246\n",
      "16\n",
      "1560c5749.jpg [57.92601928 62.8237877 ]\n",
      "4f82f7c74.jpg [64.15527558 69.60112944]\n",
      "0.9999999882698315 9.20521564005499\n",
      "17\n",
      "17033af12.jpg [60.08014681 75.72743292]\n",
      "69f92a022.jpg [66.33107387 83.7193879 ]\n",
      "0.9999997836904125 10.146202910690471\n",
      "18\n",
      "1818c134a.jpg [60.91945418 76.51126895]\n",
      "d568197d7.jpg [55.13683127 69.14190404]\n",
      "0.9999997174400392 9.36729774472851\n",
      "19\n",
      "18722fb07.jpg [60.88560592 77.06652487]\n",
      "dd9316d80.jpg [54.98107406 69.48371952]\n",
      "0.9999997087404984 9.610537631336987\n",
      "20\n",
      "189730f1b.jpg [15.91583618 14.91265326]\n",
      "375c8f50f.jpg [16.39919934 15.34005512]\n",
      "0.9999996568000034 0.645222667850323\n",
      "21\n",
      "1a6dfbaca.jpg [16.93981187 16.02334713]\n",
      "b35895554.jpg [17.43768272 16.49574127]\n",
      "0.9999999990254367 0.6863174207702765\n",
      "22\n",
      "1b4bcf37d.jpg [21.49230856 17.14833389]\n",
      "27307efb0.jpg [21.48842555 17.149238  ]\n",
      "0.999999993525475 0.003986882946978421\n",
      "23\n",
      "1de0a0786.jpg [67.2914091  83.64226301]\n",
      "233b72847.jpg [61.01649445 75.72038821]\n",
      "0.9999996895372718 10.105971209079451\n",
      "24\n",
      "1ecc9189e.jpg [68.87449049 73.38663132]\n",
      "6cf02b0b0.jpg [62.22920659 66.25547912]\n",
      "0.9999999276698883 9.747467864139143\n",
      "25\n",
      "242b1d108.jpg [56.96365923 62.17425049]\n",
      "e6475ad49.jpg [63.15165326 68.95592105]\n",
      "0.9999999800518772 9.180540598843786\n",
      "26\n",
      "297aa9eaa.jpg [69.6425834  81.85705103]\n",
      "48005723d.jpg [62.94898322 73.90865471]\n",
      "0.9999998545005763 10.391404502015655\n",
      "27\n",
      "2bc37cefc.jpg [62.69625486 68.54061715]\n",
      "bf17465a3.jpg [56.58366796 61.84307492]\n",
      "0.9999999925517055 9.067568059202863\n",
      "28\n",
      "2cbbc7205.jpg [68.14923794 82.53633718]\n",
      "96f558b8a.jpg [75.4721545  91.45609275]\n",
      "0.9999999626716335 11.540673563541953\n",
      "29\n",
      "2d9abea7d.jpg [15.22473734 14.45031772]\n",
      "c3d1b5138.jpg [15.67825196 14.87222028]\n",
      "0.9999999588852235 0.6194168866578945\n",
      "30\n",
      "2dd990f5a.jpg [21.64398873 17.22833373]\n",
      "fd951e678.jpg [21.63792417 17.23084518]\n",
      "0.9999999784547267 0.006564013995556378\n",
      "31\n",
      "2e8fab3aa.jpg [24.97662031 18.97999172]\n",
      "5faa60524.jpg [24.97337877 18.97982704]\n",
      "0.9999999982978907 0.003245726560833459\n",
      "32\n",
      "2eae837f9.jpg [62.03209726 78.45053815]\n",
      "93ce8e026.jpg [56.06074408 70.7826824 ]\n",
      "0.9999996823964818 9.718696959861804\n",
      "33\n",
      "2ebd05c44.jpg [60.62426038 75.70978236]\n",
      "cd892acc5.jpg [66.84121813 83.61817253]\n",
      "0.9999996444328081 10.059483021451513\n",
      "34\n",
      "32dc89524.jpg [61.222211   64.82250154]\n",
      "ccfef76bf.jpg [67.71076533 71.74325372]\n",
      "0.999999937918167 9.48673537460993\n",
      "35\n",
      "33ec57afb.jpg [14.08448026 15.07808986]\n",
      "91cdf21c0.jpg [14.48459231 15.50737209]\n",
      "0.9999999995391955 0.5868329308616111\n",
      "36\n",
      "356607eb6.jpg [15.41973385 15.83892661]\n",
      "9c21b688e.jpg [14.98621191 15.40160487]\n",
      "0.9999999664022459 0.6157853311657582\n",
      "37\n",
      "3a55feb98.jpg [24.12518823 19.49746765]\n",
      "c429dc45d.jpg [24.12722507 19.5021185 ]\n",
      "0.9999999971628242 0.005077311097136904\n",
      "38\n",
      "3b1d497b5.jpg [61.88510827 78.27859922]\n",
      "fd10ac585.jpg [56.06366611 70.77475876]\n",
      "0.9999995357444873 9.497200140388403\n",
      "39\n",
      "3f1f0c44d.jpg [57.60436361 60.84005469]\n",
      "cab8de90e.jpg [63.82651628 67.43690499]\n",
      "0.9999999826000453 9.068275349580004\n",
      "40\n",
      "405d5b719.jpg [12.3121758 14.7878761]\n",
      "426032983.jpg [12.67246424 15.22175883]\n",
      "0.9999999993117998 0.5639698477212315\n",
      "41\n",
      "414d0c8ea.jpg [16.34673644 15.48916106]\n",
      "96b8cbad7.jpg [16.84042209 15.93625801]\n",
      "0.9999997902175538 0.6660489482600535\n",
      "42\n",
      "43dc2d1f3.jpg [13.05759626 15.40204143]\n",
      "ebb64e99d.jpg [13.42910988 15.84024828]\n",
      "0.9999999999999443 0.5744977061169411\n",
      "43\n",
      "43fa8864a.jpg [66.21854946 83.16238222]\n",
      "aadcd473f.jpg [59.90107655 75.14612225]\n",
      "0.9999998577499207 10.206414053351889\n",
      "44\n",
      "492c2fcbc.jpg [62.32732092 66.10420659]\n",
      "5a0566f13.jpg [56.1670422  59.52124639]\n",
      "0.9999999143185669 9.015786094370185\n",
      "45\n",
      "4c608ebcd.jpg [22.45627075 19.24076171]\n",
      "c282ac821.jpg [22.46189852 19.24643299]\n",
      "0.9999999997622755 0.007989688599959199\n",
      "46\n",
      "4e796a009.jpg [58.81374813 63.74730264]\n",
      "6bd4b8479.jpg [65.08121907 70.57591091]\n",
      "0.9999999687498164 9.268823168343529\n",
      "47\n",
      "50fcf9188.jpg [61.43050242 68.54584864]\n",
      "8ff2e334e.jpg [67.93003506 75.84055987]\n",
      "0.9999999614614704 9.770196334744966\n",
      "48\n",
      "52387d5ab.jpg [22.38561067 17.2788746 ]\n",
      "c8ddd1d53.jpg [22.38632984 17.27623467]\n",
      "0.9999999959999477 0.002736138571677861\n",
      "49\n",
      "53e88abe7.jpg [69.23088504 86.74482122]\n",
      "ba2cd9947.jpg [62.81698137 78.57127586]\n",
      "0.9999996388260195 10.389658507027205\n",
      "50\n",
      "55a0e59a1.jpg [73.24037942 90.08950015]\n",
      "b9ad91ade.jpg [66.20205412 81.33052328]\n",
      "0.9999998137290442 11.236445122697996\n",
      "51\n",
      "562de9eb6.jpg [22.85945597 19.39144381]\n",
      "60de17dbf.jpg [22.86086264 19.39077814]\n",
      "0.9999999988818566 0.0015562301152753743\n",
      "52\n"
     ]
    },
    {
     "ename": "KeyboardInterrupt",
     "evalue": "",
     "output_type": "error",
     "traceback": [
      "\u001b[0;31m---------------------------------------------------------------------------\u001b[0m",
      "\u001b[0;31mKeyboardInterrupt\u001b[0m                         Traceback (most recent call last)",
      "\u001b[0;32m<ipython-input-5-d6117eff35e8>\u001b[0m in \u001b[0;36m<module>\u001b[0;34m\u001b[0m\n\u001b[1;32m      2\u001b[0m \u001b[0;32mfor\u001b[0m \u001b[0midx\u001b[0m\u001b[0;34m,\u001b[0m \u001b[0mrow\u001b[0m \u001b[0;32min\u001b[0m \u001b[0mdf\u001b[0m\u001b[0;34m.\u001b[0m\u001b[0miterrows\u001b[0m\u001b[0;34m(\u001b[0m\u001b[0;34m)\u001b[0m\u001b[0;34m:\u001b[0m\u001b[0;34m\u001b[0m\u001b[0;34m\u001b[0m\u001b[0m\n\u001b[1;32m      3\u001b[0m     \u001b[0mprint\u001b[0m\u001b[0;34m(\u001b[0m\u001b[0midx\u001b[0m\u001b[0;34m)\u001b[0m\u001b[0;34m\u001b[0m\u001b[0;34m\u001b[0m\u001b[0m\n\u001b[0;32m----> 4\u001b[0;31m     \u001b[0mimg1_entropy_vec\u001b[0m \u001b[0;34m=\u001b[0m \u001b[0mget_entropy\u001b[0m\u001b[0;34m(\u001b[0m\u001b[0mrow\u001b[0m\u001b[0;34m[\u001b[0m\u001b[0;34m'ImageId1'\u001b[0m\u001b[0;34m]\u001b[0m\u001b[0;34m)\u001b[0m\u001b[0;34m\u001b[0m\u001b[0;34m\u001b[0m\u001b[0m\n\u001b[0m\u001b[1;32m      5\u001b[0m     \u001b[0mimg1_entropy_vec_u\u001b[0m \u001b[0;34m=\u001b[0m \u001b[0mimg1_entropy_vec\u001b[0m \u001b[0;34m/\u001b[0m \u001b[0mnp\u001b[0m\u001b[0;34m.\u001b[0m\u001b[0mlinalg\u001b[0m\u001b[0;34m.\u001b[0m\u001b[0mnorm\u001b[0m\u001b[0;34m(\u001b[0m\u001b[0mimg1_entropy_vec\u001b[0m\u001b[0;34m)\u001b[0m\u001b[0;34m\u001b[0m\u001b[0;34m\u001b[0m\u001b[0m\n\u001b[1;32m      6\u001b[0m     \u001b[0mprint\u001b[0m\u001b[0;34m(\u001b[0m\u001b[0mrow\u001b[0m\u001b[0;34m[\u001b[0m\u001b[0;34m'ImageId1'\u001b[0m\u001b[0;34m]\u001b[0m\u001b[0;34m,\u001b[0m \u001b[0mimg1_entropy_vec\u001b[0m\u001b[0;34m)\u001b[0m\u001b[0;34m\u001b[0m\u001b[0;34m\u001b[0m\u001b[0m\n",
      "\u001b[0;32m<ipython-input-4-de539cb6b466>\u001b[0m in \u001b[0;36mget_entropy\u001b[0;34m(img_id)\u001b[0m\n\u001b[1;32m     10\u001b[0m     \u001b[0mentropy_list\u001b[0m \u001b[0;34m=\u001b[0m \u001b[0;34m[\u001b[0m\u001b[0;34m]\u001b[0m\u001b[0;34m\u001b[0m\u001b[0;34m\u001b[0m\u001b[0m\n\u001b[1;32m     11\u001b[0m     \u001b[0;32mfor\u001b[0m \u001b[0mchannel_grad\u001b[0m \u001b[0;32min\u001b[0m \u001b[0mimg_grad\u001b[0m\u001b[0;34m:\u001b[0m\u001b[0;34m\u001b[0m\u001b[0;34m\u001b[0m\u001b[0m\n\u001b[0;32m---> 12\u001b[0;31m         \u001b[0mctr\u001b[0m \u001b[0;34m=\u001b[0m \u001b[0mCounter\u001b[0m\u001b[0;34m(\u001b[0m\u001b[0mnp\u001b[0m\u001b[0;34m.\u001b[0m\u001b[0mabs\u001b[0m\u001b[0;34m(\u001b[0m\u001b[0mchannel_grad\u001b[0m\u001b[0;34m)\u001b[0m\u001b[0;34m.\u001b[0m\u001b[0mflatten\u001b[0m\u001b[0;34m(\u001b[0m\u001b[0;34m)\u001b[0m\u001b[0;34m)\u001b[0m\u001b[0;34m\u001b[0m\u001b[0;34m\u001b[0m\u001b[0m\n\u001b[0m\u001b[1;32m     13\u001b[0m         \u001b[0mentropy_list\u001b[0m\u001b[0;34m.\u001b[0m\u001b[0mappend\u001b[0m\u001b[0;34m(\u001b[0m\u001b[0mget_channel_entropy\u001b[0m\u001b[0;34m(\u001b[0m\u001b[0mctr\u001b[0m\u001b[0;34m,\u001b[0m \u001b[0mimg\u001b[0m\u001b[0;34m.\u001b[0m\u001b[0msize\u001b[0m\u001b[0;34m)\u001b[0m\u001b[0;34m)\u001b[0m\u001b[0;34m\u001b[0m\u001b[0;34m\u001b[0m\u001b[0m\n\u001b[1;32m     14\u001b[0m     \u001b[0;32mreturn\u001b[0m \u001b[0mnp\u001b[0m\u001b[0;34m.\u001b[0m\u001b[0marray\u001b[0m\u001b[0;34m(\u001b[0m\u001b[0mentropy_list\u001b[0m\u001b[0;34m)\u001b[0m\u001b[0;34m\u001b[0m\u001b[0;34m\u001b[0m\u001b[0m\n",
      "\u001b[0;32m~/.virtualenvs/py36/lib/python3.6/collections/__init__.py\u001b[0m in \u001b[0;36m__init__\u001b[0;34m(*args, **kwds)\u001b[0m\n\u001b[1;32m    533\u001b[0m             \u001b[0;32mraise\u001b[0m \u001b[0mTypeError\u001b[0m\u001b[0;34m(\u001b[0m\u001b[0;34m'expected at most 1 arguments, got %d'\u001b[0m \u001b[0;34m%\u001b[0m \u001b[0mlen\u001b[0m\u001b[0;34m(\u001b[0m\u001b[0margs\u001b[0m\u001b[0;34m)\u001b[0m\u001b[0;34m)\u001b[0m\u001b[0;34m\u001b[0m\u001b[0;34m\u001b[0m\u001b[0m\n\u001b[1;32m    534\u001b[0m         \u001b[0msuper\u001b[0m\u001b[0;34m(\u001b[0m\u001b[0mCounter\u001b[0m\u001b[0;34m,\u001b[0m \u001b[0mself\u001b[0m\u001b[0;34m)\u001b[0m\u001b[0;34m.\u001b[0m\u001b[0m__init__\u001b[0m\u001b[0;34m(\u001b[0m\u001b[0;34m)\u001b[0m\u001b[0;34m\u001b[0m\u001b[0;34m\u001b[0m\u001b[0m\n\u001b[0;32m--> 535\u001b[0;31m         \u001b[0mself\u001b[0m\u001b[0;34m.\u001b[0m\u001b[0mupdate\u001b[0m\u001b[0;34m(\u001b[0m\u001b[0;34m*\u001b[0m\u001b[0margs\u001b[0m\u001b[0;34m,\u001b[0m \u001b[0;34m**\u001b[0m\u001b[0mkwds\u001b[0m\u001b[0;34m)\u001b[0m\u001b[0;34m\u001b[0m\u001b[0;34m\u001b[0m\u001b[0m\n\u001b[0m\u001b[1;32m    536\u001b[0m \u001b[0;34m\u001b[0m\u001b[0m\n\u001b[1;32m    537\u001b[0m     \u001b[0;32mdef\u001b[0m \u001b[0m__missing__\u001b[0m\u001b[0;34m(\u001b[0m\u001b[0mself\u001b[0m\u001b[0;34m,\u001b[0m \u001b[0mkey\u001b[0m\u001b[0;34m)\u001b[0m\u001b[0;34m:\u001b[0m\u001b[0;34m\u001b[0m\u001b[0;34m\u001b[0m\u001b[0m\n",
      "\u001b[0;32m~/.virtualenvs/py36/lib/python3.6/collections/__init__.py\u001b[0m in \u001b[0;36mupdate\u001b[0;34m(*args, **kwds)\u001b[0m\n\u001b[1;32m    620\u001b[0m                     \u001b[0msuper\u001b[0m\u001b[0;34m(\u001b[0m\u001b[0mCounter\u001b[0m\u001b[0;34m,\u001b[0m \u001b[0mself\u001b[0m\u001b[0;34m)\u001b[0m\u001b[0;34m.\u001b[0m\u001b[0mupdate\u001b[0m\u001b[0;34m(\u001b[0m\u001b[0miterable\u001b[0m\u001b[0;34m)\u001b[0m \u001b[0;31m# fast path when counter is empty\u001b[0m\u001b[0;34m\u001b[0m\u001b[0;34m\u001b[0m\u001b[0m\n\u001b[1;32m    621\u001b[0m             \u001b[0;32melse\u001b[0m\u001b[0;34m:\u001b[0m\u001b[0;34m\u001b[0m\u001b[0;34m\u001b[0m\u001b[0m\n\u001b[0;32m--> 622\u001b[0;31m                 \u001b[0m_count_elements\u001b[0m\u001b[0;34m(\u001b[0m\u001b[0mself\u001b[0m\u001b[0;34m,\u001b[0m \u001b[0miterable\u001b[0m\u001b[0;34m)\u001b[0m\u001b[0;34m\u001b[0m\u001b[0;34m\u001b[0m\u001b[0m\n\u001b[0m\u001b[1;32m    623\u001b[0m         \u001b[0;32mif\u001b[0m \u001b[0mkwds\u001b[0m\u001b[0;34m:\u001b[0m\u001b[0;34m\u001b[0m\u001b[0;34m\u001b[0m\u001b[0m\n\u001b[1;32m    624\u001b[0m             \u001b[0mself\u001b[0m\u001b[0;34m.\u001b[0m\u001b[0mupdate\u001b[0m\u001b[0;34m(\u001b[0m\u001b[0mkwds\u001b[0m\u001b[0;34m)\u001b[0m\u001b[0;34m\u001b[0m\u001b[0;34m\u001b[0m\u001b[0m\n",
      "\u001b[0;31mKeyboardInterrupt\u001b[0m: "
     ]
    }
   ],
   "source": [
    "df = pd.read_csv('data/processed/dup_blacklist_6.csv', sep=', ')\n",
    "for idx, row in df.iterrows():\n",
    "    print(idx)\n",
    "    img1_entropy_vec = get_entropy(row['ImageId1'])\n",
    "    img1_entropy_vec_u = img1_entropy_vec / np.linalg.norm(img1_entropy_vec)\n",
    "    print(row['ImageId1'], img1_entropy_vec)\n",
    "    img2_entropy_vec = get_entropy(row['ImageId2'])\n",
    "    img2_entropy_vec_u = img2_entropy_vec / np.linalg.norm(img2_entropy_vec)\n",
    "    print(row['ImageId2'], img2_entropy_vec)\n",
    "    print(np.dot(img1_entropy_vec_u, img2_entropy_vec_u), np.linalg.norm(img1_entropy_vec - img2_entropy_vec))"
   ]
  },
  {
   "cell_type": "code",
   "execution_count": null,
   "metadata": {},
   "outputs": [],
   "source": []
  }
 ],
 "metadata": {
  "kernelspec": {
   "display_name": "Python 3",
   "language": "python",
   "name": "python3"
  },
  "language_info": {
   "codemirror_mode": {
    "name": "ipython",
    "version": 3
   },
   "file_extension": ".py",
   "mimetype": "text/x-python",
   "name": "python",
   "nbconvert_exporter": "python",
   "pygments_lexer": "ipython3",
   "version": "3.6.6"
  },
  "pycharm": {
   "stem_cell": {
    "cell_type": "raw",
    "source": [],
    "metadata": {
     "collapsed": false
    }
   }
  }
 },
 "nbformat": 4,
 "nbformat_minor": 1
}