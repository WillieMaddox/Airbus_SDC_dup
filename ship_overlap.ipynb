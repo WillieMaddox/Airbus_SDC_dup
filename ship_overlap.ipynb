{
 "cells": [
  {
   "cell_type": "code",
   "execution_count": 2,
   "metadata": {
    "scrolled": true
   },
   "outputs": [],
   "source": [
    "import numpy as np\n",
    "from tqdm import tqdm_notebook\n",
    "\n",
    "from sdcdup.utils import overlap_tag_pairs\n",
    "from sdcdup.utils import overlap_tag_maps\n",
    "from sdcdup.utils import load_duplicate_truth\n",
    "\n",
    "from sdcdup.features.image_features import SDCImageContainer\n",
    "from sdcdup.features.image_features import load_image_overlap_properties\n",
    "\n",
    "%reload_ext autoreload\n",
    "%autoreload 2\n",
    "\n",
    "# SENDTOENV\n",
    "image_shipcnt_grids_file = 'data/interim/image_shipcnt_grids.pkl'"
   ]
  },
  {
   "cell_type": "code",
   "execution_count": 6,
   "metadata": {},
   "outputs": [
    {
     "name": "stderr",
     "output_type": "stream",
     "text": [
      "100%|██████████| 192555/192555 [00:00<00:00, 414534.69it/s]\n"
     ]
    }
   ],
   "source": [
    "sdcic = SDCImageContainer()\n",
    "sdcic.preprocess_label_properties(\n",
    "    image_shipcnt_grids_file)"
   ]
  },
  {
   "cell_type": "code",
   "execution_count": 10,
   "metadata": {},
   "outputs": [
    {
     "name": "stdout",
     "output_type": "stream",
     "text": [
      "128950\n"
     ]
    }
   ],
   "source": [
    "dup_truth = load_duplicate_truth()\n",
    "print(len(dup_truth))"
   ]
  },
  {
   "cell_type": "code",
   "execution_count": 8,
   "metadata": {},
   "outputs": [
    {
     "name": "stderr",
     "output_type": "stream",
     "text": [
      "100%|██████████| 259/259 [00:00<00:00, 75037.97it/s]\n",
      "100%|██████████| 82823/82823 [00:01<00:00, 49774.33it/s]\n",
      "100%|██████████| 72629/72629 [00:01<00:00, 52706.78it/s]\n",
      "100%|██████████| 75936/75936 [00:01<00:00, 49248.88it/s]"
     ]
    },
    {
     "name": "stdout",
     "output_type": "stream",
     "text": [
      "227355\n"
     ]
    },
    {
     "name": "stderr",
     "output_type": "stream",
     "text": [
      "\n"
     ]
    }
   ],
   "source": [
    "# score_types = ['bmh', 'cmh', 'con', 'hom', 'eng', 'cor', 'epy', 'enp', 'pix', 'px0', 'shp']\n",
    "n_matching_tiles_list = [9, 6, 4, 3, 2, 1]\n",
    "overlap_image_maps = load_image_overlap_properties(n_matching_tiles_list)\n",
    "print(len(overlap_image_maps))"
   ]
  },
  {
   "cell_type": "markdown",
   "metadata": {},
   "source": [
    "## Find overlaps with ships"
   ]
  },
  {
   "cell_type": "code",
   "execution_count": 12,
   "metadata": {},
   "outputs": [
    {
     "data": {
      "application/vnd.jupyter.widget-view+json": {
       "model_id": "f2a23ded4cdf4f30abdda5dc9a1f3554",
       "version_major": 2,
       "version_minor": 0
      },
      "text/plain": [
       "HBox(children=(IntProgress(value=0, max=227355), HTML(value='')))"
      ]
     },
     "metadata": {},
     "output_type": "display_data"
    },
    {
     "name": "stdout",
     "output_type": "stream",
     "text": [
      "\n"
     ]
    },
    {
     "data": {
      "text/plain": [
       "(227355, 96065)"
      ]
     },
     "execution_count": 12,
     "metadata": {},
     "output_type": "execute_result"
    }
   ],
   "source": [
    "untested_image_pairs_with_ship_masks = []\n",
    "for (img1_id, img2_id), overlap_maps in tqdm_notebook(overlap_image_maps.items()):\n",
    "    # TODO: Find out which remaining tile pairs have masks but aren't in dup_truth.\n",
    "\n",
    "    mask1 = sdcic.tile_shipcnt_grids[img1_id]\n",
    "    mask2 = sdcic.tile_shipcnt_grids[img2_id]\n",
    "    \n",
    "    has_mask1 = np.sum(mask1) > 0\n",
    "    has_mask2 = np.sum(mask2) > 0\n",
    "\n",
    "    if not (has_mask1 and has_mask2):\n",
    "        continue\n",
    "\n",
    "    for img1_overlap_tag in overlap_maps:\n",
    "        if (img1_id, img2_id, img1_overlap_tag) in dup_truth:\n",
    "            continue\n",
    "        untested_image_pairs_with_ship_masks.append((img1_id, img2_id))\n",
    "        break\n",
    "\n",
    "len(overlap_image_maps), len(untested_image_pairs_with_ship_masks)"
   ]
  },
  {
   "cell_type": "code",
   "execution_count": 11,
   "metadata": {},
   "outputs": [
    {
     "data": {
      "application/vnd.jupyter.widget-view+json": {
       "model_id": "18c13060a0334fa0b34c1bdcf63f8bd3",
       "version_major": 2,
       "version_minor": 0
      },
      "text/plain": [
       "HBox(children=(IntProgress(value=0, max=227355), HTML(value='')))"
      ]
     },
     "metadata": {},
     "output_type": "display_data"
    },
    {
     "name": "stdout",
     "output_type": "stream",
     "text": [
      "\n"
     ]
    },
    {
     "data": {
      "text/plain": [
       "(227355, 85589)"
      ]
     },
     "execution_count": 11,
     "metadata": {},
     "output_type": "execute_result"
    }
   ],
   "source": [
    "untested_overlaps_with_ship_masks = []\n",
    "for (img1_id, img2_id), overlap_maps in tqdm_notebook(overlap_image_maps.items()):\n",
    "    # TODO: Find out which remaining tile pairs have masks but aren't in dup_truth.\n",
    "\n",
    "    mask1 = sdcic.tile_shipcnt_grids[img1_id]\n",
    "    mask2 = sdcic.tile_shipcnt_grids[img2_id]\n",
    "    \n",
    "    has_mask1 = np.sum(mask1) > 0\n",
    "    has_mask2 = np.sum(mask2) > 0\n",
    "\n",
    "    if not (has_mask1 and has_mask2):\n",
    "        continue\n",
    "\n",
    "    for img1_overlap_tag in overlap_maps:\n",
    "        if (img1_id, img2_id, img1_overlap_tag) in dup_truth:\n",
    "            continue\n",
    "\n",
    "        mask1_slice_total = np.sum(mask1[overlap_tag_maps[img1_overlap_tag]])\n",
    "        mask2_slice_total = np.sum(mask2[overlap_tag_maps[overlap_tag_pairs[img1_overlap_tag]]])\n",
    "\n",
    "        if mask1_slice_total + mask2_slice_total < 1:\n",
    "            continue\n",
    "\n",
    "        untested_overlaps_with_ship_masks.append((img1_id, img2_id, img1_overlap_tag))\n",
    "\n",
    "len(overlap_image_maps), len(untested_overlaps_with_ship_masks)"
   ]
  }
 ],
 "metadata": {
  "kernelspec": {
   "display_name": "Python 3",
   "language": "python",
   "name": "python3"
  },
  "language_info": {
   "codemirror_mode": {
    "name": "ipython",
    "version": 3
   },
   "file_extension": ".py",
   "mimetype": "text/x-python",
   "name": "python",
   "nbconvert_exporter": "python",
   "pygments_lexer": "ipython3",
   "version": "3.6.6"
  },
  "pycharm": {
   "stem_cell": {
    "cell_type": "raw",
    "source": [],
    "metadata": {
     "collapsed": false
    }
   }
  }
 },
 "nbformat": 4,
 "nbformat_minor": 1
}